{
 "cells": [
  {
   "cell_type": "markdown",
   "metadata": {
    "toc": true
   },
   "source": [
    "<h1>目录<span class=\"tocSkip\"></span></h1>\n",
    "<div class=\"toc\"><ul class=\"toc-item\"><li><span><a href=\"#我们开始吧\" data-toc-modified-id=\"我们开始吧-1\">我们开始吧</a></span><ul class=\"toc-item\"><li><span><a href=\"#做一些准备工作\" data-toc-modified-id=\"做一些准备工作-1.1\">做一些准备工作</a></span><ul class=\"toc-item\"><li><span><a href=\"#引入库及模块\" data-toc-modified-id=\"引入库及模块-1.1.1\">引入库及模块</a></span></li><li><span><a href=\"#预定义变量\" data-toc-modified-id=\"预定义变量-1.1.2\">预定义变量</a></span></li></ul></li><li><span><a href=\"#录入你的个人信息\" data-toc-modified-id=\"录入你的个人信息-1.2\">录入你的个人信息</a></span></li></ul></li></ul></div>"
   ]
  },
  {
   "cell_type": "markdown",
   "metadata": {},
   "source": [
    "# 我们开始吧"
   ]
  },
  {
   "cell_type": "markdown",
   "metadata": {},
   "source": [
    "这里是说明文字"
   ]
  },
  {
   "cell_type": "code",
   "execution_count": 149,
   "metadata": {
    "ExecuteTime": {
     "end_time": "2019-04-10T03:32:08.361602Z",
     "start_time": "2019-04-10T03:32:08.350997Z"
    }
   },
   "outputs": [],
   "source": [
    "# 颜值： look [\"低\", \"一般\", \"高\"]\n",
    "# 成绩： grade [\"较差\", \"一般\", \"优秀\"]\n",
    "# 爱好： hobby [\"毫不相关\", \"互补\", \"相似\"]\n",
    "# 年龄： age [\"更小\", \"同级\", \"更大\"]\n",
    "# 身高： height [\"对方更矮一些\", \"相似（5cm以内）\", \"对方更高一些\"]\n",
    "# 家庭： family [\"不那么好\", \"一般\", \"更好\"]"
   ]
  },
  {
   "cell_type": "markdown",
   "metadata": {},
   "source": [
    "## 做一些准备工作"
   ]
  },
  {
   "cell_type": "markdown",
   "metadata": {},
   "source": [
    "### 引入库及模块"
   ]
  },
  {
   "cell_type": "code",
   "execution_count": 150,
   "metadata": {
    "ExecuteTime": {
     "end_time": "2019-04-10T03:32:08.419454Z",
     "start_time": "2019-04-10T03:32:08.395768Z"
    }
   },
   "outputs": [],
   "source": [
    "# 控件库\n",
    "import ipywidgets as widgets\n",
    "# 显示控件的方法\n",
    "from IPython.display import display"
   ]
  },
  {
   "cell_type": "markdown",
   "metadata": {},
   "source": [
    "### 预定义变量"
   ]
  },
  {
   "cell_type": "code",
   "execution_count": 164,
   "metadata": {
    "ExecuteTime": {
     "end_time": "2019-04-10T03:48:07.062251Z",
     "start_time": "2019-04-10T03:48:07.042369Z"
    },
    "code_folding": [],
    "hide_input": false
   },
   "outputs": [],
   "source": [
    "# @description 基于指定的 field 将 dict_list 转换为 list\n",
    "# @param list 待处理的 dict_list\n",
    "# @param aim_list? 目标输出 list\n",
    "# @param field? 要提取的字段名\n",
    "# @return list 一个新的 list\n",
    "def substractList(list, aim_list=[], field='value'):\n",
    "    new_list = aim_list[:]\n",
    "    for item in list:\n",
    "        new_list.append(item[field])\n",
    "    return new_list\n",
    "\n",
    "\n",
    "# @description\n",
    "# @param dict 需要遍历处理的字典\n",
    "# @param fn 字典字段值的处理函数，该函数第一参数为字典字段值，输出处理后的字段值\n",
    "# @param fn_args 传给处理函数（fn）的参数\n",
    "# @return dict 一个新的字典\n",
    "def dictForEach(dict, fn, fn_args):\n",
    "    new_dict = {}\n",
    "    for name, item in dict.items():\n",
    "        new_dict[name] = fn(item, **fn_args)\n",
    "    return new_dict"
   ]
  },
  {
   "cell_type": "code",
   "execution_count": 168,
   "metadata": {
    "ExecuteTime": {
     "end_time": "2019-04-10T03:57:13.288528Z",
     "start_time": "2019-04-10T03:57:13.255653Z"
    },
    "code_folding": [
     24
    ]
   },
   "outputs": [],
   "source": [
    "# 预定义属性名列表\n",
    "attr_list = [{\n",
    "    \"zh\": \"颜值\",\n",
    "    \"en\": \"look\"\n",
    "}, {\n",
    "    \"zh\": \"成绩\",\n",
    "    \"en\": \"grade\"\n",
    "}, {\n",
    "    \"zh\": \"爱好\",\n",
    "    \"en\": \"hobby\"\n",
    "}, {\n",
    "    \"zh\": \"年龄\",\n",
    "    \"en\": \"age\"\n",
    "},{\n",
    "    \"zh\": \"身高\",\n",
    "    \"en\": \"height\"\n",
    "}, {\n",
    "    \"zh\": \"家庭\",\n",
    "    \"en\": \"family\"\n",
    "}]\n",
    "attr_list_en = substratList(attr_list, field = 'en')\n",
    "attr_list_zh = substratList(attr_list, field = 'zh')\n",
    "\n",
    "# 预定义属性及值的字典\n",
    "dict = {\n",
    "    \"look\": [{\n",
    "        \"name\": \"\",\n",
    "        \"value\": 0\n",
    "    },{\n",
    "        \"name\": \"低\",\n",
    "        \"value\": 1\n",
    "    }, {\n",
    "        \"name\": \"一般\",\n",
    "        \"value\": 2\n",
    "    }, {\n",
    "        \"name\": \"高\",\n",
    "        \"value\": 3\n",
    "    }],\n",
    "    \"grade\": [{\n",
    "        \"name\": \"较差\",\n",
    "        \"value\": 0\n",
    "    }, {\n",
    "        \"name\": \"一般\",\n",
    "        \"value\": 1 \n",
    "    }, {\n",
    "        \"name\": \"优秀\",\n",
    "        \"value\": 2\n",
    "    }],\n",
    "    \"hobby\": [{\n",
    "        \"name\": \"毫不相关\",\n",
    "        \"value\": 0\n",
    "    }, {\n",
    "        \"name\": \"互补\",\n",
    "        \"value\": 1\n",
    "    }, {\n",
    "        \"name\": \"相似\",\n",
    "        \"value\": 2\n",
    "    }],\n",
    "    \"age\": [{\n",
    "        \"name\": \"更小\",\n",
    "        \"value\": 0\n",
    "    }, {\n",
    "        \"name\": \"同级\",\n",
    "        \"value\": 1\n",
    "    }, {\n",
    "        \"name\": \"更大\",\n",
    "        \"value\": 2\n",
    "    }],\n",
    "    \"height\": [{\n",
    "        \"name\": \"对方更矮一些\",\n",
    "        \"value\": 0\n",
    "    }, {\n",
    "        \"name\": \"相似（5cm以内）\",\n",
    "        \"value\": 1\n",
    "    }, {\n",
    "        \"name\": \"对方更高一些\",\n",
    "        \"value\": 2\n",
    "    }],\n",
    "    \"family\": [{\n",
    "        \"name\": \"不那么好\",\n",
    "        \"value\": 0\n",
    "    }, {\n",
    "        \"name\": \"一般\",\n",
    "        \"value\": 1 \n",
    "    }, {\n",
    "        \"name\": \"更好\",\n",
    "        \"value\": 2\n",
    "    }]\n",
    "}\n",
    "# 预定义属性及值的列表\n",
    "name_list_dict = dictForEach(dict, substractList, {\"field\": \"name\"})"
   ]
  },
  {
   "cell_type": "code",
   "execution_count": 153,
   "metadata": {
    "ExecuteTime": {
     "end_time": "2019-04-10T03:32:08.546109Z",
     "start_time": "2019-04-10T03:32:08.532145Z"
    },
    "code_folding": [],
    "scrolled": false
   },
   "outputs": [
    {
     "name": "stdout",
     "output_type": "stream",
     "text": [
      "预定义的属性包括：dict_keys(['look', 'grade', 'hobby', 'age', 'height', 'family'])\n",
      "预定义属性及值的列表：{'look': ['', '低', '一般', '高'], 'grade': ['较差', '一般', '优秀'], 'hobby': ['毫不相关', '互补', '相似'], 'age': ['更小', '同级', '更大'], 'height': ['对方更矮一些', '相似（5cm以内）', '对方更高一些'], 'family': ['不那么好', '一般', '更好']}\n"
     ]
    }
   ],
   "source": [
    "print('预定义的属性包括：{keys}'.format(keys = dict.keys()))\n",
    "print('预定义属性及值的列表：{list_dict}'.format(list_dict = list_dict))"
   ]
  },
  {
   "cell_type": "markdown",
   "metadata": {},
   "source": [
    "## 录入你的个人信息"
   ]
  },
  {
   "cell_type": "code",
   "execution_count": 154,
   "metadata": {
    "ExecuteTime": {
     "end_time": "2019-04-10T03:32:08.580611Z",
     "start_time": "2019-04-10T03:32:08.551615Z"
    },
    "hide_input": false
   },
   "outputs": [],
   "source": [
    "text = widgets.Text()\n",
    "# display(text)\n",
    "look = 11\n",
    "def print_value(sender):\n",
    "    global look\n",
    "    look = int(sender.value)\n",
    "#     print(sender.value)\n",
    "text.on_submit(print_value)"
   ]
  },
  {
   "cell_type": "code",
   "execution_count": 178,
   "metadata": {
    "ExecuteTime": {
     "end_time": "2019-04-10T04:02:37.828732Z",
     "start_time": "2019-04-10T04:02:37.633786Z"
    }
   },
   "outputs": [
    {
     "data": {
      "application/vnd.jupyter.widget-view+json": {
       "model_id": "8a3a8effff6b4eb6a66122149cab0f50",
       "version_major": 2,
       "version_minor": 0
      },
      "text/plain": [
       "Dropdown(description='颜值', options=('', '低', '一般', '高'), value='')"
      ]
     },
     "metadata": {},
     "output_type": "display_data"
    },
    {
     "data": {
      "application/vnd.jupyter.widget-view+json": {
       "model_id": "f7ed7fdeab08448786f08431bd1cf47e",
       "version_major": 2,
       "version_minor": 0
      },
      "text/plain": [
       "Dropdown(description='成绩', options=('较差', '一般', '优秀'), value='较差')"
      ]
     },
     "metadata": {},
     "output_type": "display_data"
    },
    {
     "data": {
      "application/vnd.jupyter.widget-view+json": {
       "model_id": "af1526f44ec74d4c9fd5726f0a797d60",
       "version_major": 2,
       "version_minor": 0
      },
      "text/plain": [
       "Dropdown(description='爱好', options=('毫不相关', '互补', '相似'), value='毫不相关')"
      ]
     },
     "metadata": {},
     "output_type": "display_data"
    },
    {
     "data": {
      "application/vnd.jupyter.widget-view+json": {
       "model_id": "c6b675adaffe4e81924506b0f658c06b",
       "version_major": 2,
       "version_minor": 0
      },
      "text/plain": [
       "Dropdown(description='年龄', options=('更小', '同级', '更大'), value='更小')"
      ]
     },
     "metadata": {},
     "output_type": "display_data"
    },
    {
     "data": {
      "application/vnd.jupyter.widget-view+json": {
       "model_id": "e68ed31b39124d9aa8427f158a5f8668",
       "version_major": 2,
       "version_minor": 0
      },
      "text/plain": [
       "Dropdown(description='身高', options=('对方更矮一些', '相似（5cm以内）', '对方更高一些'), value='对方更矮一些')"
      ]
     },
     "metadata": {},
     "output_type": "display_data"
    }
   ],
   "source": [
    "\n",
    "dropdowns = []\n",
    "\n",
    "def generateDropdowns():\n",
    "    global dropdowns\n",
    "    for i in range(0, len(attr_list)-1):\n",
    "        slt = widgets.Dropdown(options = name_list_dict[attr_list_en[i]], description = attr_list_zh[i], disabled = False)\n",
    "        slt.observe(attr_event_handler,  names = ['value', 'index'])\n",
    "        dropdowns.append(slt)\n",
    "\n",
    "def attr_event_handler(attrs):\n",
    "    print(attrs)\n",
    "#     print(attrs.owner)\n",
    "#     print(attrs.owner.description)\n",
    "\n",
    "generateDropdowns()\n",
    "display(*dropdowns)"
   ]
  }
 ],
 "metadata": {
  "hide_input": false,
  "kernelspec": {
   "display_name": "Python 3",
   "language": "python",
   "name": "python3"
  },
  "language_info": {
   "codemirror_mode": {
    "name": "ipython",
    "version": 3
   },
   "file_extension": ".py",
   "mimetype": "text/x-python",
   "name": "python",
   "nbconvert_exporter": "python",
   "pygments_lexer": "ipython3",
   "version": "3.6.5"
  },
  "toc": {
   "base_numbering": 1,
   "nav_menu": {},
   "number_sections": false,
   "sideBar": true,
   "skip_h1_title": false,
   "title_cell": "目录",
   "title_sidebar": "Contents",
   "toc_cell": true,
   "toc_position": {},
   "toc_section_display": true,
   "toc_window_display": true
  },
  "varInspector": {
   "cols": {
    "lenName": 16,
    "lenType": 16,
    "lenVar": 40
   },
   "kernels_config": {
    "python": {
     "delete_cmd_postfix": "",
     "delete_cmd_prefix": "del ",
     "library": "var_list.py",
     "varRefreshCmd": "print(var_dic_list())"
    },
    "r": {
     "delete_cmd_postfix": ") ",
     "delete_cmd_prefix": "rm(",
     "library": "var_list.r",
     "varRefreshCmd": "cat(var_dic_list()) "
    }
   },
   "position": {
    "height": "458.4px",
    "left": "1358px",
    "right": "20px",
    "top": "120px",
    "width": "350px"
   },
   "types_to_exclude": [
    "module",
    "function",
    "builtin_function_or_method",
    "instance",
    "_Feature"
   ],
   "window_display": false
  }
 },
 "nbformat": 4,
 "nbformat_minor": 2
}
