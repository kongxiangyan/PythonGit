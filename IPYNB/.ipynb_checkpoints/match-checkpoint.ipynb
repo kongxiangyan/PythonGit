{
 "cells": [
  {
   "cell_type": "markdown",
   "metadata": {
    "toc": true
   },
   "source": [
    "<h1>目录<span class=\"tocSkip\"></span></h1>\n",
    "<div class=\"toc\"><ul class=\"toc-item\"><li><span><a href=\"#我们开始吧\" data-toc-modified-id=\"我们开始吧-1\">我们开始吧</a></span><ul class=\"toc-item\"><li><span><a href=\"#做一些准备工作\" data-toc-modified-id=\"做一些准备工作-1.1\">做一些准备工作</a></span></li></ul></li></ul></div>"
   ]
  },
  {
   "cell_type": "markdown",
   "metadata": {},
   "source": [
    "# 我们开始吧"
   ]
  },
  {
   "cell_type": "markdown",
   "metadata": {},
   "source": [
    "这里是说明文字"
   ]
  },
  {
   "cell_type": "code",
   "execution_count": 119,
   "metadata": {
    "ExecuteTime": {
     "end_time": "2019-04-09T16:10:32.830323Z",
     "start_time": "2019-04-09T16:10:32.827302Z"
    }
   },
   "outputs": [],
   "source": [
    "# 颜值： look [\"低\", \"一般\", \"高\"]\n",
    "# 成绩： grade [\"较差\", \"一般\", \"优秀\"]\n",
    "# 爱好： hobby [\"毫不相关\", \"互补\", \"相似\"]\n",
    "# 年龄： age [\"更小\", \"同级\", \"更大\"]\n",
    "# 身高： height [\"对方更矮一些\", \"相似（5cm以内）\", \"对方更高一些\"]\n",
    "# 家庭： family [\"不那么好\", \"一般\", \"更好\"]"
   ]
  },
  {
   "cell_type": "markdown",
   "metadata": {},
   "source": [
    "## 做一些准备工作"
   ]
  },
  {
   "cell_type": "code",
   "execution_count": 138,
   "metadata": {
    "ExecuteTime": {
     "end_time": "2019-04-09T16:23:24.437900Z",
     "start_time": "2019-04-09T16:23:24.433883Z"
    },
    "code_folding": [],
    "hide_input": false
   },
   "outputs": [],
   "source": [
    "# @description 将obj_arr dict转换为arr dict\n",
    "# @return arr list\n",
    "def dict2list(dict, list = {}):  \n",
    "    for attr, values in dict.items():\n",
    "        list[attr] = []\n",
    "        for value in values:\n",
    "            list[attr].append(value['name'])\n",
    "    return list"
   ]
  },
  {
   "cell_type": "code",
   "execution_count": 139,
   "metadata": {
    "ExecuteTime": {
     "end_time": "2019-04-09T16:23:25.728567Z",
     "start_time": "2019-04-09T16:23:25.720586Z"
    },
    "code_folding": [
     1
    ]
   },
   "outputs": [],
   "source": [
    "# 预定义属性及值的字典\n",
    "dict = {\n",
    "    \"look\": [{\n",
    "        \"name\": \"低\",\n",
    "        \"value\": 0\n",
    "    }, {\n",
    "        \"name\": \"一般\",\n",
    "        \"value\": 1\n",
    "    }, {\n",
    "        \"name\": \"高\",\n",
    "        \"value\": 2\n",
    "    }],\n",
    "    \"grade\": [{\n",
    "        \"name\": \"较差\",\n",
    "        \"value\": 0\n",
    "    }, {\n",
    "        \"name\": \"一般\",\n",
    "        \"value\": 1 \n",
    "    }, {\n",
    "        \"name\": \"优秀\",\n",
    "        \"value\": 2\n",
    "    }],\n",
    "    \"hobby\": [{\n",
    "        \"name\": \"毫不相关\",\n",
    "        \"value\": 0\n",
    "    }, {\n",
    "        \"name\": \"互补\",\n",
    "        \"value\": 1\n",
    "    }, {\n",
    "        \"name\": \"相似\",\n",
    "        \"value\": 2\n",
    "    }],\n",
    "    \"age\": [{\n",
    "        \"name\": \"更小\",\n",
    "        \"value\": 0\n",
    "    }, {\n",
    "        \"name\": \"同级\",\n",
    "        \"value\": 1\n",
    "    }, {\n",
    "        \"name\": \"更大\",\n",
    "        \"value\": 2\n",
    "    }],\n",
    "    \"height\": [{\n",
    "        \"name\": \"对方更矮一些\",\n",
    "        \"value\": 0\n",
    "    }, {\n",
    "        \"name\": \"相似（5cm以内）\",\n",
    "        \"value\": 1\n",
    "    }, {\n",
    "        \"name\": \"对方更高一些\",\n",
    "        \"value\": 2\n",
    "    }],\n",
    "    \"family\": [{\n",
    "        \"name\": \"不那么好\",\n",
    "        \"value\": 0\n",
    "    }, {\n",
    "        \"name\": \"一般\",\n",
    "        \"value\": 1 \n",
    "    }, {\n",
    "        \"name\": \"更好\",\n",
    "        \"value\": 2\n",
    "    }]\n",
    "}\n",
    "# 预定义属性及值的列表\n",
    "list_dict = dict2list(dict)"
   ]
  },
  {
   "cell_type": "code",
   "execution_count": 140,
   "metadata": {
    "ExecuteTime": {
     "end_time": "2019-04-09T16:23:27.021595Z",
     "start_time": "2019-04-09T16:23:27.017585Z"
    },
    "code_folding": [],
    "scrolled": false
   },
   "outputs": [
    {
     "name": "stdout",
     "output_type": "stream",
     "text": [
      "预定义的属性包括：dict_keys(['look', 'grade', 'hobby', 'age', 'height', 'family'])\n",
      "预定义属性及值的列表：{'look': ['低', '一般', '高'], 'grade': ['较差', '一般', '优秀'], 'hobby': ['毫不相关', '互补', '相似'], 'age': ['更小', '同级', '更大'], 'height': ['对方更矮一些', '相似（5cm以内）', '对方更高一些'], 'family': ['不那么好', '一般', '更好']}\n"
     ]
    }
   ],
   "source": [
    "print('预定义的属性包括：{keys}'.format(keys = dict.keys()))\n",
    "print('预定义属性及值的列表：{list_dict}'.format(list_dict = list_dict))"
   ]
  },
  {
   "cell_type": "markdown",
   "metadata": {},
   "source": [
    "## 可以"
   ]
  },
  {
   "cell_type": "code",
   "execution_count": 123,
   "metadata": {
    "ExecuteTime": {
     "end_time": "2019-04-09T16:10:32.873179Z",
     "start_time": "2019-04-09T16:10:32.866230Z"
    }
   },
   "outputs": [],
   "source": [
    "# "
   ]
  },
  {
   "cell_type": "code",
   "execution_count": null,
   "metadata": {},
   "outputs": [],
   "source": []
  }
 ],
 "metadata": {
  "hide_input": false,
  "kernelspec": {
   "display_name": "Python 3",
   "language": "python",
   "name": "python3"
  },
  "language_info": {
   "codemirror_mode": {
    "name": "ipython",
    "version": 3
   },
   "file_extension": ".py",
   "mimetype": "text/x-python",
   "name": "python",
   "nbconvert_exporter": "python",
   "pygments_lexer": "ipython3",
   "version": "3.7.1"
  },
  "toc": {
   "base_numbering": 1,
   "nav_menu": {},
   "number_sections": false,
   "sideBar": true,
   "skip_h1_title": false,
   "title_cell": "目录",
   "title_sidebar": "Contents",
   "toc_cell": true,
   "toc_position": {},
   "toc_section_display": true,
   "toc_window_display": true
  },
  "varInspector": {
   "cols": {
    "lenName": 16,
    "lenType": 16,
    "lenVar": 40
   },
   "kernels_config": {
    "python": {
     "delete_cmd_postfix": "",
     "delete_cmd_prefix": "del ",
     "library": "var_list.py",
     "varRefreshCmd": "print(var_dic_list())"
    },
    "r": {
     "delete_cmd_postfix": ") ",
     "delete_cmd_prefix": "rm(",
     "library": "var_list.r",
     "varRefreshCmd": "cat(var_dic_list()) "
    }
   },
   "types_to_exclude": [
    "module",
    "function",
    "builtin_function_or_method",
    "instance",
    "_Feature"
   ],
   "window_display": false
  }
 },
 "nbformat": 4,
 "nbformat_minor": 2
}
