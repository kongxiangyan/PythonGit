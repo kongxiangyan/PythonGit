{
 "cells": [
  {
   "cell_type": "markdown",
   "metadata": {},
   "source": [
    "# <center>3.1 HTML 操作文档</center>"
   ]
  },
  {
   "cell_type": "code",
   "execution_count": 1,
   "metadata": {},
   "outputs": [
    {
     "name": "stdout",
     "output_type": "stream",
     "text": [
      "What color do you like?\n"
     ]
    }
   ],
   "source": [
    "# 用 Python 解析 HTML \n",
    "from bs4 import BeautifulSoup\n",
    "\n",
    "page = \"\"\"\n",
    "<p id=\"question\">What color do you like?</p>\n",
    "<a href=\"/blue\">I like blue.</a>\n",
    "<p class=\"paragraph red\">I prefer red!</p>\n",
    "\"\"\"\n",
    "\n",
    "soup = BeautifulSoup(page) # 创建一个 soup 对象\n",
    "\n",
    "matched_elements = soup.select('#question')\n",
    "question = matched_elements[0].text\n",
    "print(question)\n"
   ]
  }
 ],
 "metadata": {
  "kernelspec": {
   "display_name": "Python 3",
   "language": "python",
   "name": "python3"
  },
  "language_info": {
   "codemirror_mode": {
    "name": "ipython",
    "version": 3
   },
   "file_extension": ".py",
   "mimetype": "text/x-python",
   "name": "python",
   "nbconvert_exporter": "python",
   "pygments_lexer": "ipython3",
   "version": "3.7.0"
  }
 },
 "nbformat": 4,
 "nbformat_minor": 2
}
