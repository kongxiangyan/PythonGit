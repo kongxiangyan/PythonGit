{
 "cells": [
  {
   "cell_type": "markdown",
   "metadata": {},
   "source": [
    "# <center>2.3 Python语法 操作文档</center>"
   ]
  },
  {
   "cell_type": "markdown",
   "metadata": {},
   "source": [
    "## 变量"
   ]
  },
  {
   "cell_type": "code",
   "execution_count": 5,
   "metadata": {},
   "outputs": [
    {
     "name": "stdout",
     "output_type": "stream",
     "text": [
      "hello world.\n",
      "hello world.I am in CUC.\n",
      "2.0\n"
     ]
    }
   ],
   "source": [
    "# 定义一个变量a，赋值为hello world。\n",
    "a = \"hello world.\"\n",
    "\n",
    "# 打印变量\n",
    "print(a)\n",
    "\n",
    "# 获取变量a的数据类型。\n",
    "type(a)\n",
    "\n",
    "# 变量可以参加到运算中\n",
    "print(a + 'I am in CUC.')\n",
    "\n",
    "sum = 1+2+3\n",
    "avg = sum / 3.0\n",
    "print(avg)\n"
   ]
  },
  {
   "cell_type": "markdown",
   "metadata": {},
   "source": [
    "## 整数"
   ]
  },
  {
   "cell_type": "code",
   "execution_count": 6,
   "metadata": {},
   "outputs": [
    {
     "name": "stdout",
     "output_type": "stream",
     "text": [
      "<class 'int'>\n"
     ]
    }
   ],
   "source": [
    "# 定义一个变量a，赋值为整数100。\n",
    "a = 100\n",
    "\n",
    "# 查看变量a的数据类型。\n",
    "print(type(a))"
   ]
  },
  {
   "cell_type": "markdown",
   "metadata": {},
   "source": [
    "## 小数"
   ]
  },
  {
   "cell_type": "code",
   "execution_count": 8,
   "metadata": {},
   "outputs": [
    {
     "name": "stdout",
     "output_type": "stream",
     "text": [
      "<class 'float'>\n"
     ]
    }
   ],
   "source": [
    "# 定义一个变量b，赋值为小数3.14\n",
    "b = 3.14\n",
    "\n",
    "# 查看变量a的数据类型。\n",
    "print(type(b))"
   ]
  },
  {
   "cell_type": "markdown",
   "metadata": {},
   "source": [
    "## 字符串"
   ]
  },
  {
   "cell_type": "code",
   "execution_count": 11,
   "metadata": {},
   "outputs": [
    {
     "name": "stdout",
     "output_type": "stream",
     "text": [
      "<class 'str'>\n"
     ]
    }
   ],
   "source": [
    "# 定义变量c，赋值为字符串。\n",
    "c = 'hello world.'\n",
    "c = \"hello world.\"\n",
    "print(type(c))"
   ]
  },
  {
   "cell_type": "markdown",
   "metadata": {},
   "source": [
    "## 转义字符"
   ]
  },
  {
   "cell_type": "code",
   "execution_count": 21,
   "metadata": {},
   "outputs": [
    {
     "name": "stdout",
     "output_type": "stream",
     "text": [
      "a\n",
      "b\n",
      "---\n",
      "a\r",
      "b\n",
      "---\n",
      "a\tb\n",
      "---\n"
     ]
    }
   ],
   "source": [
    "# 转义字符。\n",
    "\"\\n\" # 换行\n",
    "print('a\\nb')\n",
    "print('---')\n",
    "\n",
    "\"\\r\"  # 回车\n",
    "print('a\\rb')\n",
    "print('---')\n",
    "\n",
    "\"\\t\"  # tab\n",
    "print('a\\tb')\n",
    "print('---')"
   ]
  },
  {
   "cell_type": "markdown",
   "metadata": {},
   "source": [
    "## 多行字符串"
   ]
  },
  {
   "cell_type": "code",
   "execution_count": 24,
   "metadata": {},
   "outputs": [
    {
     "name": "stdout",
     "output_type": "stream",
     "text": [
      "\n",
      "床前明月光\n",
      "疑是地上霜\n",
      "举头望明月\n",
      "低头思故乡\n",
      "\n"
     ]
    }
   ],
   "source": [
    "# 多行字符串。\n",
    "long_str = \"\"\"\n",
    "床前明月光\n",
    "疑是地上霜\n",
    "举头望明月\n",
    "低头思故乡\n",
    "\"\"\"\n",
    "print(long_str)"
   ]
  },
  {
   "cell_type": "markdown",
   "metadata": {},
   "source": [
    "## 布尔类型"
   ]
  },
  {
   "cell_type": "code",
   "execution_count": 35,
   "metadata": {},
   "outputs": [
    {
     "name": "stdout",
     "output_type": "stream",
     "text": [
      "True\n",
      "---\n",
      "与运算\n",
      "False\n",
      "---\n",
      "或运算\n",
      "True\n",
      "---\n",
      "非运算\n",
      "False\n"
     ]
    }
   ],
   "source": [
    "# 布尔类型\n",
    "True\n",
    "False\n",
    "\n",
    "# 常规用法\n",
    "a=12\n",
    "print(a>10)  # 返回True\n",
    "print('---')\n",
    "\n",
    "# 布尔运算\n",
    "#与\n",
    "print('与运算')\n",
    "print(True and False)\n",
    "print('---')\n",
    "# 或\n",
    "print('或运算')\n",
    "print(True or False)\n",
    "print('---')\n",
    "# 非\n",
    "print('非运算')\n",
    "print(not True)"
   ]
  },
  {
   "cell_type": "markdown",
   "metadata": {},
   "source": [
    "## 特殊字符"
   ]
  },
  {
   "cell_type": "code",
   "execution_count": 42,
   "metadata": {},
   "outputs": [
    {
     "name": "stdout",
     "output_type": "stream",
     "text": [
      "<class 'NoneType'>\n"
     ]
    }
   ],
   "source": [
    "print(type(None))"
   ]
  },
  {
   "cell_type": "markdown",
   "metadata": {},
   "source": [
    "## 魔法注释"
   ]
  },
  {
   "cell_type": "code",
   "execution_count": 1,
   "metadata": {},
   "outputs": [],
   "source": [
    "# encoding: utf-8"
   ]
  },
  {
   "cell_type": "markdown",
   "metadata": {},
   "source": [
    "## 注释"
   ]
  },
  {
   "cell_type": "code",
   "execution_count": 43,
   "metadata": {},
   "outputs": [
    {
     "name": "stdout",
     "output_type": "stream",
     "text": [
      "hello world\n"
     ]
    }
   ],
   "source": [
    "# 这是一条注释\n",
    "\n",
    "print('hello world') # 这是另一条注释"
   ]
  },
  {
   "cell_type": "markdown",
   "metadata": {},
   "source": [
    "## 基本运算"
   ]
  },
  {
   "cell_type": "code",
   "execution_count": 54,
   "metadata": {},
   "outputs": [
    {
     "name": "stdout",
     "output_type": "stream",
     "text": [
      "1+1=2\n",
      "3*4=12\n",
      "6/3=2.0\n",
      "hello + world.= helloworld.\n"
     ]
    }
   ],
   "source": [
    "# 基本运算\n",
    "a = 1 + 1\n",
    "b = 3 * 4\n",
    "c = 6 / 3\n",
    "\n",
    "print('1+1='+str(a))\n",
    "print('3*4='+str(b))\n",
    "print('6/3='+str(c))\n",
    "\n",
    "# 模除，获得除法的余数。\n",
    "d = 5 % 2\n",
    "\n",
    "# 字符串连接，将字符串连接在一起。\n",
    "e = 'hello' + 'world.'\n",
    "print('hello + world.= '+ e)"
   ]
  },
  {
   "cell_type": "markdown",
   "metadata": {},
   "source": [
    "## 条件语句"
   ]
  },
  {
   "cell_type": "code",
   "execution_count": 58,
   "metadata": {},
   "outputs": [
    {
     "name": "stdout",
     "output_type": "stream",
     "text": [
      "a大于等于10\n"
     ]
    }
   ],
   "source": [
    "# 条件判断语句\n",
    "a = 12\n",
    "if a >= 10:\n",
    "    print('a大于等于10')\n",
    "else:\n",
    "    print('a小于10')"
   ]
  },
  {
   "cell_type": "markdown",
   "metadata": {},
   "source": [
    "## 循环语句"
   ]
  },
  {
   "cell_type": "code",
   "execution_count": 61,
   "metadata": {},
   "outputs": [
    {
     "name": "stdout",
     "output_type": "stream",
     "text": [
      "0\n",
      "1\n",
      "2\n",
      "3\n",
      "4\n",
      "5\n",
      "6\n",
      "7\n",
      "8\n",
      "9\n"
     ]
    }
   ],
   "source": [
    "# 循环语句 while形式\n",
    "a = 0\n",
    "while a<10:\n",
    "    print(a)\n",
    "    a = a + 1"
   ]
  },
  {
   "cell_type": "code",
   "execution_count": 65,
   "metadata": {},
   "outputs": [
    {
     "name": "stdout",
     "output_type": "stream",
     "text": [
      "1\n",
      "2\n",
      "3\n",
      "4\n",
      "5\n",
      "6\n",
      "7\n",
      "8\n",
      "9\n"
     ]
    }
   ],
   "source": [
    "# 循环语句 for形式\n",
    "for i in range(1,10):\n",
    "    print(i)"
   ]
  },
  {
   "cell_type": "markdown",
   "metadata": {},
   "source": [
    "## 函数"
   ]
  },
  {
   "cell_type": "code",
   "execution_count": 67,
   "metadata": {},
   "outputs": [
    {
     "name": "stdout",
     "output_type": "stream",
     "text": [
      "5\n"
     ]
    }
   ],
   "source": [
    "# 函数\n",
    "def add(x, y):\n",
    "    sum = x + y\n",
    "    return sum\n",
    "\n",
    "result = add (2,3)\n",
    "print(result)  # 打印结果5"
   ]
  },
  {
   "cell_type": "markdown",
   "metadata": {},
   "source": [
    "## 写入文件"
   ]
  },
  {
   "cell_type": "code",
   "execution_count": 75,
   "metadata": {},
   "outputs": [],
   "source": [
    "with open('2.3_write_demo.txt', mode='w', encoding='utf-8') as f:\n",
    "    f.write('hello, world,111.\\n')\n",
    "    f.write('hello, world,222.\\n')\n",
    "    f.write('hello, world,333.\\n')"
   ]
  },
  {
   "cell_type": "markdown",
   "metadata": {},
   "source": [
    "## 读取文件"
   ]
  },
  {
   "cell_type": "code",
   "execution_count": 76,
   "metadata": {},
   "outputs": [
    {
     "name": "stdout",
     "output_type": "stream",
     "text": [
      "['hello, world,111.\\n', 'hello, world,222.\\n', 'hello, world,333.\\n']\n",
      "<class 'list'>\n"
     ]
    }
   ],
   "source": [
    "with open('2.3_write_demo.txt', mode='r', encoding='utf-8') as f:\n",
    "    data = f.readlines()\n",
    "print(data)\n",
    "print(type(data))"
   ]
  },
  {
   "cell_type": "code",
   "execution_count": null,
   "metadata": {},
   "outputs": [],
   "source": []
  },
  {
   "cell_type": "code",
   "execution_count": null,
   "metadata": {},
   "outputs": [],
   "source": []
  },
  {
   "cell_type": "code",
   "execution_count": null,
   "metadata": {},
   "outputs": [],
   "source": []
  },
  {
   "cell_type": "code",
   "execution_count": null,
   "metadata": {},
   "outputs": [],
   "source": []
  },
  {
   "cell_type": "code",
   "execution_count": null,
   "metadata": {},
   "outputs": [],
   "source": []
  },
  {
   "cell_type": "code",
   "execution_count": null,
   "metadata": {},
   "outputs": [],
   "source": []
  },
  {
   "cell_type": "code",
   "execution_count": null,
   "metadata": {},
   "outputs": [],
   "source": []
  },
  {
   "cell_type": "code",
   "execution_count": 20,
   "metadata": {},
   "outputs": [
    {
     "name": "stdout",
     "output_type": "stream",
     "text": [
      "hello, Lucy\n"
     ]
    }
   ],
   "source": [
    "name = \"Lucy\"\n",
    "sentence = f\"hello, {name}\"\n",
    "print(sentence)\n"
   ]
  },
  {
   "cell_type": "code",
   "execution_count": 24,
   "metadata": {},
   "outputs": [
    {
     "name": "stdout",
     "output_type": "stream",
     "text": [
      "['one', 'two', 'three']\n",
      "['one', 'two', 'three', 1]\n"
     ]
    }
   ],
   "source": [
    "li = ['one', 'two']\n",
    "li.append('three')\n",
    "print(li)\n",
    "li.append(1)\n",
    "print(li)"
   ]
  },
  {
   "cell_type": "code",
   "execution_count": 31,
   "metadata": {
    "scrolled": true
   },
   "outputs": [
    {
     "name": "stdout",
     "output_type": "stream",
     "text": [
      "math:100\n",
      "chinese:95\n"
     ]
    }
   ],
   "source": [
    "#创建一个空字典dictionary\n",
    "dictionary = {}\n",
    "\n",
    "# 创建一个带两个元素的字典\n",
    "dictionary = {\"math\":100,\"chinese\":95}\n",
    "## 魔法注释# 遍历列表li中的元素\n",
    "for key,value in dictionary.items():\n",
    "    print(f\"{key}:{value}\")\n"
   ]
  }
 ],
 "metadata": {
  "kernelspec": {
   "display_name": "Python 3",
   "language": "python",
   "name": "python3"
  },
  "language_info": {
   "codemirror_mode": {
    "name": "ipython",
    "version": 3
   },
   "file_extension": ".py",
   "mimetype": "text/x-python",
   "name": "python",
   "nbconvert_exporter": "python",
   "pygments_lexer": "ipython3",
   "version": "3.7.0"
  }
 },
 "nbformat": 4,
 "nbformat_minor": 2
}
