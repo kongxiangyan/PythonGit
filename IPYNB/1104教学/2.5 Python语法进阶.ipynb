{
 "cells": [
  {
   "cell_type": "markdown",
   "metadata": {},
   "source": [
    "# <center>2.5 Python语法进阶 操作文档</center>"
   ]
  },
  {
   "cell_type": "markdown",
   "metadata": {},
   "source": [
    "## 拼接字符串"
   ]
  },
  {
   "cell_type": "code",
   "execution_count": 4,
   "metadata": {},
   "outputs": [
    {
     "name": "stdout",
     "output_type": "stream",
     "text": [
      "hello, Lucy\n"
     ]
    }
   ],
   "source": [
    "#拼接字符串\n",
    "name = \"Lucy\"\n",
    "sentence = f\"hello, {name}\"\n",
    "print(sentence)"
   ]
  },
  {
   "cell_type": "markdown",
   "metadata": {},
   "source": [
    "## 列表"
   ]
  },
  {
   "cell_type": "code",
   "execution_count": 8,
   "metadata": {},
   "outputs": [
    {
     "name": "stdout",
     "output_type": "stream",
     "text": [
      "zero\n",
      "one\n",
      "two\n",
      "1\n"
     ]
    }
   ],
   "source": [
    "#创建一个空列表li\n",
    "li = []\n",
    "\n",
    "# 创建一个带三个元素的列表\n",
    "li = ['zero', 'one', 'two']\n",
    "\n",
    "# 获取列表li的元素个数\n",
    "len(li)\n",
    "\n",
    "\n",
    "# 获取列表li的第2个元素值\n",
    "li[1]\n",
    "\n",
    "# 向列表li中再添加一个元素\n",
    "li.append(1)\n",
    "\n",
    "# 遍历列表li中的元素\n",
    "for i in li:\n",
    "    print(i)"
   ]
  },
  {
   "cell_type": "markdown",
   "metadata": {},
   "source": [
    "## 字典"
   ]
  },
  {
   "cell_type": "code",
   "execution_count": 10,
   "metadata": {},
   "outputs": [
    {
     "name": "stdout",
     "output_type": "stream",
     "text": [
      "math:100\n",
      "chinese:95\n"
     ]
    }
   ],
   "source": [
    "#创建一个空字典dictionary\n",
    "dictionary = {}\n",
    "\n",
    "# 创建一个带两个元素的字典\n",
    "dictionary = {\"math\":100, \"chinese\":95}\n",
    "\n",
    "# 遍历字典dictionary中的元素\n",
    "for key,value in dictionary.items():\n",
    "    print(f\"{key}:{value}\")"
   ]
  }
 ],
 "metadata": {
  "kernelspec": {
   "display_name": "Python 3",
   "language": "python",
   "name": "python3"
  },
  "language_info": {
   "codemirror_mode": {
    "name": "ipython",
    "version": 3
   },
   "file_extension": ".py",
   "mimetype": "text/x-python",
   "name": "python",
   "nbconvert_exporter": "python",
   "pygments_lexer": "ipython3",
   "version": "3.7.0"
  }
 },
 "nbformat": 4,
 "nbformat_minor": 2
}
