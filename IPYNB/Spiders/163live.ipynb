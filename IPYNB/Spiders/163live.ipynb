{
 "cells": [
  {
   "cell_type": "markdown",
   "metadata": {},
   "source": [
    "## 引入必要的包"
   ]
  },
  {
   "cell_type": "code",
   "execution_count": 53,
   "metadata": {},
   "outputs": [],
   "source": [
    "# 请求包\n",
    "import requests\n",
    "# json\n",
    "import json\n",
    "# 解析包\n",
    "from bs4 import BeautifulSoup\n",
    "# 引入时间相关模块\n",
    "from datetime import datetime"
   ]
  },
  {
   "cell_type": "markdown",
   "metadata": {},
   "source": [
    "## 定义抓取主函数"
   ]
  },
  {
   "cell_type": "code",
   "execution_count": 54,
   "metadata": {},
   "outputs": [],
   "source": [
    "def getViewersCount():\n",
    "    # 直播房间号\n",
    "    roomid = '198476'\n",
    "\n",
    "    # 要抓取的页面地址\n",
    "    url= 'http://data.live.126.net/partake/usercount/' + roomid + '.json?callback=liveUsercount'\n",
    "\n",
    "    # 获取内容\n",
    "    response = requests.get(url)\n",
    "\n",
    "    # 拿到bytes型页面代码\n",
    "    html = response.content # or use response.text\n",
    "\n",
    "    # 解析为utf-8格式文本\n",
    "    html = str(html,'utf-8') # html_doc = html.decode(\"utf-8\",\"ignore\")\n",
    "\n",
    "    # 截取前缀 'liveUsercount(' 及后缀 ');'\n",
    "    json_str = html[14:-3]\n",
    "\n",
    "    # json_str解码\n",
    "    json_obj = json.loads(json_str)\n",
    "\n",
    "    # 输出\n",
    "    res = {\n",
    "        'time': datetime.now().strftime(\"%Y-%m-%d %H:%M:%S\"),\n",
    "        'value': json_obj['msg']['user_count']\n",
    "    }\n",
    "    print(res)\n",
    "    return res"
   ]
  },
  {
   "cell_type": "markdown",
   "metadata": {},
   "source": [
    "## 定义文件写入函数"
   ]
  },
  {
   "cell_type": "code",
   "execution_count": 55,
   "metadata": {},
   "outputs": [],
   "source": [
    "from xlrd import open_workbook\n",
    "from xlutils.copy import copy\n",
    "\n",
    "def writeInXls(config):\n",
    "    filename = config['filename']\n",
    "    time = config['time']\n",
    "    value = config['value']\n",
    "\n",
    "    # 用wlrd提供的方法读取一个excel文件\n",
    "    rexcel = open_workbook(filename) \n",
    "\n",
    "    # 用wlrd提供的方法获得现在已有的行数\n",
    "    rows = rexcel.sheets()[0].nrows \n",
    "\n",
    "    # 用xlutils提供的copy方法将xlrd的对象转化为xlwt的对象\n",
    "    excel = copy(rexcel)\n",
    "\n",
    "    # 用xlwt对象的方法获得要操作的sheet\n",
    "    table = excel.get_sheet(0) \n",
    "    \n",
    "    # 标记行数\n",
    "    row = rows;\n",
    "   \n",
    "    # xlwt对象的写方法，参数分别是行、列、值\n",
    "    table.write(row, 0, time)\n",
    "    table.write(row, 1, value)\n",
    "\n",
    "    # xlwt对象的保存方法，这时便覆盖掉了原来的excel\n",
    "    excel.save(filename) \n",
    "    return datetime.now().strftime(\"%Y-%m-%d %H:%M:%S\")"
   ]
  },
  {
   "cell_type": "markdown",
   "metadata": {},
   "source": [
    "## 定义运行函数"
   ]
  },
  {
   "cell_type": "code",
   "execution_count": 56,
   "metadata": {},
   "outputs": [],
   "source": [
    "def execute():\n",
    "    res = getViewersCount()\n",
    "    time = res['time']\n",
    "    value = res['value']\n",
    "    \n",
    "    end = writeInXls({\n",
    "        'filename': 'data.xls',\n",
    "        'time': time,\n",
    "        'value': value\n",
    "    })\n",
    "    \n",
    "    print(end)"
   ]
  },
  {
   "cell_type": "code",
   "execution_count": 57,
   "metadata": {},
   "outputs": [],
   "source": [
    "# 引入支持循环执行的模块\n",
    "from apscheduler.schedulers.background import BackgroundScheduler\n",
    "# from apscheduler.schedulers.blocking import BlockingScheduler"
   ]
  },
  {
   "cell_type": "code",
   "execution_count": 59,
   "metadata": {},
   "outputs": [
    {
     "name": "stdout",
     "output_type": "stream",
     "text": [
      "{'time': '2018-12-24 20:13:35', 'value': 6519}\n",
      "2018-12-24 20:13:35\n",
      "{'time': '2018-12-24 20:13:38', 'value': 6519}\n",
      "2018-12-24 20:13:38\n",
      "{'time': '2018-12-24 20:13:41', 'value': 6519}\n",
      "2018-12-24 20:13:41\n",
      "{'time': '2018-12-24 20:13:44', 'value': 6519}\n",
      "2018-12-24 20:13:44\n",
      "{'time': '2018-12-24 20:13:47', 'value': 6519}\n",
      "2018-12-24 20:13:47\n",
      "{'time': '2018-12-24 20:13:50', 'value': 6519}\n",
      "2018-12-24 20:13:50\n",
      "{'time': '2018-12-24 20:13:53', 'value': 6535}\n",
      "2018-12-24 20:13:53\n",
      "{'time': '2018-12-24 20:13:56', 'value': 6542}\n",
      "2018-12-24 20:13:56\n",
      "{'time': '2018-12-24 20:13:59', 'value': 6543}\n",
      "2018-12-24 20:13:59\n",
      "{'time': '2018-12-24 20:14:02', 'value': 6543}\n",
      "2018-12-24 20:14:02\n",
      "{'time': '2018-12-24 20:14:05', 'value': 6543}\n",
      "2018-12-24 20:14:05\n",
      "{'time': '2018-12-24 20:14:08', 'value': 6543}\n",
      "2018-12-24 20:14:08\n",
      "{'time': '2018-12-24 20:14:11', 'value': 6551}\n",
      "2018-12-24 20:14:11\n",
      "{'time': '2018-12-24 20:14:14', 'value': 6551}\n",
      "2018-12-24 20:14:14\n",
      "{'time': '2018-12-24 20:14:17', 'value': 6551}\n",
      "2018-12-24 20:14:17\n",
      "{'time': '2018-12-24 20:14:20', 'value': 6551}\n",
      "2018-12-24 20:14:20\n",
      "{'time': '2018-12-24 20:14:23', 'value': 6558}\n",
      "2018-12-24 20:14:23\n",
      "{'time': '2018-12-24 20:14:26', 'value': 6559}\n",
      "2018-12-24 20:14:26\n",
      "{'time': '2018-12-24 20:14:29', 'value': 6559}\n",
      "2018-12-24 20:14:29\n",
      "{'time': '2018-12-24 20:14:32', 'value': 6566}\n",
      "2018-12-24 20:14:32\n",
      "{'time': '2018-12-24 20:14:35', 'value': 6567}\n",
      "2018-12-24 20:14:35\n",
      "{'time': '2018-12-24 20:14:38', 'value': 6567}\n",
      "2018-12-24 20:14:38\n",
      "{'time': '2018-12-24 20:14:41', 'value': 6567}\n",
      "2018-12-24 20:14:41\n",
      "{'time': '2018-12-24 20:14:44', 'value': 6575}\n",
      "2018-12-24 20:14:44\n",
      "{'time': '2018-12-24 20:14:47', 'value': 6575}\n",
      "2018-12-24 20:14:47\n",
      "{'time': '2018-12-24 20:14:50', 'value': 6575}\n",
      "2018-12-24 20:14:50\n",
      "{'time': '2018-12-24 20:14:53', 'value': 6583}\n",
      "2018-12-24 20:14:53\n",
      "{'time': '2018-12-24 20:14:56', 'value': 6584}\n",
      "2018-12-24 20:14:56\n",
      "{'time': '2018-12-24 20:14:59', 'value': 6584}\n",
      "2018-12-24 20:14:59\n",
      "{'time': '2018-12-24 20:15:02', 'value': 6584}\n",
      "2018-12-24 20:15:02\n",
      "{'time': '2018-12-24 20:15:05', 'value': 6584}\n",
      "2018-12-24 20:15:05\n",
      "{'time': '2018-12-24 20:15:08', 'value': 6584}\n",
      "2018-12-24 20:15:08\n",
      "{'time': '2018-12-24 20:15:11', 'value': 6608}\n",
      "2018-12-24 20:15:11\n",
      "{'time': '2018-12-24 20:15:14', 'value': 6609}\n",
      "2018-12-24 20:15:14\n",
      "{'time': '2018-12-24 20:15:17', 'value': 6617}\n",
      "2018-12-24 20:15:17\n",
      "{'time': '2018-12-24 20:15:20', 'value': 6634}\n",
      "2018-12-24 20:15:20\n",
      "{'time': '2018-12-24 20:15:23', 'value': 6659}\n",
      "2018-12-24 20:15:23\n",
      "{'time': '2018-12-24 20:15:26', 'value': 6659}\n",
      "2018-12-24 20:15:26\n",
      "{'time': '2018-12-24 20:15:29', 'value': 6669}\n",
      "2018-12-24 20:15:29\n",
      "{'time': '2018-12-24 20:15:32', 'value': 6669}\n",
      "2018-12-24 20:15:32\n",
      "{'time': '2018-12-24 20:15:35', 'value': 6669}\n",
      "2018-12-24 20:15:35\n",
      "{'time': '2018-12-24 20:15:38', 'value': 6669}\n",
      "2018-12-24 20:15:38\n",
      "{'time': '2018-12-24 20:15:41', 'value': 6669}\n",
      "2018-12-24 20:15:41\n",
      "{'time': '2018-12-24 20:15:44', 'value': 6669}\n",
      "2018-12-24 20:15:44\n",
      "{'time': '2018-12-24 20:15:47', 'value': 6669}\n",
      "2018-12-24 20:15:47\n",
      "{'time': '2018-12-24 20:15:50', 'value': 6669}\n",
      "2018-12-24 20:15:50\n",
      "{'time': '2018-12-24 20:15:53', 'value': 6669}\n",
      "2018-12-24 20:15:53\n",
      "{'time': '2018-12-24 20:15:56', 'value': 6669}\n",
      "2018-12-24 20:15:56\n",
      "{'time': '2018-12-24 20:15:59', 'value': 6677}\n",
      "2018-12-24 20:15:59\n",
      "{'time': '2018-12-24 20:16:02', 'value': 6686}\n",
      "2018-12-24 20:16:02\n",
      "{'time': '2018-12-24 20:16:05', 'value': 6694}\n",
      "2018-12-24 20:16:05\n",
      "{'time': '2018-12-24 20:16:08', 'value': 6701}\n",
      "2018-12-24 20:16:08\n",
      "{'time': '2018-12-24 20:16:11', 'value': 6710}\n",
      "2018-12-24 20:16:11\n",
      "{'time': '2018-12-24 20:16:14', 'value': 6720}\n",
      "2018-12-24 20:16:14\n",
      "{'time': '2018-12-24 20:16:17', 'value': 6728}\n",
      "2018-12-24 20:16:17\n",
      "{'time': '2018-12-24 20:16:20', 'value': 6728}\n",
      "2018-12-24 20:16:20\n",
      "{'time': '2018-12-24 20:16:23', 'value': 6728}\n",
      "2018-12-24 20:16:23\n",
      "{'time': '2018-12-24 20:16:26', 'value': 6728}\n",
      "2018-12-24 20:16:26\n",
      "{'time': '2018-12-24 20:16:29', 'value': 6728}\n",
      "2018-12-24 20:16:29\n",
      "{'time': '2018-12-24 20:16:32', 'value': 6736}\n",
      "2018-12-24 20:16:32\n",
      "{'time': '2018-12-24 20:16:35', 'value': 6743}\n",
      "2018-12-24 20:16:35\n",
      "{'time': '2018-12-24 20:16:38', 'value': 6744}\n",
      "2018-12-24 20:16:38\n",
      "{'time': '2018-12-24 20:16:41', 'value': 6753}\n",
      "2018-12-24 20:16:41\n",
      "{'time': '2018-12-24 20:16:44', 'value': 6753}\n",
      "2018-12-24 20:16:44\n",
      "{'time': '2018-12-24 20:16:47', 'value': 6753}\n",
      "2018-12-24 20:16:47\n",
      "{'time': '2018-12-24 20:16:50', 'value': 6761}\n",
      "2018-12-24 20:16:50\n",
      "{'time': '2018-12-24 20:16:53', 'value': 6762}\n",
      "2018-12-24 20:16:53\n",
      "{'time': '2018-12-24 20:16:56', 'value': 6762}\n",
      "2018-12-24 20:16:56\n"
     ]
    }
   ],
   "source": [
    "# 定义BlockingScheduler\n",
    "scheduler = BackgroundScheduler()\n",
    "# scheduler = BlockingScheduler()\n",
    "job = scheduler.add_job(execute, 'interval', seconds=3)\n",
    "scheduler.start()"
   ]
  },
  {
   "cell_type": "code",
   "execution_count": 60,
   "metadata": {},
   "outputs": [
    {
     "name": "stdout",
     "output_type": "stream",
     "text": [
      "{'time': '2018-12-24 20:16:59', 'value': 6762}\n",
      "2018-12-24 20:16:59\n"
     ]
    }
   ],
   "source": [
    "job.remove()"
   ]
  },
  {
   "cell_type": "code",
   "execution_count": null,
   "metadata": {},
   "outputs": [],
   "source": []
  }
 ],
 "metadata": {
  "kernelspec": {
   "display_name": "Python 3",
   "language": "python",
   "name": "python3"
  },
  "language_info": {
   "codemirror_mode": {
    "name": "ipython",
    "version": 3
   },
   "file_extension": ".py",
   "mimetype": "text/x-python",
   "name": "python",
   "nbconvert_exporter": "python",
   "pygments_lexer": "ipython3",
   "version": "3.7.1"
  },
  "toc": {
   "base_numbering": 1,
   "nav_menu": {},
   "number_sections": true,
   "sideBar": true,
   "skip_h1_title": false,
   "title_cell": "Table of Contents",
   "title_sidebar": "Contents",
   "toc_cell": false,
   "toc_position": {},
   "toc_section_display": true,
   "toc_window_display": true
  }
 },
 "nbformat": 4,
 "nbformat_minor": 2
}
