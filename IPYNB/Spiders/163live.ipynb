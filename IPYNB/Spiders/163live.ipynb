{
 "cells": [
  {
   "cell_type": "markdown",
   "metadata": {},
   "source": [
    "## 引入必要的包"
   ]
  },
  {
   "cell_type": "code",
   "execution_count": 3,
   "metadata": {},
   "outputs": [],
   "source": [
    "# 请求包\n",
    "import requests\n",
    "# json\n",
    "import json\n",
    "# 解析包\n",
    "# from bs4 import BeautifulSoup\n",
    "# 引入时间相关模块\n",
    "from datetime import datetime"
   ]
  },
  {
   "cell_type": "code",
   "execution_count": 12,
   "metadata": {},
   "outputs": [],
   "source": [
    "# # 要抓取的页面地址\n",
    "# url= 'http://data.live.126.net/partake/usercount/198455.json?callback=liveUsercount'\n",
    "\n",
    "# # 获取内容\n",
    "# response = requests.get(url)\n",
    "\n",
    "# # 拿到bytes型页面代码\n",
    "# # html = response.content # or use response.text\n",
    "\n",
    "# # 解析为utf-8格式文本\n",
    "# # html = str(html,'utf-8') # html_doc = html.decode(\"utf-8\",\"ignore\")\n",
    "\n",
    "# print(response.text)"
   ]
  },
  {
   "cell_type": "markdown",
   "metadata": {},
   "source": [
    "## 定义抓取主函数"
   ]
  },
  {
   "cell_type": "code",
   "execution_count": 14,
   "metadata": {},
   "outputs": [],
   "source": [
    "def getViewersCount():\n",
    "    # 直播房间号\n",
    "    roomid = '198476'\n",
    "\n",
    "    # 要抓取的页面地址\n",
    "    url= 'http://data.live.126.net/partake/usercount/' + roomid + '.json?callback=liveUsercount'\n",
    "\n",
    "    # 获取内容\n",
    "    response = requests.get(url)\n",
    "\n",
    "    # 拿到bytes型页面代码\n",
    "    html = response.content # or use response.text\n",
    "\n",
    "    # 解析为utf-8格式文本\n",
    "    html = str(html,'utf-8') # html_doc = html.decode(\"utf-8\",\"ignore\")\n",
    "\n",
    "    # 截取前缀 'liveUsercount(' 及后缀 ');'\n",
    "    json_str = html[14:-3]\n",
    "\n",
    "    # json_str解码\n",
    "    json_obj = json.loads(json_str)\n",
    "\n",
    "    # 输出\n",
    "    res = {\n",
    "        'time': datetime.now().strftime(\"%Y-%m-%d %H:%M:%S\"),\n",
    "        'value': json_obj['msg']['user_count']\n",
    "    }\n",
    "    print(res)\n",
    "    return res"
   ]
  },
  {
   "cell_type": "markdown",
   "metadata": {},
   "source": [
    "## 定义文件写入函数"
   ]
  },
  {
   "cell_type": "code",
   "execution_count": 16,
   "metadata": {},
   "outputs": [],
   "source": [
    "from xlrd import open_workbook\n",
    "from xlutils.copy import copy\n",
    "\n",
    "def writeInXls(config):\n",
    "    filename = config['filename']\n",
    "    time = config['time']\n",
    "    value = config['value']\n",
    "\n",
    "    # 用wlrd提供的方法读取一个excel文件\n",
    "    rexcel = open_workbook(filename) \n",
    "\n",
    "    # 用wlrd提供的方法获得现在已有的行数\n",
    "    rows = rexcel.sheets()[0].nrows \n",
    "\n",
    "    # 用xlutils提供的copy方法将xlrd的对象转化为xlwt的对象\n",
    "    excel = copy(rexcel)\n",
    "\n",
    "    # 用xlwt对象的方法获得要操作的sheet\n",
    "    table = excel.get_sheet(0) \n",
    "    \n",
    "    # 标记行数\n",
    "    row = rows;\n",
    "   \n",
    "    # xlwt对象的写方法，参数分别是行、列、值\n",
    "    table.write(row, 0, time)\n",
    "    table.write(row, 1, value)\n",
    "\n",
    "    # xlwt对象的保存方法，这时便覆盖掉了原来的excel\n",
    "    excel.save(filename) \n",
    "    return datetime.now().strftime(\"%Y-%m-%d %H:%M:%S\")"
   ]
  },
  {
   "cell_type": "markdown",
   "metadata": {},
   "source": [
    "## 定义运行函数"
   ]
  },
  {
   "cell_type": "code",
   "execution_count": 19,
   "metadata": {},
   "outputs": [],
   "source": [
    "def execute():\n",
    "    res = getViewersCount()\n",
    "    time = res['time']\n",
    "    value = res['value']\n",
    "    \n",
    "    end = writeInXls({\n",
    "        'filename': 'data.xls',\n",
    "        'time': time,\n",
    "        'value': value\n",
    "    })\n",
    "    \n",
    "    print(end)"
   ]
  },
  {
   "cell_type": "code",
   "execution_count": 20,
   "metadata": {},
   "outputs": [],
   "source": [
    "# 引入支持循环执行的模块\n",
    "from apscheduler.schedulers.background import BackgroundScheduler\n",
    "# from apscheduler.schedulers.blocking import BlockingScheduler"
   ]
  },
  {
   "cell_type": "code",
   "execution_count": 21,
   "metadata": {},
   "outputs": [
    {
     "name": "stdout",
     "output_type": "stream",
     "text": [
      "{'time': '2018-12-25 09:06:36', 'value': 11214}\n",
      "2018-12-25 09:06:36\n",
      "{'time': '2018-12-25 09:06:39', 'value': 11214}\n",
      "2018-12-25 09:06:39\n",
      "{'time': '2018-12-25 09:06:42', 'value': 11214}\n",
      "2018-12-25 09:06:42\n",
      "{'time': '2018-12-25 09:06:45', 'value': 11214}\n",
      "2018-12-25 09:06:45\n",
      "{'time': '2018-12-25 09:06:48', 'value': 11214}\n",
      "2018-12-25 09:06:48\n",
      "{'time': '2018-12-25 09:06:51', 'value': 11214}\n",
      "2018-12-25 09:06:51\n",
      "{'time': '2018-12-25 09:06:54', 'value': 11214}\n",
      "2018-12-25 09:06:54\n",
      "{'time': '2018-12-25 09:06:57', 'value': 11214}\n",
      "2018-12-25 09:06:57\n",
      "{'time': '2018-12-25 09:07:00', 'value': 11214}\n",
      "2018-12-25 09:07:00\n",
      "{'time': '2018-12-25 09:07:03', 'value': 11214}\n",
      "2018-12-25 09:07:03\n",
      "{'time': '2018-12-25 09:07:06', 'value': 11214}\n",
      "2018-12-25 09:07:06\n",
      "{'time': '2018-12-25 09:07:09', 'value': 11214}\n",
      "2018-12-25 09:07:09\n",
      "{'time': '2018-12-25 09:07:12', 'value': 11214}\n",
      "2018-12-25 09:07:12\n",
      "{'time': '2018-12-25 09:07:15', 'value': 11214}\n",
      "2018-12-25 09:07:15\n",
      "{'time': '2018-12-25 09:07:18', 'value': 11214}\n",
      "2018-12-25 09:07:18\n",
      "{'time': '2018-12-25 09:07:21', 'value': 11214}\n",
      "2018-12-25 09:07:21\n",
      "{'time': '2018-12-25 09:07:24', 'value': 11214}\n",
      "2018-12-25 09:07:24\n",
      "{'time': '2018-12-25 09:07:27', 'value': 11214}\n",
      "2018-12-25 09:07:27\n",
      "{'time': '2018-12-25 09:07:30', 'value': 11214}\n",
      "2018-12-25 09:07:30\n",
      "{'time': '2018-12-25 09:07:33', 'value': 11214}\n",
      "2018-12-25 09:07:33\n",
      "{'time': '2018-12-25 09:07:36', 'value': 11214}\n",
      "2018-12-25 09:07:36\n",
      "{'time': '2018-12-25 09:07:39', 'value': 11214}\n",
      "2018-12-25 09:07:39\n",
      "{'time': '2018-12-25 09:07:42', 'value': 11214}\n",
      "2018-12-25 09:07:42\n",
      "{'time': '2018-12-25 09:07:45', 'value': 11214}\n",
      "2018-12-25 09:07:45\n",
      "{'time': '2018-12-25 09:07:48', 'value': 11214}\n",
      "2018-12-25 09:07:48\n",
      "{'time': '2018-12-25 09:07:51', 'value': 11214}\n",
      "2018-12-25 09:07:51\n"
     ]
    }
   ],
   "source": [
    "# 定义BlockingScheduler\n",
    "scheduler = BackgroundScheduler()\n",
    "# scheduler = BlockingScheduler()\n",
    "job = scheduler.add_job(execute, 'interval', seconds=3)\n",
    "scheduler.start()"
   ]
  },
  {
   "cell_type": "code",
   "execution_count": 22,
   "metadata": {},
   "outputs": [],
   "source": [
    "job.remove()"
   ]
  },
  {
   "cell_type": "code",
   "execution_count": null,
   "metadata": {},
   "outputs": [],
   "source": []
  }
 ],
 "metadata": {
  "kernelspec": {
   "display_name": "Python 3",
   "language": "python",
   "name": "python3"
  },
  "language_info": {
   "codemirror_mode": {
    "name": "ipython",
    "version": 3
   },
   "file_extension": ".py",
   "mimetype": "text/x-python",
   "name": "python",
   "nbconvert_exporter": "python",
   "pygments_lexer": "ipython3",
   "version": "3.7.1"
  },
  "toc": {
   "base_numbering": 1,
   "nav_menu": {},
   "number_sections": true,
   "sideBar": true,
   "skip_h1_title": false,
   "title_cell": "Table of Contents",
   "title_sidebar": "Contents",
   "toc_cell": false,
   "toc_position": {},
   "toc_section_display": true,
   "toc_window_display": true
  }
 },
 "nbformat": 4,
 "nbformat_minor": 2
}
