{
 "cells": [
  {
   "cell_type": "markdown",
   "metadata": {
    "slideshow": {
     "slide_type": "skip"
    },
    "toc": true
   },
   "source": [
    "<h1>目录<span class=\"tocSkip\"></span></h1>\n",
    "<div class=\"toc\"><ul class=\"toc-item\"><li><span><a href=\"#录入基本信息\" data-toc-modified-id=\"录入基本信息-1\">录入基本信息</a></span></li><li><span><a href=\"#对目标组合评分\" data-toc-modified-id=\"对目标组合评分-2\">对目标组合评分</a></span></li><li><span><a href=\"#查看结果\" data-toc-modified-id=\"查看结果-3\">查看结果</a></span></li></ul></div>"
   ]
  },
  {
   "cell_type": "markdown",
   "metadata": {
    "ExecuteTime": {
     "end_time": "2019-04-12T10:06:07.763681Z",
     "start_time": "2019-04-12T10:06:07.750715Z"
    }
   },
   "source": [
    "这是一个简单的计算器，我们挑选了6个在选择男\\女朋友的时候可能会考虑的方面，分别是**颜值**、**成绩**、**爱好**、**年龄**、**身高**、**家庭**，通过填答一些相关的问题，最终你会看到你在这些方面的选择倾向。\n",
    "\n",
    "- 这个小玩意儿基于交互式文档 Jupyter Notebook 制作，实际上所有的实现细节都在文档内部，在完成之后你可以查看所有细节，并就相关问题与我们讨论。"
   ]
  },
  {
   "cell_type": "code",
   "execution_count": 61,
   "metadata": {
    "ExecuteTime": {
     "end_time": "2019-04-12T14:57:30.199627Z",
     "start_time": "2019-04-12T14:57:30.195638Z"
    },
    "hide_input": false
   },
   "outputs": [],
   "source": [
    "# 颜值： look [\"低\", \"一般\", \"高\"]\n",
    "# 成绩： grade [\"较差\", \"一般\", \"优秀\"]\n",
    "# 爱好： hobby [\"毫不相关\", \"互补\", \"相似\"]\n",
    "# 年龄： age [\"更小\", \"同级\", \"更大\"]\n",
    "# 身高： height [\"对方更矮一些\", \"相似（5cm以内）\", \"对方更高一些\"]\n",
    "# 家庭： family [\"不那么好\", \"一般\", \"更好\"]"
   ]
  },
  {
   "cell_type": "code",
   "execution_count": 62,
   "metadata": {
    "ExecuteTime": {
     "end_time": "2019-04-12T14:57:30.208602Z",
     "start_time": "2019-04-12T14:57:30.202619Z"
    },
    "hide_input": true
   },
   "outputs": [],
   "source": [
    "# 控件库\n",
    "import ipywidgets as widgets\n",
    "# 显示控件的方法\n",
    "from IPython.display import display\n",
    "# 时间日期\n",
    "import datetime\n",
    "# 数据计算包\n",
    "import numpy as np\n",
    "import pandas as pd\n",
    "import statsmodels.api as sm\n",
    "# 数据写入\n",
    "from xlrd import open_workbook\n",
    "from xlutils.copy import copy"
   ]
  },
  {
   "cell_type": "code",
   "execution_count": 63,
   "metadata": {
    "ExecuteTime": {
     "end_time": "2019-04-12T14:57:30.220586Z",
     "start_time": "2019-04-12T14:57:30.210599Z"
    },
    "code_folding": [],
    "hide_input": true
   },
   "outputs": [],
   "source": [
    "# @description 基于指定的 field 将 dict_list 转换为 list\n",
    "# @param list 待处理的 dict_list\n",
    "# @param aim_list? 目标输出 list\n",
    "# @param field? 要提取的字段名\n",
    "# @return list 一个新的 list\n",
    "def dicts2list(dict_list, aim_list=[], field='value'):\n",
    "    new_list = aim_list[:]\n",
    "    for item in dict_list:\n",
    "        new_list.append(item[field])\n",
    "    return new_list\n",
    "\n",
    "\n",
    "# @description\n",
    "# @param dict 需要遍历处理的字典\n",
    "# @param fn 字典字段值的处理函数，该函数第一参数为字典字段值，输出处理后的字段值\n",
    "# @param fn_args 传给处理函数（fn）的参数\n",
    "# @return dict 一个新的字典\n",
    "def dictForEach(dict, fn, fn_args):\n",
    "    new_dict = {}\n",
    "    for name, item in dict.items():\n",
    "        new_dict[name] = fn(item, **fn_args)\n",
    "    return new_dict"
   ]
  },
  {
   "cell_type": "code",
   "execution_count": 64,
   "metadata": {
    "ExecuteTime": {
     "end_time": "2019-04-12T14:57:30.236529Z",
     "start_time": "2019-04-12T14:57:30.224561Z"
    },
    "code_folding": [],
    "hide_input": true
   },
   "outputs": [],
   "source": [
    "# 预定义属性名列表\n",
    "attr_list = tuple([{\n",
    "    \"zh\": \"颜值\",\n",
    "    \"en\": \"look\"\n",
    "}, {\n",
    "    \"zh\": \"成绩\",\n",
    "    \"en\": \"grade\"\n",
    "}, {\n",
    "    \"zh\": \"兴趣\",\n",
    "    \"en\": \"hobby\"\n",
    "}, {\n",
    "    \"zh\": \"年龄\",\n",
    "    \"en\": \"age\"\n",
    "},{\n",
    "    \"zh\": \"身高\",\n",
    "    \"en\": \"height\"\n",
    "}, {\n",
    "    \"zh\": \"家庭\",\n",
    "    \"en\": \"family\"\n",
    "}])\n",
    "attr_list_en = tuple(dicts2list(attr_list, field = 'en'))\n",
    "attr_list_zh = tuple(dicts2list(attr_list, field = 'zh'))\n",
    "\n",
    "# 预定义属性及值的字典\n",
    "dict = {\n",
    "    \"look\": [{\n",
    "        \"name\": \"低\",\n",
    "        \"value\": 0\n",
    "    }, {\n",
    "        \"name\": \"一般\",\n",
    "        \"value\": 1\n",
    "    }, {\n",
    "        \"name\": \"高\",\n",
    "        \"value\": 2\n",
    "    }],\n",
    "    \"grade\": [{\n",
    "        \"name\": \"较差\",\n",
    "        \"value\": 0\n",
    "    }, {\n",
    "        \"name\": \"一般\",\n",
    "        \"value\": 1 \n",
    "    }, {\n",
    "        \"name\": \"优秀\",\n",
    "        \"value\": 2\n",
    "    }],\n",
    "    \"hobby\": [{\n",
    "        \"name\": \"毫不相关\",\n",
    "        \"value\": 0\n",
    "    }, {\n",
    "        \"name\": \"互补\",\n",
    "        \"value\": 1\n",
    "    }, {\n",
    "        \"name\": \"相似\",\n",
    "        \"value\": 2\n",
    "    }],\n",
    "    \"age\": [{\n",
    "        \"name\": \"更小\",\n",
    "        \"value\": 0\n",
    "    }, {\n",
    "        \"name\": \"同级\",\n",
    "        \"value\": 1\n",
    "    }, {\n",
    "        \"name\": \"更大\",\n",
    "        \"value\": 2\n",
    "    }],\n",
    "    \"height\": [{\n",
    "        \"name\": \"对方更矮一些\",\n",
    "        \"value\": 0\n",
    "    }, {\n",
    "        \"name\": \"相似（5cm以内）\",\n",
    "        \"value\": 1\n",
    "    }, {\n",
    "        \"name\": \"对方更高一些\",\n",
    "        \"value\": 2\n",
    "    }],\n",
    "    \"family\": [{\n",
    "        \"name\": \"不那么好\",\n",
    "        \"value\": 0\n",
    "    }, {\n",
    "        \"name\": \"一般\",\n",
    "        \"value\": 1 \n",
    "    }, {\n",
    "        \"name\": \"更好\",\n",
    "        \"value\": 2\n",
    "    }]\n",
    "}\n",
    "# 预定义属性及值的列表\n",
    "name_list_dict = dictForEach(dict, dicts2list, {\"field\": \"name\"})\n",
    "value_list_dict = dictForEach(dict, dicts2list, {\"field\": \"value\"})"
   ]
  },
  {
   "cell_type": "code",
   "execution_count": 65,
   "metadata": {
    "ExecuteTime": {
     "end_time": "2019-04-12T14:57:30.254481Z",
     "start_time": "2019-04-12T14:57:30.239520Z"
    },
    "code_folding": [],
    "hide_input": true,
    "scrolled": false
   },
   "outputs": [],
   "source": [
    "# print('预定义的属性包括：{keys}'.format(keys = dict.keys()))\n",
    "# print('预定义属性及值的列表：{name_list_dict}'.format(name_list_dict = name_list_dict))"
   ]
  },
  {
   "cell_type": "markdown",
   "metadata": {},
   "source": [
    "## 录入基本信息"
   ]
  },
  {
   "cell_type": "code",
   "execution_count": 66,
   "metadata": {
    "ExecuteTime": {
     "end_time": "2019-04-12T14:57:30.266449Z",
     "start_time": "2019-04-12T14:57:30.256474Z"
    }
   },
   "outputs": [],
   "source": [
    "id_row = None\n",
    "\n",
    "def writeInXls(config, data):\n",
    "    global id_row\n",
    "    filename = config['filename']\n",
    "    data[\"time\"] = datetime.datetime.now().strftime(\"%Y-%m-%d %H:%M:%S\")\n",
    "\n",
    "    # 用wlrd提供的方法读取一个excel文件\n",
    "    rexcel = open_workbook(filename)\n",
    "\n",
    "    # 用wlrd提供的方法获得sheet\n",
    "    sheet = rexcel.sheets()[0]\n",
    "\n",
    "    # 读取字段名\n",
    "    fields = sheet.row_values(0)\n",
    "    # 读取已写入的id\n",
    "    ids = sheet.col_values(0)\n",
    "    ids.pop(0)\n",
    "\n",
    "    # 读取数据行数\n",
    "    rows = sheet.nrows\n",
    "\n",
    "    # 用xlutils提供的copy方法将xlrd的对象转化为xlwt的对象\n",
    "    excel = copy(rexcel)\n",
    "\n",
    "    # 用xlwt对象的方法获得要操作的sheet\n",
    "    table = excel.get_sheet(0)\n",
    "\n",
    "    # 标记行数\n",
    "    if ids.count(data[\"student_id\"]) > 0:\n",
    "        id_row = ids.index(data[\"student_id\"]) + 1\n",
    "    else:\n",
    "        id_row = rows\n",
    "    \n",
    "    # xlwt对象的写方法，参数分别是行、列、值\n",
    "    for name, value in data.items():\n",
    "        table.write(id_row, fields.index(name), value)\n",
    "\n",
    "    # xlwt对象的保存方法，这时便覆盖掉了原来的excel\n",
    "    excel.save(filename)\n",
    "\n",
    "\n",
    "# writeInXls({\"filename\": \"match.xls\"}, base_info)"
   ]
  },
  {
   "cell_type": "markdown",
   "metadata": {},
   "source": [
    "录入完毕之后，点击确认进行提交！"
   ]
  },
  {
   "cell_type": "code",
   "execution_count": 67,
   "metadata": {
    "ExecuteTime": {
     "end_time": "2019-04-12T14:57:30.361194Z",
     "start_time": "2019-04-12T14:57:30.268443Z"
    },
    "cell_style": "center",
    "hide_input": false,
    "scrolled": false
   },
   "outputs": [
    {
     "data": {
      "application/vnd.jupyter.widget-view+json": {
       "model_id": "dbbfe9f8af764444b9cc17db97fcd235",
       "version_major": 2,
       "version_minor": 0
      },
      "text/plain": [
       "Text(value='', description='学号', placeholder='请输入你的学号')"
      ]
     },
     "metadata": {},
     "output_type": "display_data"
    },
    {
     "data": {
      "application/vnd.jupyter.widget-view+json": {
       "model_id": "2ac74d1a43b94e06bffba9398e13e38b",
       "version_major": 2,
       "version_minor": 0
      },
      "text/plain": [
       "IntText(value=170, description='身高')"
      ]
     },
     "metadata": {},
     "output_type": "display_data"
    },
    {
     "data": {
      "application/vnd.jupyter.widget-view+json": {
       "model_id": "1685ec7f9f92400392990a8c19475f48",
       "version_major": 2,
       "version_minor": 0
      },
      "text/plain": [
       "Dropdown(description='性别', index=1, options=('男', '女'), value='女')"
      ]
     },
     "metadata": {},
     "output_type": "display_data"
    },
    {
     "data": {
      "application/vnd.jupyter.widget-view+json": {
       "model_id": "6cfc829c97b74c7abda40ce534e90a8d",
       "version_major": 2,
       "version_minor": 0
      },
      "text/plain": [
       "Dropdown(description='学历', options=('本科', '硕士', '博士'), value='本科')"
      ]
     },
     "metadata": {},
     "output_type": "display_data"
    },
    {
     "data": {
      "application/vnd.jupyter.widget-view+json": {
       "model_id": "0988e7e80b894ba9be9b6103860c1597",
       "version_major": 2,
       "version_minor": 0
      },
      "text/plain": [
       "DatePicker(value=datetime.date(1998, 7, 28), description='生日')"
      ]
     },
     "metadata": {},
     "output_type": "display_data"
    },
    {
     "data": {
      "application/vnd.jupyter.widget-view+json": {
       "model_id": "39b39fa066c14568967231d3119df60f",
       "version_major": 2,
       "version_minor": 0
      },
      "text/plain": [
       "Button(button_style='primary', description='确认', layout=Layout(left='10%'), style=ButtonStyle(), tooltip='确认信息…"
      ]
     },
     "metadata": {},
     "output_type": "display_data"
    }
   ],
   "source": [
    "user_info = {\n",
    "    \"id\": None\n",
    "}\n",
    "def buildBaseInfo():\n",
    "    global user_info\n",
    "    student_id = widgets.Text(value='',\n",
    "                              description='学号',\n",
    "                              placeholder='请输入你的学号',\n",
    "                              disabled=False)\n",
    "    gender = widgets.Dropdown(options=['男', '女'],\n",
    "                              value='女',\n",
    "                              description='性别',\n",
    "                              disabled=False)\n",
    "    height = widgets.IntText(value=170,\n",
    "                             description='身高',\n",
    "                             placeholder='输入你的身高',\n",
    "                             disabled=False)\n",
    "    education = widgets.Dropdown(\n",
    "        options=['本科', '硕士', '博士'],\n",
    "        value='本科',\n",
    "        description='学历',\n",
    "        disabled=False,\n",
    "    )\n",
    "    birthday = widgets.DatePicker(value=datetime.date(1998, 7, 28),\n",
    "                                  description='生日',\n",
    "                                  disabled=False)\n",
    "\n",
    "    base_info = {}\n",
    "    \n",
    "    def saveBaseInfoToXls():\n",
    "        writeInXls({\n",
    "            \"filename\": \"match.xls\"\n",
    "        }, base_info)\n",
    "    \n",
    "    def saveBaseInfo(detail):\n",
    "        # 提取字段值\n",
    "        base_info[\"student_id\"] = str(student_id.value)\n",
    "        user_info[\"id\"] = str(student_id.value)\n",
    "        base_info[\"height\"] = str(height.value)\n",
    "        base_info[\"gender\"] = str(gender.value)\n",
    "        base_info[\"education\"] = str(education.value)\n",
    "        base_info[\"birthday\"] = str(birthday.value)\n",
    "        saveBaseInfoToXls()\n",
    "        # 更新按钮状态以示提交\n",
    "        detail.icon = \"check\"\n",
    "        detail.button_style = \"success\"\n",
    "        detail.description = \"保存成功\"\n",
    "\n",
    "    save_btn = widgets.Button(\n",
    "        description='确认',\n",
    "        disabled=False,\n",
    "        button_style='primary',  # 'success', 'info', 'warning', 'danger' or ''\n",
    "        tooltip='确认信息无误并保存',\n",
    "        icon='',\n",
    "        layout=widgets.Layout(left=\"10%\"))\n",
    "    save_btn.on_click(saveBaseInfo)\n",
    "    display(student_id, height, gender, education, birthday, save_btn)\n",
    "\n",
    "buildBaseInfo()"
   ]
  },
  {
   "cell_type": "markdown",
   "metadata": {},
   "source": [
    "## 对目标组合评分"
   ]
  },
  {
   "cell_type": "code",
   "execution_count": 68,
   "metadata": {
    "ExecuteTime": {
     "end_time": "2019-04-12T14:57:30.389120Z",
     "start_time": "2019-04-12T14:57:30.363190Z"
    },
    "code_folding": [],
    "hide_input": true
   },
   "outputs": [],
   "source": [
    "# 预定义属性组合\n",
    "cases = [{\n",
    "    \"look\": 1,\n",
    "    \"grade\": 1,\n",
    "    \"hobby\": 2,\n",
    "    \"age\": 1,\n",
    "    \"height\": 1,\n",
    "    \"family\": 0\n",
    "}, {\n",
    "    \"look\": 2,\n",
    "    \"grade\": 0,\n",
    "    \"hobby\": 0,\n",
    "    \"age\": 1,\n",
    "    \"height\": 1,\n",
    "    \"family\": 1\n",
    "}, {\n",
    "    \"look\": 0,\n",
    "    \"grade\": 2,\n",
    "    \"hobby\": 2,\n",
    "    \"age\": 1,\n",
    "    \"height\": 2,\n",
    "    \"family\": 0\n",
    "}, {\n",
    "    \"look\": 0,\n",
    "    \"grade\": 2,\n",
    "    \"hobby\": 0,\n",
    "    \"age\": 1,\n",
    "    \"height\": 0,\n",
    "    \"family\": 1\n",
    "}, {\n",
    "    \"look\": 1,\n",
    "    \"grade\": 2,\n",
    "    \"hobby\": 1,\n",
    "    \"age\": 0,\n",
    "    \"height\": 2,\n",
    "    \"family\": 1\n",
    "}, {\n",
    "    \"look\": 2,\n",
    "    \"grade\": 1,\n",
    "    \"hobby\": 2,\n",
    "    \"age\": 0,\n",
    "    \"height\": 2,\n",
    "    \"family\": 1\n",
    "}, {\n",
    "    \"look\": 2,\n",
    "    \"grade\": 2,\n",
    "    \"hobby\": 1,\n",
    "    \"age\": 2,\n",
    "    \"height\": 1,\n",
    "    \"family\": 0\n",
    "}, {\n",
    "    \"look\": 1,\n",
    "    \"grade\": 2,\n",
    "    \"hobby\": 0,\n",
    "    \"age\": 0,\n",
    "    \"height\": 1,\n",
    "    \"family\": 2\n",
    "}, {\n",
    "    \"look\": 2,\n",
    "    \"grade\": 1,\n",
    "    \"hobby\": 0,\n",
    "    \"age\": 0,\n",
    "    \"height\": 0,\n",
    "    \"family\": 0\n",
    "}, {\n",
    "    \"look\": 0,\n",
    "    \"grade\": 0,\n",
    "    \"hobby\": 1,\n",
    "    \"age\": 0,\n",
    "    \"height\": 0,\n",
    "    \"family\": 0\n",
    "}, {\n",
    "    \"look\": 1,\n",
    "    \"grade\": 0,\n",
    "    \"hobby\": 2,\n",
    "    \"age\": 2,\n",
    "    \"height\": 0,\n",
    "    \"family\": 1\n",
    "}, {\n",
    "    \"look\": 1,\n",
    "    \"grade\": 1,\n",
    "    \"hobby\": 1,\n",
    "    \"age\": 1,\n",
    "    \"height\": 0,\n",
    "    \"family\": 2\n",
    "}, {\n",
    "    \"look\": 0,\n",
    "    \"grade\": 1,\n",
    "    \"hobby\": 0,\n",
    "    \"age\": 2,\n",
    "    \"height\": 2,\n",
    "    \"family\": 2\n",
    "}, {\n",
    "    \"look\": 0,\n",
    "    \"grade\": 0,\n",
    "    \"hobby\": 2,\n",
    "    \"age\": 0,\n",
    "    \"height\": 1,\n",
    "    \"family\": 2\n",
    "}, {\n",
    "    \"look\": 2,\n",
    "    \"grade\": 2,\n",
    "    \"hobby\": 2,\n",
    "    \"age\": 2,\n",
    "    \"height\": 0,\n",
    "    \"family\": 2\n",
    "}, {\n",
    "    \"look\": 0,\n",
    "    \"grade\": 1,\n",
    "    \"hobby\": 1,\n",
    "    \"age\": 2,\n",
    "    \"height\": 1,\n",
    "    \"family\": 1\n",
    "}, {\n",
    "    \"look\": 2,\n",
    "    \"grade\": 0,\n",
    "    \"hobby\": 1,\n",
    "    \"age\": 1,\n",
    "    \"height\": 2,\n",
    "    \"family\": 2\n",
    "}, {\n",
    "    \"look\": 1,\n",
    "    \"grade\": 0,\n",
    "    \"hobby\": 0,\n",
    "    \"age\": 2,\n",
    "    \"height\": 2,\n",
    "    \"family\": 0\n",
    "}]"
   ]
  },
  {
   "cell_type": "markdown",
   "metadata": {},
   "source": [
    "以下有若干卡片，每张卡片上都标明了一组属性值，对该组属性做直观的判断，按照1-10分进行量化，利用下方的滑动条（或点击滑动条旁的数字）进行录入！"
   ]
  },
  {
   "cell_type": "code",
   "execution_count": 69,
   "metadata": {
    "ExecuteTime": {
     "end_time": "2019-04-12T14:57:31.299686Z",
     "start_time": "2019-04-12T14:57:30.393109Z"
    },
    "code_folding": [],
    "scrolled": false
   },
   "outputs": [
    {
     "data": {
      "application/vnd.jupyter.widget-view+json": {
       "model_id": "8ec02283e5c34233bab42dd18cefb424",
       "version_major": 2,
       "version_minor": 0
      },
      "text/plain": [
       "Tab(children=(VBox(children=(HBox(children=(HTML(value='颜值:一般', layout=Layout(padding='20px 0', width='50%')),…"
      ]
     },
     "metadata": {},
     "output_type": "display_data"
    }
   ],
   "source": [
    "tab_contents = cases[:]\n",
    "cards = {\"valueSliders\": [], \"btns\": []}\n",
    "score_result = []\n",
    "\n",
    "\n",
    "# @description 生成保存分数的btn\n",
    "def generateScoreSaveBtn():\n",
    "    global score_result, user_info\n",
    "    score_save_btn = widgets.Button(\n",
    "        description='提交填答结果',\n",
    "        disabled=False,\n",
    "        button_style='primary',  # 'success', 'info', 'warning', 'danger' or ''\n",
    "        tooltip='填答完毕，提交填答结果',\n",
    "        icon='',\n",
    "        layout=widgets.Layout(left=\"5%\", width=\"90%\"))\n",
    "\n",
    "    def getCardsScore(detail):\n",
    "        values = []\n",
    "        for item in cards[\"valueSliders\"]:\n",
    "            values.append(item.value)\n",
    "            if len(score_result) < len(tab_contents):\n",
    "                score_result.append(item.value)\n",
    "        # 写入文件\n",
    "        writeInXls({\n",
    "            \"filename\": \"match.xls\"\n",
    "        }, {\n",
    "            \"student_id\": user_info[\"id\"],\n",
    "            \"result\": \",\".join([str(x) for x in score_result])\n",
    "        })\n",
    "        # 更新按钮状态以示提交\n",
    "        detail.icon = \"check\"\n",
    "        detail.button_style = \"success\"\n",
    "        detail.description = \"保存成功\"\n",
    "    score_save_btn.on_click(getCardsScore)\n",
    "    return score_save_btn\n",
    "\n",
    "\n",
    "# 生成保存分数的按钮\n",
    "score_save_btn = generateScoreSaveBtn()\n",
    "\n",
    "\n",
    "# @description 切换到下一个tab\n",
    "def nextTab():\n",
    "    saveBtnDisplayed = False\n",
    "\n",
    "    def nextTabInner(detail):\n",
    "        nonlocal saveBtnDisplayed\n",
    "        if tab.selected_index >= len(cards[\"btns\"]) - 1:\n",
    "            if not saveBtnDisplayed:\n",
    "                saveBtnDisplayed = True\n",
    "                display(score_save_btn)\n",
    "        else:\n",
    "            tab_index_now = tab.selected_index\n",
    "            tab.selected_index = tab_index_now + 1\n",
    "\n",
    "    return nextTabInner\n",
    "\n",
    "\n",
    "# 初始化 nextTab 方法\n",
    "nextTab = nextTab()\n",
    "\n",
    "\n",
    "# @description 生成评分卡片\n",
    "# @return contents 填充tab的内容列表\n",
    "def generateContents():\n",
    "    children = []\n",
    "    # 遍历卡片原始数据\n",
    "    for index in range(len(tab_contents)):\n",
    "        _case = tab_contents[index]\n",
    "        # 容器，保存呈现属性名值对的控件\n",
    "        _content = []\n",
    "        for attr_item, attr_value in _case.items():\n",
    "            # 将原始数据组织成 属性名：属性值 的格式，并生成显示组件\n",
    "            attr = widgets.HTML('{}:{}'.format(\n",
    "                attr_list_zh[list(attr_list_en).index(attr_item)],\n",
    "                name_list_dict[attr_item][value_list_dict[attr_item].index(\n",
    "                    attr_value)]),\n",
    "                                layout=widgets.Layout(width='50%',\n",
    "                                                      padding='20px 0'))\n",
    "            _content.append(attr)\n",
    "        # 评分条\n",
    "        slider = widgets.IntSlider(value=1,\n",
    "                                   min=1,\n",
    "                                   max=10,\n",
    "                                   step=1,\n",
    "                                   description='评分：',\n",
    "                                   disabled=False,\n",
    "                                   continuous_update=False,\n",
    "                                   orientation='horizontal',\n",
    "                                   readout=True,\n",
    "                                   readout_format='d',\n",
    "                                   layout=widgets.Layout(width='80%'))\n",
    "        # 统一保存评分条实例\n",
    "        cards[\"valueSliders\"].append(slider)\n",
    "        # 按钮\n",
    "        next_btn = widgets.Button(\n",
    "            description='下一个',\n",
    "            disabled=False,\n",
    "            button_style=\n",
    "            'primary',  # 'success', 'info', 'warning', 'danger' or ''\n",
    "            tooltip='确认并填答下一个',\n",
    "            icon='',\n",
    "            layout=widgets.Layout(width='20%'))\n",
    "        next_btn.on_click(nextTab)\n",
    "        # 统一保存按钮实例\n",
    "        cards[\"btns\"].append(next_btn)\n",
    "        # 布局并作为整体保存\n",
    "        children.append(\n",
    "            widgets.VBox(\n",
    "                [widgets.HBox(_content),\n",
    "                 widgets.HBox([slider, next_btn])]))\n",
    "    return children\n",
    "\n",
    "\n",
    "# 生成tab并display\n",
    "tab = widgets.Tab()\n",
    "# tab内容\n",
    "tab.children = generateContents()\n",
    "# tab标题\n",
    "for i in range(len(tab_contents)):\n",
    "    tab.set_title(i, str(i + 1))\n",
    "display(tab)"
   ]
  },
  {
   "cell_type": "markdown",
   "metadata": {},
   "source": [
    "## 查看结果"
   ]
  },
  {
   "cell_type": "code",
   "execution_count": 70,
   "metadata": {
    "ExecuteTime": {
     "end_time": "2019-04-12T14:57:31.326614Z",
     "start_time": "2019-04-12T14:57:31.302677Z"
    }
   },
   "outputs": [],
   "source": [
    "result_displayed = False\n",
    "def calcResult(detail):\n",
    "    global result_displayed\n",
    "    if result_displayed: return\n",
    "    global score_result\n",
    "    # 设置正交试验设计中每个样本的变量情况\n",
    "    ## 所有水平列表\n",
    "    LEVEL_LIST = [\"A\", \"B\", \"C\", \"D\", \"E\", \"F\"]\n",
    "    LEVEL_NAME = [\"颜值\", \"成绩\", \"爱好\", \"年龄\", \"身高\", \"家庭\"]\n",
    "    ## 所有因素列表\n",
    "    FACTORY_LIST = ['A1', 'A2', 'A3', 'B1', 'B2', 'B3',\n",
    "                    'C1', 'C2', 'C3', 'D1', 'D2', 'D3',\n",
    "                    'E1', 'E2', 'E3', 'F1', 'F2', 'F3']\n",
    "    FACTORY_NAME = [\"高\", \"一般\", \"低\", \"优秀\", \"一般\", \"较差\",\n",
    "                    \"相似\", \"互补\", \"毫不相关\", \"更大\", \"同级\", \"更小\",\n",
    "                    \"身高\", \"相似\", \"更低\", \"更好\", \"一般\", \"不那么好\"]\n",
    "    FACTORY_LEVEL_NAME = [\"颜值\", \"颜值\", \"颜值\", \"成绩\", \"成绩\", \"成绩\",\n",
    "                          \"爱好\", \"爱好\", \"爱好\", \"年龄\", \"年龄\", \"年龄\",\n",
    "                          \"身高\", \"身高\", \"身高\", \"家庭\", \"家庭\", \"家庭\"]\n",
    "    ## 正交试验设计结构\n",
    "    CASE_STRUCTURE = ['A2B2C1D2E2F3', 'A1B3C3D2E2F2', 'A3B1C1D2E1F3', 'A3B1C3D2E3F2', 'A2B1C2D3E1F2', 'A1B2C1D3E1F2',\n",
    "                      'A1B1C2D1E2F3', 'A2B1C3D3E2F1', 'A1B2C3D3E3F3', 'A3B3C2D3E3F3', 'A2B3C1D1E3F2', 'A2B2C2D2E3F1',\n",
    "                      'A3B2C3D1E1F1', 'A3B3C1D3E2F1', 'A1B1C1D1E3F1', 'A3B2C2D1E2F2', 'A1B3C2D2E1F1', 'A2B3C3D1E1F3']\n",
    "    MARK = score_result\n",
    "    \n",
    "    # 生成初始化个案表\n",
    "    columns_list = [\"Mark\"]\n",
    "    columns_list.extend(FACTORY_LIST)\n",
    "    ConjointDummyDF = pd.DataFrame(np.zeros((len(CASE_STRUCTURE), len(FACTORY_LIST) + 1)), columns=columns_list)\n",
    "    \n",
    "    # 生成个案得分对应表\n",
    "    markDF = pd.DataFrame({\"Level\": CASE_STRUCTURE, \"Mark\": MARK})\n",
    "    \n",
    "    # 将正交设计分布写入个案表\n",
    "    for index, row in markDF.iterrows():\n",
    "        factory = []\n",
    "        for i in range(0, len(LEVEL_LIST)):\n",
    "            factory.append(markDF[\"Level\"].loc[index][i * 2:i * 2 + 2])\n",
    "        ConjointDummyDF.loc[index, factory] = 1\n",
    "    \n",
    "    \n",
    "    # 将得分写入个案表\n",
    "    ConjointDummyDF[\"Mark\"] = markDF[\"Mark\"]\n",
    "    \n",
    "    # 回归计算\n",
    "    ## 计算回归分析的X和Y\n",
    "    X = sm.add_constant(ConjointDummyDF[FACTORY_LIST])\n",
    "    Y = ConjointDummyDF[\"Mark\"]\n",
    "    ## 执行回归分析\n",
    "    linearRegression = sm.OLS(Y, X).fit()\n",
    "    \n",
    "    \n",
    "    # 计算效用估计表\n",
    "    ## 生成按组存储的回归系数\n",
    "    level_utilities = []\n",
    "    for level in LEVEL_LIST:\n",
    "        temp_utility = []\n",
    "        for factory in FACTORY_LIST:\n",
    "            if factory[0] == level:\n",
    "                temp_utility.append(linearRegression.params[factory])\n",
    "        level_utilities.append(temp_utility)\n",
    "    ## 计算各水平的重要性(回归系数极差)\n",
    "    importance = []\n",
    "    for item in level_utilities:\n",
    "        importance.append(max(item) - min(item))\n",
    "    ## 计算各水平的重要性百分比\n",
    "    relative_importance = []\n",
    "    for item in importance:\n",
    "        relative_importance.append(100 * round(item / sum(importance), 3))\n",
    "    ## 计算各因素的平均得分\n",
    "    meanMark = []\n",
    "    for i in ConjointDummyDF.columns[1:]:\n",
    "        newMeanMark = ConjointDummyDF[\"Mark\"].loc[ConjointDummyDF[i] == 1].mean()\n",
    "        meanMark.append(newMeanMark)\n",
    "    ## 计算各因素平均得分\n",
    "    totalMeanMark = sum(meanMark) / len(meanMark)\n",
    "    ## 计算各因素效用值\n",
    "    utility = []\n",
    "    for i in range(len(meanMark)):\n",
    "        name = sorted(FACTORY_LIST)[i]\n",
    "        utility.append(meanMark[i] - totalMeanMark)\n",
    "    \n",
    "    # 结果呈现\n",
    "    ## 效用值表\n",
    "    tableUtilities = pd.DataFrame({\"水平\": FACTORY_LEVEL_NAME, \"因素\": FACTORY_NAME, \"效用值\": utility})\n",
    "    display(tableUtilities)\n",
    "    ## 水平重要性表\n",
    "    tableImportance = pd.DataFrame({\"水平\": LEVEL_NAME, \"重要性\": relative_importance})\n",
    "    display(tableImportance)\n",
    "    \n",
    "    result_displayed = True\n",
    "    # 更新按钮状态以示提交\n",
    "    detail.icon = \"check\"\n",
    "    detail.button_style = \"success\"\n",
    "    detail.description = \"计算完成\""
   ]
  },
  {
   "cell_type": "code",
   "execution_count": 71,
   "metadata": {
    "ExecuteTime": {
     "end_time": "2019-04-12T14:57:31.343569Z",
     "start_time": "2019-04-12T14:57:31.327612Z"
    },
    "scrolled": false
   },
   "outputs": [
    {
     "data": {
      "application/vnd.jupyter.widget-view+json": {
       "model_id": "4eef1828e62345a7b0a785995ba7571d",
       "version_major": 2,
       "version_minor": 0
      },
      "text/plain": [
       "Button(button_style='primary', description='查看计算结果', layout=Layout(left='5%', width='90%'), style=ButtonStyle(…"
      ]
     },
     "metadata": {},
     "output_type": "display_data"
    }
   ],
   "source": [
    "# @description 生成查看结果的btn\n",
    "def generateResultBtn():\n",
    "    global score_result,calcResult\n",
    "    result_btn = widgets.Button(\n",
    "        description='查看计算结果',\n",
    "        disabled=False,\n",
    "        button_style='primary',  # 'success', 'info', 'warning', 'danger' or ''\n",
    "        tooltip='填答完毕，提交填答结果',\n",
    "        icon='',\n",
    "        layout=widgets.Layout(left=\"5%\", width=\"90%\"))\n",
    "    result_btn.on_click(calcResult)\n",
    "    \n",
    "    return result_btn\n",
    "\n",
    "# 生成保存分数的按钮\n",
    "display(generateResultBtn())"
   ]
  }
 ],
 "metadata": {
  "hide_input": true,
  "kernelspec": {
   "display_name": "Python 3",
   "language": "python",
   "name": "python3"
  },
  "language_info": {
   "codemirror_mode": {
    "name": "ipython",
    "version": 3
   },
   "file_extension": ".py",
   "mimetype": "text/x-python",
   "name": "python",
   "nbconvert_exporter": "python",
   "pygments_lexer": "ipython3",
   "version": "3.7.1"
  },
  "toc": {
   "base_numbering": 1,
   "nav_menu": {},
   "number_sections": false,
   "sideBar": true,
   "skip_h1_title": false,
   "title_cell": "目录",
   "title_sidebar": "Contents",
   "toc_cell": true,
   "toc_position": {
    "height": "calc(100% - 180px)",
    "left": "10px",
    "top": "150px",
    "width": "343px"
   },
   "toc_section_display": true,
   "toc_window_display": false
  },
  "varInspector": {
   "cols": {
    "lenName": 16,
    "lenType": 16,
    "lenVar": 40
   },
   "kernels_config": {
    "python": {
     "delete_cmd_postfix": "",
     "delete_cmd_prefix": "del ",
     "library": "var_list.py",
     "varRefreshCmd": "print(var_dic_list())"
    },
    "r": {
     "delete_cmd_postfix": ") ",
     "delete_cmd_prefix": "rm(",
     "library": "var_list.r",
     "varRefreshCmd": "cat(var_dic_list()) "
    }
   },
   "position": {
    "height": "458.391px",
    "left": "1396px",
    "right": "20px",
    "top": "175px",
    "width": "477px"
   },
   "types_to_exclude": [
    "module",
    "function",
    "builtin_function_or_method",
    "instance",
    "_Feature"
   ],
   "window_display": false
  }
 },
 "nbformat": 4,
 "nbformat_minor": 2
}
