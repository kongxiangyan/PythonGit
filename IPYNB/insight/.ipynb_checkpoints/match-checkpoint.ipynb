{
 "cells": [
  {
   "cell_type": "markdown",
   "metadata": {
    "slideshow": {
     "slide_type": "skip"
    },
    "toc": true
   },
   "source": [
    "<h1>目录<span class=\"tocSkip\"></span></h1>\n",
    "<div class=\"toc\"><ul class=\"toc-item\"><li><span><a href=\"#我们开始吧\" data-toc-modified-id=\"我们开始吧-1\">我们开始吧</a></span><ul class=\"toc-item\"><li><span><a href=\"#做一些准备工作\" data-toc-modified-id=\"做一些准备工作-1.1\">做一些准备工作</a></span><ul class=\"toc-item\"><li><span><a href=\"#引入库及模块\" data-toc-modified-id=\"引入库及模块-1.1.1\">引入库及模块</a></span></li><li><span><a href=\"#预定义变量\" data-toc-modified-id=\"预定义变量-1.1.2\">预定义变量</a></span></li></ul></li><li><span><a href=\"#录入你的个人信息\" data-toc-modified-id=\"录入你的个人信息-1.2\">录入你的个人信息</a></span><ul class=\"toc-item\"><li><span><a href=\"#基本信息\" data-toc-modified-id=\"基本信息-1.2.1\">基本信息</a></span></li><li><span><a href=\"#额外信息\" data-toc-modified-id=\"额外信息-1.2.2\">额外信息</a></span></li></ul></li><li><span><a href=\"#对目标组合评分\" data-toc-modified-id=\"对目标组合评分-1.3\">对目标组合评分</a></span></li></ul></li></ul></div>"
   ]
  },
  {
   "cell_type": "markdown",
   "metadata": {},
   "source": [
    "# 我们开始吧"
   ]
  },
  {
   "cell_type": "markdown",
   "metadata": {},
   "source": [
    "这是一个简单的计算器，我们挑选了6个在选择男\\女朋友的时候可能会考虑的方面，分别是**颜值**、**成绩**、**兴趣**、**年龄**、**身高**、**家庭**，通过填答一些相关的问题，最终你会看到你在这些方面的选择倾向。\n",
    "\n",
    "- 这个小玩意儿基于交互式文档 Jupyter Notebook 制作，实际上所有的实现细节都在文档内部，在完成之后你可以查看所有细节，并就相关问题跟我们讨论。"
   ]
  },
  {
   "cell_type": "code",
   "execution_count": 104,
   "metadata": {
    "ExecuteTime": {
     "end_time": "2019-04-11T16:06:44.127935Z",
     "start_time": "2019-04-11T16:06:44.123947Z"
    },
    "hide_input": false
   },
   "outputs": [],
   "source": [
    "# 颜值： look [\"低\", \"一般\", \"高\"]\n",
    "# 成绩： grade [\"较差\", \"一般\", \"优秀\"]\n",
    "# 爱好： hobby [\"毫不相关\", \"互补\", \"相似\"]\n",
    "# 年龄： age [\"更小\", \"同级\", \"更大\"]\n",
    "# 身高： height [\"对方更矮一些\", \"相似（5cm以内）\", \"对方更高一些\"]\n",
    "# 家庭： family [\"不那么好\", \"一般\", \"更好\"]"
   ]
  },
  {
   "cell_type": "markdown",
   "metadata": {},
   "source": [
    "## 做一些准备工作"
   ]
  },
  {
   "cell_type": "markdown",
   "metadata": {},
   "source": [
    "引入程序包，定义必要的全局变量。"
   ]
  },
  {
   "cell_type": "markdown",
   "metadata": {
    "heading_collapsed": true
   },
   "source": [
    "### 引入库及模块"
   ]
  },
  {
   "cell_type": "code",
   "execution_count": 105,
   "metadata": {
    "ExecuteTime": {
     "end_time": "2019-04-11T16:06:44.136916Z",
     "start_time": "2019-04-11T16:06:44.129931Z"
    },
    "hidden": true,
    "hide_input": true
   },
   "outputs": [],
   "source": [
    "# 控件库\n",
    "import ipywidgets as widgets\n",
    "# 显示控件的方法\n",
    "from IPython.display import display\n",
    "# 字典深拷贝\n",
    "import copy\n",
    "# 时间日期\n",
    "import datetime\n",
    "import time\n",
    "# 数据计算包\n",
    "import numpy as np\n",
    "import pandas as pd\n",
    "import statsmodels.api as sm"
   ]
  },
  {
   "cell_type": "markdown",
   "metadata": {
    "heading_collapsed": true
   },
   "source": [
    "### 预定义变量"
   ]
  },
  {
   "cell_type": "code",
   "execution_count": 106,
   "metadata": {
    "ExecuteTime": {
     "end_time": "2019-04-11T16:06:44.151898Z",
     "start_time": "2019-04-11T16:06:44.137915Z"
    },
    "code_folding": [],
    "hidden": true,
    "hide_input": true
   },
   "outputs": [],
   "source": [
    "# @description 基于指定的 field 将 dict_list 转换为 list\n",
    "# @param list 待处理的 dict_list\n",
    "# @param aim_list? 目标输出 list\n",
    "# @param field? 要提取的字段名\n",
    "# @return list 一个新的 list\n",
    "def dicts2list(dict_list, aim_list=[], field='value'):\n",
    "    new_list = aim_list[:]\n",
    "    for item in dict_list:\n",
    "        new_list.append(item[field])\n",
    "    return new_list\n",
    "\n",
    "\n",
    "# @description\n",
    "# @param dict 需要遍历处理的字典\n",
    "# @param fn 字典字段值的处理函数，该函数第一参数为字典字段值，输出处理后的字段值\n",
    "# @param fn_args 传给处理函数（fn）的参数\n",
    "# @return dict 一个新的字典\n",
    "def dictForEach(dict, fn, fn_args):\n",
    "    new_dict = {}\n",
    "    for name, item in dict.items():\n",
    "        new_dict[name] = fn(item, **fn_args)\n",
    "    return new_dict"
   ]
  },
  {
   "cell_type": "code",
   "execution_count": 107,
   "metadata": {
    "ExecuteTime": {
     "end_time": "2019-04-11T16:06:44.169850Z",
     "start_time": "2019-04-11T16:06:44.154867Z"
    },
    "code_folding": [],
    "hidden": true,
    "hide_input": true
   },
   "outputs": [],
   "source": [
    "# 预定义属性名列表\n",
    "attr_list = tuple([{\n",
    "    \"zh\": \"颜值\",\n",
    "    \"en\": \"look\"\n",
    "}, {\n",
    "    \"zh\": \"成绩\",\n",
    "    \"en\": \"grade\"\n",
    "}, {\n",
    "    \"zh\": \"兴趣\",\n",
    "    \"en\": \"hobby\"\n",
    "}, {\n",
    "    \"zh\": \"年龄\",\n",
    "    \"en\": \"age\"\n",
    "},{\n",
    "    \"zh\": \"身高\",\n",
    "    \"en\": \"height\"\n",
    "}, {\n",
    "    \"zh\": \"家庭\",\n",
    "    \"en\": \"family\"\n",
    "}])\n",
    "attr_list_en = tuple(dicts2list(attr_list, field = 'en'))\n",
    "attr_list_zh = tuple(dicts2list(attr_list, field = 'zh'))\n",
    "\n",
    "# 预定义属性及值的字典\n",
    "dict = {\n",
    "    \"look\": [{\n",
    "        \"name\": \"低\",\n",
    "        \"value\": 0\n",
    "    }, {\n",
    "        \"name\": \"一般\",\n",
    "        \"value\": 1\n",
    "    }, {\n",
    "        \"name\": \"高\",\n",
    "        \"value\": 2\n",
    "    }],\n",
    "    \"grade\": [{\n",
    "        \"name\": \"较差\",\n",
    "        \"value\": 0\n",
    "    }, {\n",
    "        \"name\": \"一般\",\n",
    "        \"value\": 1 \n",
    "    }, {\n",
    "        \"name\": \"优秀\",\n",
    "        \"value\": 2\n",
    "    }],\n",
    "    \"hobby\": [{\n",
    "        \"name\": \"毫不相关\",\n",
    "        \"value\": 0\n",
    "    }, {\n",
    "        \"name\": \"互补\",\n",
    "        \"value\": 1\n",
    "    }, {\n",
    "        \"name\": \"相似\",\n",
    "        \"value\": 2\n",
    "    }],\n",
    "    \"age\": [{\n",
    "        \"name\": \"更小\",\n",
    "        \"value\": 0\n",
    "    }, {\n",
    "        \"name\": \"同级\",\n",
    "        \"value\": 1\n",
    "    }, {\n",
    "        \"name\": \"更大\",\n",
    "        \"value\": 2\n",
    "    }],\n",
    "    \"height\": [{\n",
    "        \"name\": \"对方更矮一些\",\n",
    "        \"value\": 0\n",
    "    }, {\n",
    "        \"name\": \"相似（5cm以内）\",\n",
    "        \"value\": 1\n",
    "    }, {\n",
    "        \"name\": \"对方更高一些\",\n",
    "        \"value\": 2\n",
    "    }],\n",
    "    \"family\": [{\n",
    "        \"name\": \"不那么好\",\n",
    "        \"value\": 0\n",
    "    }, {\n",
    "        \"name\": \"一般\",\n",
    "        \"value\": 1 \n",
    "    }, {\n",
    "        \"name\": \"更好\",\n",
    "        \"value\": 2\n",
    "    }]\n",
    "}\n",
    "# 预定义属性及值的列表\n",
    "name_list_dict = dictForEach(dict, dicts2list, {\"field\": \"name\"})\n",
    "value_list_dict = dictForEach(dict, dicts2list, {\"field\": \"value\"})"
   ]
  },
  {
   "cell_type": "code",
   "execution_count": 108,
   "metadata": {
    "ExecuteTime": {
     "end_time": "2019-04-11T16:06:44.178799Z",
     "start_time": "2019-04-11T16:06:44.172815Z"
    },
    "code_folding": [],
    "hidden": true,
    "hide_input": true,
    "scrolled": false
   },
   "outputs": [],
   "source": [
    "# print('预定义的属性包括：{keys}'.format(keys = dict.keys()))\n",
    "# print('预定义属性及值的列表：{name_list_dict}'.format(name_list_dict = name_list_dict))"
   ]
  },
  {
   "cell_type": "code",
   "execution_count": 109,
   "metadata": {
    "ExecuteTime": {
     "end_time": "2019-04-11T16:06:49.206381Z",
     "start_time": "2019-04-11T16:06:44.179796Z"
    },
    "hidden": true,
    "hide_input": true
   },
   "outputs": [
    {
     "data": {
      "application/vnd.jupyter.widget-view+json": {
       "model_id": "2db3aaeaf5b744418ab5a5528a34ca76",
       "version_major": 2,
       "version_minor": 0
      },
      "text/plain": [
       "IntProgress(value=0, description='Loading:', max=10)"
      ]
     },
     "metadata": {},
     "output_type": "display_data"
    }
   ],
   "source": [
    "progressbar0 = widgets.IntProgress(\n",
    "    value=0,\n",
    "    min=0,\n",
    "    max=10,\n",
    "    step=1,\n",
    "    description='Loading:',\n",
    "    bar_style='', # 'success', 'info', 'warning', 'danger' or ''\n",
    "    orientation='horizontal'\n",
    ")\n",
    "display(progressbar0)\n",
    "\n",
    "\n",
    "time.sleep(.5)\n",
    "progressbar0.value = 1\n",
    "time.sleep(.5)\n",
    "progressbar0.value = 2\n",
    "time.sleep(.5)\n",
    "progressbar0.value = 3\n",
    "time.sleep(.5)\n",
    "progressbar0.value = 4\n",
    "time.sleep(.5)\n",
    "progressbar0.value = 5\n",
    "time.sleep(.5)\n",
    "progressbar0.value = 6\n",
    "time.sleep(.5)\n",
    "progressbar0.value = 7\n",
    "time.sleep(.5)\n",
    "progressbar0.value = 8\n",
    "time.sleep(.5)\n",
    "progressbar0.value = 9\n",
    "time.sleep(.5)\n",
    "progressbar0.value = 10\n",
    "progressbar0.description = \"Complete\"\n",
    "progressbar0.bar_style = \"success\""
   ]
  },
  {
   "cell_type": "markdown",
   "metadata": {
    "heading_collapsed": true
   },
   "source": [
    "## 录入你的个人信息"
   ]
  },
  {
   "cell_type": "markdown",
   "metadata": {
    "cell_style": "center",
    "heading_collapsed": true,
    "hidden": true
   },
   "source": [
    "### 基本信息"
   ]
  },
  {
   "cell_type": "code",
   "execution_count": 110,
   "metadata": {
    "ExecuteTime": {
     "end_time": "2019-04-11T16:06:49.259217Z",
     "start_time": "2019-04-11T16:06:49.208377Z"
    },
    "cell_style": "center",
    "hidden": true,
    "hide_input": false,
    "scrolled": true
   },
   "outputs": [
    {
     "data": {
      "application/vnd.jupyter.widget-view+json": {
       "model_id": "378bc5085e114471b96ca1bc1e8c2460",
       "version_major": 2,
       "version_minor": 0
      },
      "text/plain": [
       "Text(value='', description='学号', placeholder='请输入你的学号')"
      ]
     },
     "metadata": {},
     "output_type": "display_data"
    },
    {
     "data": {
      "application/vnd.jupyter.widget-view+json": {
       "model_id": "bb6cf60b1adf4c24b3356912a9b21a62",
       "version_major": 2,
       "version_minor": 0
      },
      "text/plain": [
       "IntText(value=170, description='身高')"
      ]
     },
     "metadata": {},
     "output_type": "display_data"
    },
    {
     "data": {
      "application/vnd.jupyter.widget-view+json": {
       "model_id": "acba44fc0d404612ab71f63cbf23cd75",
       "version_major": 2,
       "version_minor": 0
      },
      "text/plain": [
       "Dropdown(description='性别', index=1, options=('男', '女'), value='女')"
      ]
     },
     "metadata": {},
     "output_type": "display_data"
    },
    {
     "data": {
      "application/vnd.jupyter.widget-view+json": {
       "model_id": "238b71fd708f43aa917fc12be02f41c6",
       "version_major": 2,
       "version_minor": 0
      },
      "text/plain": [
       "Dropdown(description='学历', options=('本科', '硕士', '博士'), value='本科')"
      ]
     },
     "metadata": {},
     "output_type": "display_data"
    },
    {
     "data": {
      "application/vnd.jupyter.widget-view+json": {
       "model_id": "66b32fc230a64a878f4d034c2d3cd128",
       "version_major": 2,
       "version_minor": 0
      },
      "text/plain": [
       "DatePicker(value=datetime.date(1998, 7, 28), description='生日')"
      ]
     },
     "metadata": {},
     "output_type": "display_data"
    },
    {
     "data": {
      "application/vnd.jupyter.widget-view+json": {
       "model_id": "3c38f9760e384a579247964761470aa7",
       "version_major": 2,
       "version_minor": 0
      },
      "text/plain": [
       "Button(button_style='primary', description='确认', style=ButtonStyle(), tooltip='确认信息无误并保存')"
      ]
     },
     "metadata": {},
     "output_type": "display_data"
    }
   ],
   "source": [
    "student_id = widgets.Text(value='',\n",
    "                    description='学号',\n",
    "                    placeholder='请输入你的学号',\n",
    "                    disabled=False)\n",
    "gender =  widgets.Dropdown(\n",
    "    options=['男', '女'],\n",
    "    value='女',\n",
    "    description='性别',\n",
    "    disabled=False\n",
    ")\n",
    "height = widgets.IntText(\n",
    "    value=170,\n",
    "    description='身高',\n",
    "    placeholder='输入你的身高',\n",
    "    disabled=False\n",
    ")\n",
    "education = widgets.Dropdown(\n",
    "    options=['本科', '硕士', '博士'],\n",
    "    value='本科',\n",
    "    description='学历',\n",
    "    disabled=False,\n",
    ")\n",
    "birthday = widgets.DatePicker(\n",
    "    value=datetime.date(1998, 7, 28),\n",
    "    description='生日',\n",
    "    disabled=False\n",
    ")\n",
    "\n",
    "base_info = {}\n",
    "def save_base_info(detail):\n",
    "    # 提取字段值\n",
    "    base_info[\"student_id\"] = str(student_id.value)\n",
    "    base_info[\"height\"] = str(height.value)\n",
    "    base_info[\"gender\"] = str(gender.value)\n",
    "    base_info[\"education\"] = str(education.value)\n",
    "    base_info[\"birthday\"] = str(birthday.value)\n",
    "    \n",
    "    # 更新按钮状态以示提交\n",
    "    detail.icon = \"check\"\n",
    "    detail.button_style = \"success\"\n",
    "    detail.description = \"保存成功\"\n",
    "    print(base_info)\n",
    "    \n",
    "save_btn = widgets.Button(\n",
    "    description='确认',\n",
    "    disabled=False,\n",
    "    button_style='primary', # 'success', 'info', 'warning', 'danger' or ''\n",
    "    tooltip='确认信息无误并保存',\n",
    "    icon=''\n",
    ")    \n",
    "save_btn.on_click(save_base_info)\n",
    "\n",
    "display(student_id, height, gender, education, birthday, save_btn)"
   ]
  },
  {
   "cell_type": "markdown",
   "metadata": {
    "ExecuteTime": {
     "end_time": "2019-04-11T01:57:49.034213Z",
     "start_time": "2019-04-11T01:57:49.030251Z"
    },
    "cell_style": "center",
    "hidden": true
   },
   "source": [
    "### 额外信息"
   ]
  },
  {
   "cell_type": "code",
   "execution_count": 111,
   "metadata": {
    "ExecuteTime": {
     "end_time": "2019-04-11T16:06:49.325041Z",
     "start_time": "2019-04-11T16:06:49.261211Z"
    },
    "cell_style": "center",
    "hidden": true,
    "scrolled": false
   },
   "outputs": [
    {
     "data": {
      "application/vnd.jupyter.widget-view+json": {
       "model_id": "294e1c71bda3411e88416f49135b4e07",
       "version_major": 2,
       "version_minor": 0
      },
      "text/plain": [
       "Dropdown(description='颜值', description_tooltip='请选择…', index=3, options=('低', '一般', '高', '点击进行选择…'), value='点击…"
      ]
     },
     "metadata": {},
     "output_type": "display_data"
    },
    {
     "data": {
      "application/vnd.jupyter.widget-view+json": {
       "model_id": "aa3f5593f775471593a678b874f5bbdb",
       "version_major": 2,
       "version_minor": 0
      },
      "text/plain": [
       "Dropdown(description='成绩', description_tooltip='请选择…', index=3, options=('较差', '一般', '优秀', '点击进行选择…'), value='…"
      ]
     },
     "metadata": {},
     "output_type": "display_data"
    },
    {
     "data": {
      "application/vnd.jupyter.widget-view+json": {
       "model_id": "6a433175577b414da0d70d238feef079",
       "version_major": 2,
       "version_minor": 0
      },
      "text/plain": [
       "Dropdown(description='兴趣', description_tooltip='请选择…', index=3, options=('毫不相关', '互补', '相似', '点击进行选择…'), value…"
      ]
     },
     "metadata": {},
     "output_type": "display_data"
    },
    {
     "data": {
      "application/vnd.jupyter.widget-view+json": {
       "model_id": "f71ef4ca454f4fb2a7897aa83342d6d7",
       "version_major": 2,
       "version_minor": 0
      },
      "text/plain": [
       "Dropdown(description='年龄', description_tooltip='请选择…', index=3, options=('更小', '同级', '更大', '点击进行选择…'), value='…"
      ]
     },
     "metadata": {},
     "output_type": "display_data"
    },
    {
     "data": {
      "application/vnd.jupyter.widget-view+json": {
       "model_id": "55597885552e44858f51875631e35821",
       "version_major": 2,
       "version_minor": 0
      },
      "text/plain": [
       "Dropdown(description='身高', description_tooltip='请选择…', index=3, options=('对方更矮一些', '相似（5cm以内）', '对方更高一些', '点击进…"
      ]
     },
     "metadata": {},
     "output_type": "display_data"
    },
    {
     "data": {
      "application/vnd.jupyter.widget-view+json": {
       "model_id": "60496f6b8d5f48bea7e1e3435e8f7aa8",
       "version_major": 2,
       "version_minor": 0
      },
      "text/plain": [
       "Dropdown(description='家庭', description_tooltip='请选择…', index=3, options=('不那么好', '一般', '更好', '点击进行选择…'), value…"
      ]
     },
     "metadata": {},
     "output_type": "display_data"
    },
    {
     "data": {
      "application/vnd.jupyter.widget-view+json": {
       "model_id": "9c29df6fc7434dacb7b158fd22e8b1c4",
       "version_major": 2,
       "version_minor": 0
      },
      "text/plain": [
       "Button(button_style='primary', description='确认', style=ButtonStyle(), tooltip='确认所有字段填答无误并保存')"
      ]
     },
     "metadata": {},
     "output_type": "display_data"
    }
   ],
   "source": [
    "# 容器\n",
    "dropdowns = {}\n",
    "# @description 根据预定义属性及其选项值设置widget，并初始化相关控制器\n",
    "def generateDropdowns(cfg):\n",
    "    global dropdowns\n",
    "    for i in range(len(attr_list)):\n",
    "        _item = dropdowns[attr_list_en[i]] = {}\n",
    "        _item[\"initialed\"] = False\n",
    "        # dropdown 的选项\n",
    "        _options = name_list_dict[attr_list_en[i]][:]\n",
    "        _options.append(cfg[\"placeholder\"])\n",
    "        # dropdown 的描述\n",
    "        _description = attr_list_zh[i]\n",
    "        # 创建dropdown\n",
    "        slt = widgets.Dropdown(options=_options,\n",
    "                               description=_description,\n",
    "                               description_tooltip='请选择…',\n",
    "                               disabled=False)\n",
    "        # 为 dropdown widget 实例绑定事件监听\n",
    "        slt.observe(handleDropdownChange, names=['index'])\n",
    "        slt.index = len(_options) - 1\n",
    "        _item[\"widget\"] = slt\n",
    "        _item[\"options\"] = _options\n",
    "        _item[\"changed\"] = False\n",
    "        _item[\"initialed\"] = True\n",
    "\n",
    "\n",
    "def handleDropdownChange(detail):\n",
    "    # 取到对应的英文属性名\n",
    "    attr_name_zh = detail.owner.description\n",
    "    attr_name_en = attr_list_en[list(attr_list_zh).index(attr_name_zh)]\n",
    "    # 获取目标dropdown\n",
    "    dropdown = dropdowns[attr_name_en]\n",
    "    # 未初始化完成，什么都不做\n",
    "    if not dropdown[\"initialed\"]:\n",
    "        return\n",
    "    # 第一次更新值的时候将placeholder去掉\n",
    "    if not dropdown[\"changed\"]:\n",
    "        dropdown[\"changed\"] = True\n",
    "        _index = detail[\"new\"]\n",
    "        dropdown[\"options\"].pop()\n",
    "        dropdown[\"widget\"].options = dropdown[\"options\"]\n",
    "        dropdown[\"widget\"].index = _index\n",
    "\n",
    "# 生成并初始化 dropdowns\n",
    "generateDropdowns({\n",
    "    \"placeholder\": \"点击进行选择…\"\n",
    "})\n",
    "\n",
    "# 提取封装的widget,用于展示\n",
    "dropdown_list = dicts2list(list(dropdowns.values()), field='widget')\n",
    "display(*dropdown_list)\n",
    "\n",
    "save_btn2 = widgets.Button(\n",
    "    description='确认',\n",
    "    disabled=False,\n",
    "    button_style='primary', # 'success', 'info', 'warning', 'danger' or ''\n",
    "    tooltip='确认所有字段填答无误并保存',\n",
    "    icon=''\n",
    ")\n",
    "\n",
    "values = {}\n",
    "def save_values(detail):\n",
    "    # 确认所有字段填写完毕\n",
    "    changes = dicts2list(list(dropdowns.values()), field='changed')\n",
    "    if changes.count(False) >= 1 :\n",
    "        detail.button_style = \"warning\"\n",
    "        return\n",
    "    \n",
    "    # 提取字段值\n",
    "    for attr in attr_list_en:\n",
    "        values[attr] = dropdowns[attr][\"widget\"].value\n",
    "    \n",
    "    # 更新按钮状态以示提交\n",
    "    detail.icon = \"check\"\n",
    "    detail.button_style = \"success\"\n",
    "    detail.description = \"保存成功\"\n",
    "    print(values)\n",
    "\n",
    "save_btn2.on_click(save_values)\n",
    "display(save_btn2)"
   ]
  },
  {
   "cell_type": "markdown",
   "metadata": {},
   "source": [
    "## 对目标组合评分"
   ]
  },
  {
   "cell_type": "code",
   "execution_count": 112,
   "metadata": {
    "ExecuteTime": {
     "end_time": "2019-04-11T16:06:49.351970Z",
     "start_time": "2019-04-11T16:06:49.331024Z"
    },
    "code_folding": []
   },
   "outputs": [],
   "source": [
    "# 预定义属性组合\n",
    "cases = [{\n",
    "    \"look\": 1,\n",
    "    \"grade\": 1,\n",
    "    \"hobby\": 2,\n",
    "    \"age\": 1,\n",
    "    \"height\": 1,\n",
    "    \"family\": 0\n",
    "}, {\n",
    "    \"look\": 2,\n",
    "    \"grade\": 0,\n",
    "    \"hobby\": 0,\n",
    "    \"age\": 1,\n",
    "    \"height\": 1,\n",
    "    \"family\": 1\n",
    "}, {\n",
    "    \"look\": 0,\n",
    "    \"grade\": 2,\n",
    "    \"hobby\": 2,\n",
    "    \"age\": 1,\n",
    "    \"height\": 2,\n",
    "    \"family\": 0\n",
    "}, {\n",
    "    \"look\": 0,\n",
    "    \"grade\": 2,\n",
    "    \"hobby\": 0,\n",
    "    \"age\": 1,\n",
    "    \"height\": 0,\n",
    "    \"family\": 1\n",
    "}, {\n",
    "    \"look\": 1,\n",
    "    \"grade\": 2,\n",
    "    \"hobby\": 1,\n",
    "    \"age\": 0,\n",
    "    \"height\": 2,\n",
    "    \"family\": 1\n",
    "}, {\n",
    "    \"look\": 2,\n",
    "    \"grade\": 1,\n",
    "    \"hobby\": 2,\n",
    "    \"age\": 0,\n",
    "    \"height\": 2,\n",
    "    \"family\": 1\n",
    "}, {\n",
    "    \"look\": 2,\n",
    "    \"grade\": 2,\n",
    "    \"hobby\": 1,\n",
    "    \"age\": 2,\n",
    "    \"height\": 1,\n",
    "    \"family\": 0\n",
    "}, {\n",
    "    \"look\": 1,\n",
    "    \"grade\": 2,\n",
    "    \"hobby\": 0,\n",
    "    \"age\": 0,\n",
    "    \"height\": 1,\n",
    "    \"family\": 2\n",
    "}, {\n",
    "    \"look\": 2,\n",
    "    \"grade\": 1,\n",
    "    \"hobby\": 0,\n",
    "    \"age\": 0,\n",
    "    \"height\": 0,\n",
    "    \"family\": 0\n",
    "}, {\n",
    "    \"look\": 0,\n",
    "    \"grade\": 0,\n",
    "    \"hobby\": 1,\n",
    "    \"age\": 0,\n",
    "    \"height\": 0,\n",
    "    \"family\": 0\n",
    "}, {\n",
    "    \"look\": 1,\n",
    "    \"grade\": 0,\n",
    "    \"hobby\": 2,\n",
    "    \"age\": 2,\n",
    "    \"height\": 0,\n",
    "    \"family\": 1\n",
    "}, {\n",
    "    \"look\": 1,\n",
    "    \"grade\": 1,\n",
    "    \"hobby\": 1,\n",
    "    \"age\": 1,\n",
    "    \"height\": 0,\n",
    "    \"family\": 2\n",
    "}, {\n",
    "    \"look\": 0,\n",
    "    \"grade\": 1,\n",
    "    \"hobby\": 0,\n",
    "    \"age\": 2,\n",
    "    \"height\": 2,\n",
    "    \"family\": 2\n",
    "}, {\n",
    "    \"look\": 0,\n",
    "    \"grade\": 0,\n",
    "    \"hobby\": 2,\n",
    "    \"age\": 0,\n",
    "    \"height\": 1,\n",
    "    \"family\": 2\n",
    "}, {\n",
    "    \"look\": 2,\n",
    "    \"grade\": 2,\n",
    "    \"hobby\": 2,\n",
    "    \"age\": 2,\n",
    "    \"height\": 0,\n",
    "    \"family\": 2\n",
    "}, {\n",
    "    \"look\": 0,\n",
    "    \"grade\": 1,\n",
    "    \"hobby\": 1,\n",
    "    \"age\": 2,\n",
    "    \"height\": 1,\n",
    "    \"family\": 1\n",
    "}, {\n",
    "    \"look\": 2,\n",
    "    \"grade\": 0,\n",
    "    \"hobby\": 1,\n",
    "    \"age\": 1,\n",
    "    \"height\": 2,\n",
    "    \"family\": 2\n",
    "}, {\n",
    "    \"look\": 1,\n",
    "    \"grade\": 0,\n",
    "    \"hobby\": 0,\n",
    "    \"age\": 2,\n",
    "    \"height\": 2,\n",
    "    \"family\": 0\n",
    "}]"
   ]
  },
  {
   "cell_type": "code",
   "execution_count": 113,
   "metadata": {
    "ExecuteTime": {
     "end_time": "2019-04-11T16:06:50.188743Z",
     "start_time": "2019-04-11T16:06:49.352966Z"
    },
    "code_folding": [],
    "scrolled": false
   },
   "outputs": [
    {
     "data": {
      "application/vnd.jupyter.widget-view+json": {
       "model_id": "4bf1a99232274c4896231e566b4bb277",
       "version_major": 2,
       "version_minor": 0
      },
      "text/plain": [
       "Tab(children=(VBox(children=(HBox(children=(HTML(value='颜值:一般', layout=Layout(padding='20px 0', width='50%')),…"
      ]
     },
     "metadata": {},
     "output_type": "display_data"
    }
   ],
   "source": [
    "tab_contents = cases[:]\n",
    "cards = {\"valueSliders\": [], \"btns\": []}\n",
    "\n",
    "# @description 生成保存分数的btn\n",
    "def generateScoreSaveBtn():\n",
    "    score_save_btn = widgets.Button(\n",
    "        description='提交填答结果',\n",
    "        disabled=False,\n",
    "        button_style='primary',  # 'success', 'info', 'warning', 'danger' or ''\n",
    "        tooltip='填答完毕，提交填答结果',\n",
    "        icon='',\n",
    "        layout=widgets.Layout(left=\"5%\", width=\"90%\"))\n",
    "    def getCardsScore(detail):\n",
    "        values = []\n",
    "        for item in cards[\"valueSliders\"]:\n",
    "            values.append(item.value)\n",
    "        print(values)\n",
    "    score_save_btn.on_click(getCardsScore)\n",
    "    return score_save_btn\n",
    "\n",
    "\n",
    "# 生成保存分数的按钮\n",
    "score_save_btn = generateScoreSaveBtn()\n",
    "\n",
    "\n",
    "# @description 切换到下一个tab\n",
    "def nextTab():\n",
    "    saveBtnDisplayed = False\n",
    "    def nextTabInner(detail):\n",
    "        nonlocal saveBtnDisplayed\n",
    "        if tab.selected_index >= len(cards[\"btns\"]) - 1 :\n",
    "            if not saveBtnDisplayed :\n",
    "                saveBtnDisplayed = True\n",
    "                display(score_save_btn)\n",
    "        else:\n",
    "            tab_index_now = tab.selected_index\n",
    "            tab.selected_index = tab_index_now + 1\n",
    "    return nextTabInner\n",
    "\n",
    "\n",
    "# 初始化 nextTab 方法\n",
    "nextTab = nextTab()\n",
    "\n",
    "\n",
    "# @description 生成评分卡片\n",
    "# @return contents 填充tab的内容列表\n",
    "def generateContents():\n",
    "    children = []\n",
    "    # 遍历卡片原始数据\n",
    "    for index in range(len(tab_contents)):\n",
    "        _case = tab_contents[index]\n",
    "        # 容器，保存呈现属性名值对的控件\n",
    "        _content = []\n",
    "        for attr_item, attr_value in _case.items():\n",
    "            # 将原始数据组织成 属性名：属性值 的格式，并生成显示组件\n",
    "            attr = widgets.HTML('{}:{}'.format(\n",
    "                attr_list_zh[list(attr_list_en).index(attr_item)],\n",
    "                name_list_dict[attr_item][value_list_dict[attr_item].index(\n",
    "                    attr_value)]),\n",
    "                                layout=widgets.Layout(width='50%',\n",
    "                                                      padding='20px 0'))\n",
    "            _content.append(attr)\n",
    "        # 评分条\n",
    "        slider = widgets.IntSlider(value=0,\n",
    "                                   min=0,\n",
    "                                   max=10,\n",
    "                                   step=1,\n",
    "                                   description='评分：',\n",
    "                                   disabled=False,\n",
    "                                   continuous_update=False,\n",
    "                                   orientation='horizontal',\n",
    "                                   readout=True,\n",
    "                                   readout_format='d',\n",
    "                                   layout=widgets.Layout(width='80%'))\n",
    "        # 统一保存评分条实例\n",
    "        cards[\"valueSliders\"].append(slider)\n",
    "        # 按钮\n",
    "        next_btn = widgets.Button(\n",
    "            description='下一个',\n",
    "            disabled=False,\n",
    "            button_style=\n",
    "            'primary',  # 'success', 'info', 'warning', 'danger' or ''\n",
    "            tooltip='确认并填答下一个',\n",
    "            icon='',\n",
    "            layout=widgets.Layout(width='20%'))\n",
    "        next_btn.on_click(nextTab)\n",
    "        # 统一保存按钮实例\n",
    "        cards[\"btns\"].append(next_btn)\n",
    "        # 布局并作为整体保存\n",
    "        children.append(\n",
    "            widgets.VBox(\n",
    "                [widgets.HBox(_content),\n",
    "                 widgets.HBox([slider, next_btn])]))\n",
    "    return children\n",
    "\n",
    "\n",
    "# 生成tab并display\n",
    "tab = widgets.Tab()\n",
    "# tab内容\n",
    "tab.children = generateContents()\n",
    "# tab标题\n",
    "for i in range(len(tab_contents)):\n",
    "    tab.set_title(i, str(i + 1))\n",
    "display(tab)\n",
    "\n",
    "# unique_result = "
   ]
  }
 ],
 "metadata": {
  "hide_input": false,
  "kernelspec": {
   "display_name": "Python 3",
   "language": "python",
   "name": "python3"
  },
  "language_info": {
   "codemirror_mode": {
    "name": "ipython",
    "version": 3
   },
   "file_extension": ".py",
   "mimetype": "text/x-python",
   "name": "python",
   "nbconvert_exporter": "python",
   "pygments_lexer": "ipython3",
   "version": "3.7.1"
  },
  "toc": {
   "base_numbering": 1,
   "nav_menu": {},
   "number_sections": false,
   "sideBar": true,
   "skip_h1_title": false,
   "title_cell": "目录",
   "title_sidebar": "Contents",
   "toc_cell": true,
   "toc_position": {
    "height": "calc(100% - 180px)",
    "left": "10px",
    "top": "150px",
    "width": "343px"
   },
   "toc_section_display": true,
   "toc_window_display": true
  },
  "varInspector": {
   "cols": {
    "lenName": 16,
    "lenType": 16,
    "lenVar": 40
   },
   "kernels_config": {
    "python": {
     "delete_cmd_postfix": "",
     "delete_cmd_prefix": "del ",
     "library": "var_list.py",
     "varRefreshCmd": "print(var_dic_list())"
    },
    "r": {
     "delete_cmd_postfix": ") ",
     "delete_cmd_prefix": "rm(",
     "library": "var_list.r",
     "varRefreshCmd": "cat(var_dic_list()) "
    }
   },
   "position": {
    "height": "458.391px",
    "left": "1396px",
    "right": "20px",
    "top": "175px",
    "width": "477px"
   },
   "types_to_exclude": [
    "module",
    "function",
    "builtin_function_or_method",
    "instance",
    "_Feature"
   ],
   "window_display": false
  }
 },
 "nbformat": 4,
 "nbformat_minor": 2
}
