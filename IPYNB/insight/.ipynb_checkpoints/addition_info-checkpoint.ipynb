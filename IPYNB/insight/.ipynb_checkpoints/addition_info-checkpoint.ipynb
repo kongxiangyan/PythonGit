{
 "cells": [
  {
   "cell_type": "markdown",
   "metadata": {},
   "source": [
    "## 做一些准备工作"
   ]
  },
  {
   "cell_type": "markdown",
   "metadata": {},
   "source": [
    "引入程序包，定义必要的全局变量。"
   ]
  },
  {
   "cell_type": "markdown",
   "metadata": {},
   "source": [
    "### 引入库及模块"
   ]
  },
  {
   "cell_type": "code",
   "execution_count": 1,
   "metadata": {
    "ExecuteTime": {
     "end_time": "2019-04-12T06:33:08.490257Z",
     "start_time": "2019-04-12T06:33:06.209286Z"
    },
    "hide_input": true
   },
   "outputs": [],
   "source": [
    "# 控件库\n",
    "import ipywidgets as widgets\n",
    "# 显示控件的方法\n",
    "from IPython.display import display\n",
    "# 时间日期\n",
    "import datetime\n",
    "# 数据计算包\n",
    "import numpy as np\n",
    "import pandas as pd\n",
    "import statsmodels.api as sm"
   ]
  },
  {
   "cell_type": "markdown",
   "metadata": {},
   "source": [
    "### 预定义变量"
   ]
  },
  {
   "cell_type": "code",
   "execution_count": 2,
   "metadata": {
    "ExecuteTime": {
     "end_time": "2019-04-12T06:33:08.546105Z",
     "start_time": "2019-04-12T06:33:08.496438Z"
    },
    "code_folding": [],
    "hide_input": true
   },
   "outputs": [],
   "source": [
    "# @description 基于指定的 field 将 dict_list 转换为 list\n",
    "# @param list 待处理的 dict_list\n",
    "# @param aim_list? 目标输出 list\n",
    "# @param field? 要提取的字段名\n",
    "# @return list 一个新的 list\n",
    "def dicts2list(dict_list, aim_list=[], field='value'):\n",
    "    new_list = aim_list[:]\n",
    "    for item in dict_list:\n",
    "        new_list.append(item[field])\n",
    "    return new_list\n",
    "\n",
    "\n",
    "# @description\n",
    "# @param dict 需要遍历处理的字典\n",
    "# @param fn 字典字段值的处理函数，该函数第一参数为字典字段值，输出处理后的字段值\n",
    "# @param fn_args 传给处理函数（fn）的参数\n",
    "# @return dict 一个新的字典\n",
    "def dictForEach(dict, fn, fn_args):\n",
    "    new_dict = {}\n",
    "    for name, item in dict.items():\n",
    "        new_dict[name] = fn(item, **fn_args)\n",
    "    return new_dict"
   ]
  },
  {
   "cell_type": "code",
   "execution_count": 3,
   "metadata": {
    "ExecuteTime": {
     "end_time": "2019-04-12T06:33:08.607163Z",
     "start_time": "2019-04-12T06:33:08.561065Z"
    },
    "code_folding": [],
    "hide_input": true
   },
   "outputs": [],
   "source": [
    "# 预定义属性名列表\n",
    "attr_list = tuple([{\n",
    "    \"zh\": \"颜值\",\n",
    "    \"en\": \"look\"\n",
    "}, {\n",
    "    \"zh\": \"成绩\",\n",
    "    \"en\": \"grade\"\n",
    "}, {\n",
    "    \"zh\": \"兴趣\",\n",
    "    \"en\": \"hobby\"\n",
    "}, {\n",
    "    \"zh\": \"年龄\",\n",
    "    \"en\": \"age\"\n",
    "},{\n",
    "    \"zh\": \"身高\",\n",
    "    \"en\": \"height\"\n",
    "}, {\n",
    "    \"zh\": \"家庭\",\n",
    "    \"en\": \"family\"\n",
    "}])\n",
    "attr_list_en = tuple(dicts2list(attr_list, field = 'en'))\n",
    "attr_list_zh = tuple(dicts2list(attr_list, field = 'zh'))\n",
    "\n",
    "# 预定义属性及值的字典\n",
    "dict = {\n",
    "    \"look\": [{\n",
    "        \"name\": \"低\",\n",
    "        \"value\": 0\n",
    "    }, {\n",
    "        \"name\": \"一般\",\n",
    "        \"value\": 1\n",
    "    }, {\n",
    "        \"name\": \"高\",\n",
    "        \"value\": 2\n",
    "    }],\n",
    "    \"grade\": [{\n",
    "        \"name\": \"较差\",\n",
    "        \"value\": 0\n",
    "    }, {\n",
    "        \"name\": \"一般\",\n",
    "        \"value\": 1 \n",
    "    }, {\n",
    "        \"name\": \"优秀\",\n",
    "        \"value\": 2\n",
    "    }],\n",
    "    \"hobby\": [{\n",
    "        \"name\": \"毫不相关\",\n",
    "        \"value\": 0\n",
    "    }, {\n",
    "        \"name\": \"互补\",\n",
    "        \"value\": 1\n",
    "    }, {\n",
    "        \"name\": \"相似\",\n",
    "        \"value\": 2\n",
    "    }],\n",
    "    \"age\": [{\n",
    "        \"name\": \"更小\",\n",
    "        \"value\": 0\n",
    "    }, {\n",
    "        \"name\": \"同级\",\n",
    "        \"value\": 1\n",
    "    }, {\n",
    "        \"name\": \"更大\",\n",
    "        \"value\": 2\n",
    "    }],\n",
    "    \"height\": [{\n",
    "        \"name\": \"对方更矮一些\",\n",
    "        \"value\": 0\n",
    "    }, {\n",
    "        \"name\": \"相似（5cm以内）\",\n",
    "        \"value\": 1\n",
    "    }, {\n",
    "        \"name\": \"对方更高一些\",\n",
    "        \"value\": 2\n",
    "    }],\n",
    "    \"family\": [{\n",
    "        \"name\": \"不那么好\",\n",
    "        \"value\": 0\n",
    "    }, {\n",
    "        \"name\": \"一般\",\n",
    "        \"value\": 1 \n",
    "    }, {\n",
    "        \"name\": \"更好\",\n",
    "        \"value\": 2\n",
    "    }]\n",
    "}\n",
    "# 预定义属性及值的列表\n",
    "name_list_dict = dictForEach(dict, dicts2list, {\"field\": \"name\"})\n",
    "value_list_dict = dictForEach(dict, dicts2list, {\"field\": \"value\"})"
   ]
  },
  {
   "cell_type": "code",
   "execution_count": 4,
   "metadata": {
    "ExecuteTime": {
     "end_time": "2019-04-12T06:33:08.627904Z",
     "start_time": "2019-04-12T06:33:08.615919Z"
    },
    "code_folding": [],
    "hide_input": true,
    "scrolled": false
   },
   "outputs": [],
   "source": [
    "# print('预定义的属性包括：{keys}'.format(keys = dict.keys()))\n",
    "# print('预定义属性及值的列表：{name_list_dict}'.format(name_list_dict = name_list_dict))"
   ]
  },
  {
   "cell_type": "markdown",
   "metadata": {
    "ExecuteTime": {
     "end_time": "2019-04-11T01:57:49.034213Z",
     "start_time": "2019-04-11T01:57:49.030251Z"
    },
    "cell_style": "center"
   },
   "source": [
    "### 额外信息"
   ]
  },
  {
   "cell_type": "code",
   "execution_count": 5,
   "metadata": {
    "ExecuteTime": {
     "end_time": "2019-04-12T06:33:08.887322Z",
     "start_time": "2019-04-12T06:33:08.638858Z"
    },
    "cell_style": "center",
    "scrolled": true
   },
   "outputs": [
    {
     "data": {
      "application/vnd.jupyter.widget-view+json": {
       "model_id": "0e97bdf8e07c4e70b1dc0a021dfd6fe6",
       "version_major": 2,
       "version_minor": 0
      },
      "text/plain": [
       "Dropdown(description='颜值', description_tooltip='请选择…', index=3, options=('低', '一般', '高', '点击进行选择…'), value='点击…"
      ]
     },
     "metadata": {},
     "output_type": "display_data"
    },
    {
     "data": {
      "application/vnd.jupyter.widget-view+json": {
       "model_id": "388dce2131854808ba2709c70d998d0d",
       "version_major": 2,
       "version_minor": 0
      },
      "text/plain": [
       "Dropdown(description='成绩', description_tooltip='请选择…', index=3, options=('较差', '一般', '优秀', '点击进行选择…'), value='…"
      ]
     },
     "metadata": {},
     "output_type": "display_data"
    },
    {
     "data": {
      "application/vnd.jupyter.widget-view+json": {
       "model_id": "3d45bc92cc154abdbfe73c844ca77ead",
       "version_major": 2,
       "version_minor": 0
      },
      "text/plain": [
       "Dropdown(description='兴趣', description_tooltip='请选择…', index=3, options=('毫不相关', '互补', '相似', '点击进行选择…'), value…"
      ]
     },
     "metadata": {},
     "output_type": "display_data"
    },
    {
     "data": {
      "application/vnd.jupyter.widget-view+json": {
       "model_id": "1b3f9b88e5ef405c8fc77c358ed19de6",
       "version_major": 2,
       "version_minor": 0
      },
      "text/plain": [
       "Dropdown(description='年龄', description_tooltip='请选择…', index=3, options=('更小', '同级', '更大', '点击进行选择…'), value='…"
      ]
     },
     "metadata": {},
     "output_type": "display_data"
    },
    {
     "data": {
      "application/vnd.jupyter.widget-view+json": {
       "model_id": "fb0b1661fc8a4e7091c8c977ef0bdbf0",
       "version_major": 2,
       "version_minor": 0
      },
      "text/plain": [
       "Dropdown(description='身高', description_tooltip='请选择…', index=3, options=('对方更矮一些', '相似（5cm以内）', '对方更高一些', '点击进…"
      ]
     },
     "metadata": {},
     "output_type": "display_data"
    },
    {
     "data": {
      "application/vnd.jupyter.widget-view+json": {
       "model_id": "60002851bc374dab841808d0ba204eea",
       "version_major": 2,
       "version_minor": 0
      },
      "text/plain": [
       "Dropdown(description='家庭', description_tooltip='请选择…', index=3, options=('不那么好', '一般', '更好', '点击进行选择…'), value…"
      ]
     },
     "metadata": {},
     "output_type": "display_data"
    },
    {
     "data": {
      "application/vnd.jupyter.widget-view+json": {
       "model_id": "b0a4af77651a49b18cd0954d533b4917",
       "version_major": 2,
       "version_minor": 0
      },
      "text/plain": [
       "Button(button_style='primary', description='确认', style=ButtonStyle(), tooltip='确认所有字段填答无误并保存')"
      ]
     },
     "metadata": {},
     "output_type": "display_data"
    }
   ],
   "source": [
    "# 容器\n",
    "dropdowns = {}\n",
    "# @description 根据预定义属性及其选项值设置widget，并初始化相关控制器\n",
    "def generateDropdowns(cfg):\n",
    "    global dropdowns\n",
    "    for i in range(len(attr_list)):\n",
    "        _item = dropdowns[attr_list_en[i]] = {}\n",
    "        _item[\"initialed\"] = False\n",
    "        # dropdown 的选项\n",
    "        _options = name_list_dict[attr_list_en[i]][:]\n",
    "        _options.append(cfg[\"placeholder\"])\n",
    "        # dropdown 的描述\n",
    "        _description = attr_list_zh[i]\n",
    "        # 创建dropdown\n",
    "        slt = widgets.Dropdown(options=_options,\n",
    "                               description=_description,\n",
    "                               description_tooltip='请选择…',\n",
    "                               disabled=False)\n",
    "        # 为 dropdown widget 实例绑定事件监听\n",
    "        slt.observe(handleDropdownChange, names=['index'])\n",
    "        slt.index = len(_options) - 1\n",
    "        _item[\"widget\"] = slt\n",
    "        _item[\"options\"] = _options\n",
    "        _item[\"changed\"] = False\n",
    "        _item[\"initialed\"] = True\n",
    "\n",
    "\n",
    "def handleDropdownChange(detail):\n",
    "    # 取到对应的英文属性名\n",
    "    attr_name_zh = detail.owner.description\n",
    "    attr_name_en = attr_list_en[list(attr_list_zh).index(attr_name_zh)]\n",
    "    # 获取目标dropdown\n",
    "    dropdown = dropdowns[attr_name_en]\n",
    "    # 未初始化完成，什么都不做\n",
    "    if not dropdown[\"initialed\"]:\n",
    "        return\n",
    "    # 第一次更新值的时候将placeholder去掉\n",
    "    if not dropdown[\"changed\"]:\n",
    "        dropdown[\"changed\"] = True\n",
    "        _index = detail[\"new\"]\n",
    "        dropdown[\"options\"].pop()\n",
    "        dropdown[\"widget\"].options = dropdown[\"options\"]\n",
    "        dropdown[\"widget\"].index = _index\n",
    "\n",
    "# 生成并初始化 dropdowns\n",
    "generateDropdowns({\n",
    "    \"placeholder\": \"点击进行选择…\"\n",
    "})\n",
    "\n",
    "# 提取封装的widget,用于展示\n",
    "dropdown_list = dicts2list(list(dropdowns.values()), field='widget')\n",
    "display(*dropdown_list)\n",
    "\n",
    "save_btn2 = widgets.Button(\n",
    "    description='确认',\n",
    "    disabled=False,\n",
    "    button_style='primary', # 'success', 'info', 'warning', 'danger' or ''\n",
    "    tooltip='确认所有字段填答无误并保存',\n",
    "    icon=''\n",
    ")\n",
    "\n",
    "values = {}\n",
    "def save_values(detail):\n",
    "    # 确认所有字段填写完毕\n",
    "    changes = dicts2list(list(dropdowns.values()), field='changed')\n",
    "    if changes.count(False) >= 1 :\n",
    "        detail.button_style = \"warning\"\n",
    "        return\n",
    "    \n",
    "    # 提取字段值\n",
    "    for attr in attr_list_en:\n",
    "        values[attr] = dropdowns[attr][\"widget\"].value\n",
    "    \n",
    "    # 更新按钮状态以示提交\n",
    "    detail.icon = \"check\"\n",
    "    detail.button_style = \"success\"\n",
    "    detail.description = \"保存成功\"\n",
    "    print(values)\n",
    "\n",
    "save_btn2.on_click(save_values)\n",
    "display(save_btn2)"
   ]
  }
 ],
 "metadata": {
  "hide_input": false,
  "kernelspec": {
   "display_name": "Python 3",
   "language": "python",
   "name": "python3"
  },
  "language_info": {
   "codemirror_mode": {
    "name": "ipython",
    "version": 3
   },
   "file_extension": ".py",
   "mimetype": "text/x-python",
   "name": "python",
   "nbconvert_exporter": "python",
   "pygments_lexer": "ipython3",
   "version": "3.6.5"
  },
  "toc": {
   "base_numbering": 1,
   "nav_menu": {},
   "number_sections": true,
   "sideBar": true,
   "skip_h1_title": false,
   "title_cell": "Table of Contents",
   "title_sidebar": "Contents",
   "toc_cell": false,
   "toc_position": {},
   "toc_section_display": true,
   "toc_window_display": false
  },
  "varInspector": {
   "cols": {
    "lenName": 16,
    "lenType": 16,
    "lenVar": 40
   },
   "kernels_config": {
    "python": {
     "delete_cmd_postfix": "",
     "delete_cmd_prefix": "del ",
     "library": "var_list.py",
     "varRefreshCmd": "print(var_dic_list())"
    },
    "r": {
     "delete_cmd_postfix": ") ",
     "delete_cmd_prefix": "rm(",
     "library": "var_list.r",
     "varRefreshCmd": "cat(var_dic_list()) "
    }
   },
   "types_to_exclude": [
    "module",
    "function",
    "builtin_function_or_method",
    "instance",
    "_Feature"
   ],
   "window_display": false
  }
 },
 "nbformat": 4,
 "nbformat_minor": 2
}
