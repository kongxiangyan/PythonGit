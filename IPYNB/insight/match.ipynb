{
 "cells": [
  {
   "cell_type": "markdown",
   "metadata": {
    "slideshow": {
     "slide_type": "skip"
    },
    "toc": true
   },
   "source": [
    "<h1>目录<span class=\"tocSkip\"></span></h1>\n",
    "<div class=\"toc\"><ul class=\"toc-item\"><li><span><a href=\"#我们开始吧\" data-toc-modified-id=\"我们开始吧-1\">我们开始吧</a></span><ul class=\"toc-item\"><li><span><a href=\"#做一些准备工作\" data-toc-modified-id=\"做一些准备工作-1.1\">做一些准备工作</a></span><ul class=\"toc-item\"><li><span><a href=\"#引入库及模块\" data-toc-modified-id=\"引入库及模块-1.1.1\">引入库及模块</a></span></li><li><span><a href=\"#预定义变量\" data-toc-modified-id=\"预定义变量-1.1.2\">预定义变量</a></span></li></ul></li><li><span><a href=\"#录入你的个人信息\" data-toc-modified-id=\"录入你的个人信息-1.2\">录入你的个人信息</a></span><ul class=\"toc-item\"><li><span><a href=\"#基本信息\" data-toc-modified-id=\"基本信息-1.2.1\">基本信息</a></span></li><li><span><a href=\"#额外信息\" data-toc-modified-id=\"额外信息-1.2.2\">额外信息</a></span></li></ul></li><li><span><a href=\"#对目标组合评分\" data-toc-modified-id=\"对目标组合评分-1.3\">对目标组合评分</a></span></li></ul></li><li><span><a href=\"#查看结果\" data-toc-modified-id=\"查看结果-2\">查看结果</a></span></li><li><span><a href=\"#计算细节\" data-toc-modified-id=\"计算细节-3\">计算细节</a></span><ul class=\"toc-item\"><li><ul class=\"toc-item\"><li><span><a href=\"#基本参数设置\" data-toc-modified-id=\"基本参数设置-3.0.1\">基本参数设置</a></span></li><li><span><a href=\"#联合分析\" data-toc-modified-id=\"联合分析-3.0.2\">联合分析</a></span></li></ul></li></ul></li></ul></div>"
   ]
  },
  {
   "cell_type": "markdown",
   "metadata": {},
   "source": [
    "# 我们开始吧"
   ]
  },
  {
   "cell_type": "markdown",
   "metadata": {},
   "source": [
    "这是一个简单的计算器，我们挑选了6个在选择男\\女朋友的时候可能会考虑的方面，分别是**颜值**、**成绩**、**兴趣**、**年龄**、**身高**、**家庭**，通过填答一些相关的问题，最终你会看到你在这些方面的选择倾向。\n",
    "\n",
    "- 这个小玩意儿基于交互式文档 Jupyter Notebook 制作，实际上所有的实现细节都在文档内部，在完成之后你可以查看所有细节，并就相关问题跟我们讨论。"
   ]
  },
  {
   "cell_type": "code",
   "execution_count": 339,
   "metadata": {
    "ExecuteTime": {
     "end_time": "2019-04-12T03:33:14.619301Z",
     "start_time": "2019-04-12T03:33:14.615316Z"
    },
    "hide_input": false
   },
   "outputs": [],
   "source": [
    "# 颜值： look [\"低\", \"一般\", \"高\"]\n",
    "# 成绩： grade [\"较差\", \"一般\", \"优秀\"]\n",
    "# 爱好： hobby [\"毫不相关\", \"互补\", \"相似\"]\n",
    "# 年龄： age [\"更小\", \"同级\", \"更大\"]\n",
    "# 身高： height [\"对方更矮一些\", \"相似（5cm以内）\", \"对方更高一些\"]\n",
    "# 家庭： family [\"不那么好\", \"一般\", \"更好\"]"
   ]
  },
  {
   "cell_type": "markdown",
   "metadata": {},
   "source": [
    "## 做一些准备工作"
   ]
  },
  {
   "cell_type": "markdown",
   "metadata": {},
   "source": [
    "引入程序包，定义必要的全局变量。"
   ]
  },
  {
   "cell_type": "markdown",
   "metadata": {
    "heading_collapsed": true
   },
   "source": [
    "### 引入库及模块"
   ]
  },
  {
   "cell_type": "code",
   "execution_count": 340,
   "metadata": {
    "ExecuteTime": {
     "end_time": "2019-04-12T03:33:14.629275Z",
     "start_time": "2019-04-12T03:33:14.622294Z"
    },
    "hidden": true,
    "hide_input": true
   },
   "outputs": [],
   "source": [
    "# 控件库\n",
    "import ipywidgets as widgets\n",
    "# 显示控件的方法\n",
    "from IPython.display import display\n",
    "# 字典深拷贝\n",
    "import copy\n",
    "# 时间日期\n",
    "import datetime\n",
    "import time\n",
    "# 数据计算包\n",
    "import numpy as np\n",
    "import pandas as pd\n",
    "import statsmodels.api as sm"
   ]
  },
  {
   "cell_type": "markdown",
   "metadata": {
    "heading_collapsed": true
   },
   "source": [
    "### 预定义变量"
   ]
  },
  {
   "cell_type": "code",
   "execution_count": 341,
   "metadata": {
    "ExecuteTime": {
     "end_time": "2019-04-12T03:33:14.638252Z",
     "start_time": "2019-04-12T03:33:14.631269Z"
    },
    "code_folding": [],
    "hidden": true,
    "hide_input": true
   },
   "outputs": [],
   "source": [
    "# @description 基于指定的 field 将 dict_list 转换为 list\n",
    "# @param list 待处理的 dict_list\n",
    "# @param aim_list? 目标输出 list\n",
    "# @param field? 要提取的字段名\n",
    "# @return list 一个新的 list\n",
    "def dicts2list(dict_list, aim_list=[], field='value'):\n",
    "    new_list = aim_list[:]\n",
    "    for item in dict_list:\n",
    "        new_list.append(item[field])\n",
    "    return new_list\n",
    "\n",
    "\n",
    "# @description\n",
    "# @param dict 需要遍历处理的字典\n",
    "# @param fn 字典字段值的处理函数，该函数第一参数为字典字段值，输出处理后的字段值\n",
    "# @param fn_args 传给处理函数（fn）的参数\n",
    "# @return dict 一个新的字典\n",
    "def dictForEach(dict, fn, fn_args):\n",
    "    new_dict = {}\n",
    "    for name, item in dict.items():\n",
    "        new_dict[name] = fn(item, **fn_args)\n",
    "    return new_dict"
   ]
  },
  {
   "cell_type": "code",
   "execution_count": 342,
   "metadata": {
    "ExecuteTime": {
     "end_time": "2019-04-12T03:33:14.652240Z",
     "start_time": "2019-04-12T03:33:14.640246Z"
    },
    "code_folding": [],
    "hidden": true,
    "hide_input": true
   },
   "outputs": [],
   "source": [
    "# 预定义属性名列表\n",
    "attr_list = tuple([{\n",
    "    \"zh\": \"颜值\",\n",
    "    \"en\": \"look\"\n",
    "}, {\n",
    "    \"zh\": \"成绩\",\n",
    "    \"en\": \"grade\"\n",
    "}, {\n",
    "    \"zh\": \"兴趣\",\n",
    "    \"en\": \"hobby\"\n",
    "}, {\n",
    "    \"zh\": \"年龄\",\n",
    "    \"en\": \"age\"\n",
    "},{\n",
    "    \"zh\": \"身高\",\n",
    "    \"en\": \"height\"\n",
    "}, {\n",
    "    \"zh\": \"家庭\",\n",
    "    \"en\": \"family\"\n",
    "}])\n",
    "attr_list_en = tuple(dicts2list(attr_list, field = 'en'))\n",
    "attr_list_zh = tuple(dicts2list(attr_list, field = 'zh'))\n",
    "\n",
    "# 预定义属性及值的字典\n",
    "dict = {\n",
    "    \"look\": [{\n",
    "        \"name\": \"低\",\n",
    "        \"value\": 0\n",
    "    }, {\n",
    "        \"name\": \"一般\",\n",
    "        \"value\": 1\n",
    "    }, {\n",
    "        \"name\": \"高\",\n",
    "        \"value\": 2\n",
    "    }],\n",
    "    \"grade\": [{\n",
    "        \"name\": \"较差\",\n",
    "        \"value\": 0\n",
    "    }, {\n",
    "        \"name\": \"一般\",\n",
    "        \"value\": 1 \n",
    "    }, {\n",
    "        \"name\": \"优秀\",\n",
    "        \"value\": 2\n",
    "    }],\n",
    "    \"hobby\": [{\n",
    "        \"name\": \"毫不相关\",\n",
    "        \"value\": 0\n",
    "    }, {\n",
    "        \"name\": \"互补\",\n",
    "        \"value\": 1\n",
    "    }, {\n",
    "        \"name\": \"相似\",\n",
    "        \"value\": 2\n",
    "    }],\n",
    "    \"age\": [{\n",
    "        \"name\": \"更小\",\n",
    "        \"value\": 0\n",
    "    }, {\n",
    "        \"name\": \"同级\",\n",
    "        \"value\": 1\n",
    "    }, {\n",
    "        \"name\": \"更大\",\n",
    "        \"value\": 2\n",
    "    }],\n",
    "    \"height\": [{\n",
    "        \"name\": \"对方更矮一些\",\n",
    "        \"value\": 0\n",
    "    }, {\n",
    "        \"name\": \"相似（5cm以内）\",\n",
    "        \"value\": 1\n",
    "    }, {\n",
    "        \"name\": \"对方更高一些\",\n",
    "        \"value\": 2\n",
    "    }],\n",
    "    \"family\": [{\n",
    "        \"name\": \"不那么好\",\n",
    "        \"value\": 0\n",
    "    }, {\n",
    "        \"name\": \"一般\",\n",
    "        \"value\": 1 \n",
    "    }, {\n",
    "        \"name\": \"更好\",\n",
    "        \"value\": 2\n",
    "    }]\n",
    "}\n",
    "# 预定义属性及值的列表\n",
    "name_list_dict = dictForEach(dict, dicts2list, {\"field\": \"name\"})\n",
    "value_list_dict = dictForEach(dict, dicts2list, {\"field\": \"value\"})"
   ]
  },
  {
   "cell_type": "code",
   "execution_count": 343,
   "metadata": {
    "ExecuteTime": {
     "end_time": "2019-04-12T03:33:14.660226Z",
     "start_time": "2019-04-12T03:33:14.653211Z"
    },
    "code_folding": [],
    "hidden": true,
    "hide_input": true,
    "scrolled": false
   },
   "outputs": [],
   "source": [
    "# print('预定义的属性包括：{keys}'.format(keys = dict.keys()))\n",
    "# print('预定义属性及值的列表：{name_list_dict}'.format(name_list_dict = name_list_dict))"
   ]
  },
  {
   "cell_type": "markdown",
   "metadata": {},
   "source": [
    "## 录入你的个人信息"
   ]
  },
  {
   "cell_type": "markdown",
   "metadata": {
    "cell_style": "center"
   },
   "source": [
    "### 基本信息"
   ]
  },
  {
   "cell_type": "code",
   "execution_count": 344,
   "metadata": {
    "ExecuteTime": {
     "end_time": "2019-04-12T03:33:14.712067Z",
     "start_time": "2019-04-12T03:33:14.662186Z"
    },
    "cell_style": "center",
    "hide_input": false,
    "scrolled": true
   },
   "outputs": [
    {
     "data": {
      "application/vnd.jupyter.widget-view+json": {
       "model_id": "c0e1c50f15d745cdba092bdfaf648037",
       "version_major": 2,
       "version_minor": 0
      },
      "text/plain": [
       "Text(value='', description='学号', placeholder='请输入你的学号')"
      ]
     },
     "metadata": {},
     "output_type": "display_data"
    },
    {
     "data": {
      "application/vnd.jupyter.widget-view+json": {
       "model_id": "16df55d3a90b482b983282c26c0aa33d",
       "version_major": 2,
       "version_minor": 0
      },
      "text/plain": [
       "IntText(value=170, description='身高')"
      ]
     },
     "metadata": {},
     "output_type": "display_data"
    },
    {
     "data": {
      "application/vnd.jupyter.widget-view+json": {
       "model_id": "137832c2978b4442bf8b5ccdaeeada79",
       "version_major": 2,
       "version_minor": 0
      },
      "text/plain": [
       "Dropdown(description='性别', index=1, options=('男', '女'), value='女')"
      ]
     },
     "metadata": {},
     "output_type": "display_data"
    },
    {
     "data": {
      "application/vnd.jupyter.widget-view+json": {
       "model_id": "efa5e4b587934bcdbba70a10b58acf0f",
       "version_major": 2,
       "version_minor": 0
      },
      "text/plain": [
       "Dropdown(description='学历', options=('本科', '硕士', '博士'), value='本科')"
      ]
     },
     "metadata": {},
     "output_type": "display_data"
    },
    {
     "data": {
      "application/vnd.jupyter.widget-view+json": {
       "model_id": "bd84a301a73a47f0832da653e06a99b6",
       "version_major": 2,
       "version_minor": 0
      },
      "text/plain": [
       "DatePicker(value=datetime.date(1998, 7, 28), description='生日')"
      ]
     },
     "metadata": {},
     "output_type": "display_data"
    },
    {
     "data": {
      "application/vnd.jupyter.widget-view+json": {
       "model_id": "5e8f590ce60940b28a0b8e1317052efb",
       "version_major": 2,
       "version_minor": 0
      },
      "text/plain": [
       "Button(button_style='primary', description='确认', style=ButtonStyle(), tooltip='确认信息无误并保存')"
      ]
     },
     "metadata": {},
     "output_type": "display_data"
    }
   ],
   "source": [
    "student_id = widgets.Text(value='',\n",
    "                    description='学号',\n",
    "                    placeholder='请输入你的学号',\n",
    "                    disabled=False)\n",
    "gender =  widgets.Dropdown(\n",
    "    options=['男', '女'],\n",
    "    value='女',\n",
    "    description='性别',\n",
    "    disabled=False\n",
    ")\n",
    "height = widgets.IntText(\n",
    "    value=170,\n",
    "    description='身高',\n",
    "    placeholder='输入你的身高',\n",
    "    disabled=False\n",
    ")\n",
    "education = widgets.Dropdown(\n",
    "    options=['本科', '硕士', '博士'],\n",
    "    value='本科',\n",
    "    description='学历',\n",
    "    disabled=False,\n",
    ")\n",
    "birthday = widgets.DatePicker(\n",
    "    value=datetime.date(1998, 7, 28),\n",
    "    description='生日',\n",
    "    disabled=False\n",
    ")\n",
    "\n",
    "base_info = {}\n",
    "def save_base_info(detail):\n",
    "    # 提取字段值\n",
    "    base_info[\"student_id\"] = str(student_id.value)\n",
    "    base_info[\"height\"] = str(height.value)\n",
    "    base_info[\"gender\"] = str(gender.value)\n",
    "    base_info[\"education\"] = str(education.value)\n",
    "    base_info[\"birthday\"] = str(birthday.value)\n",
    "    \n",
    "    # 更新按钮状态以示提交\n",
    "    detail.icon = \"check\"\n",
    "    detail.button_style = \"success\"\n",
    "    detail.description = \"保存成功\"\n",
    "    print(base_info)\n",
    "    \n",
    "save_btn = widgets.Button(\n",
    "    description='确认',\n",
    "    disabled=False,\n",
    "    button_style='primary', # 'success', 'info', 'warning', 'danger' or ''\n",
    "    tooltip='确认信息无误并保存',\n",
    "    icon=''\n",
    ")    \n",
    "save_btn.on_click(save_base_info)\n",
    "\n",
    "display(student_id, height, gender, education, birthday, save_btn)"
   ]
  },
  {
   "cell_type": "markdown",
   "metadata": {
    "ExecuteTime": {
     "end_time": "2019-04-11T01:57:49.034213Z",
     "start_time": "2019-04-11T01:57:49.030251Z"
    },
    "cell_style": "center"
   },
   "source": [
    "### 额外信息"
   ]
  },
  {
   "cell_type": "code",
   "execution_count": 345,
   "metadata": {
    "ExecuteTime": {
     "end_time": "2019-04-12T03:33:14.778874Z",
     "start_time": "2019-04-12T03:33:14.716044Z"
    },
    "cell_style": "center",
    "scrolled": true
   },
   "outputs": [
    {
     "data": {
      "application/vnd.jupyter.widget-view+json": {
       "model_id": "055c4ff4f42b4b81b7e3ee07c1126434",
       "version_major": 2,
       "version_minor": 0
      },
      "text/plain": [
       "Dropdown(description='颜值', description_tooltip='请选择…', index=3, options=('低', '一般', '高', '点击进行选择…'), value='点击…"
      ]
     },
     "metadata": {},
     "output_type": "display_data"
    },
    {
     "data": {
      "application/vnd.jupyter.widget-view+json": {
       "model_id": "958f674b114647858d6a147155fa9f97",
       "version_major": 2,
       "version_minor": 0
      },
      "text/plain": [
       "Dropdown(description='成绩', description_tooltip='请选择…', index=3, options=('较差', '一般', '优秀', '点击进行选择…'), value='…"
      ]
     },
     "metadata": {},
     "output_type": "display_data"
    },
    {
     "data": {
      "application/vnd.jupyter.widget-view+json": {
       "model_id": "cb81d5b4af4640889ded14243dad89cf",
       "version_major": 2,
       "version_minor": 0
      },
      "text/plain": [
       "Dropdown(description='兴趣', description_tooltip='请选择…', index=3, options=('毫不相关', '互补', '相似', '点击进行选择…'), value…"
      ]
     },
     "metadata": {},
     "output_type": "display_data"
    },
    {
     "data": {
      "application/vnd.jupyter.widget-view+json": {
       "model_id": "86d761751fd5441cba900e0cbd7c9935",
       "version_major": 2,
       "version_minor": 0
      },
      "text/plain": [
       "Dropdown(description='年龄', description_tooltip='请选择…', index=3, options=('更小', '同级', '更大', '点击进行选择…'), value='…"
      ]
     },
     "metadata": {},
     "output_type": "display_data"
    },
    {
     "data": {
      "application/vnd.jupyter.widget-view+json": {
       "model_id": "9e33f683df7e4f68965f44f1dfceabdf",
       "version_major": 2,
       "version_minor": 0
      },
      "text/plain": [
       "Dropdown(description='身高', description_tooltip='请选择…', index=3, options=('对方更矮一些', '相似（5cm以内）', '对方更高一些', '点击进…"
      ]
     },
     "metadata": {},
     "output_type": "display_data"
    },
    {
     "data": {
      "application/vnd.jupyter.widget-view+json": {
       "model_id": "cc78f748c7744752b3e91ae5e21f6c0d",
       "version_major": 2,
       "version_minor": 0
      },
      "text/plain": [
       "Dropdown(description='家庭', description_tooltip='请选择…', index=3, options=('不那么好', '一般', '更好', '点击进行选择…'), value…"
      ]
     },
     "metadata": {},
     "output_type": "display_data"
    },
    {
     "data": {
      "application/vnd.jupyter.widget-view+json": {
       "model_id": "d92c3f5e7ab8451e9c7e4f2e018db20b",
       "version_major": 2,
       "version_minor": 0
      },
      "text/plain": [
       "Button(button_style='primary', description='确认', style=ButtonStyle(), tooltip='确认所有字段填答无误并保存')"
      ]
     },
     "metadata": {},
     "output_type": "display_data"
    }
   ],
   "source": [
    "# 容器\n",
    "dropdowns = {}\n",
    "# @description 根据预定义属性及其选项值设置widget，并初始化相关控制器\n",
    "def generateDropdowns(cfg):\n",
    "    global dropdowns\n",
    "    for i in range(len(attr_list)):\n",
    "        _item = dropdowns[attr_list_en[i]] = {}\n",
    "        _item[\"initialed\"] = False\n",
    "        # dropdown 的选项\n",
    "        _options = name_list_dict[attr_list_en[i]][:]\n",
    "        _options.append(cfg[\"placeholder\"])\n",
    "        # dropdown 的描述\n",
    "        _description = attr_list_zh[i]\n",
    "        # 创建dropdown\n",
    "        slt = widgets.Dropdown(options=_options,\n",
    "                               description=_description,\n",
    "                               description_tooltip='请选择…',\n",
    "                               disabled=False)\n",
    "        # 为 dropdown widget 实例绑定事件监听\n",
    "        slt.observe(handleDropdownChange, names=['index'])\n",
    "        slt.index = len(_options) - 1\n",
    "        _item[\"widget\"] = slt\n",
    "        _item[\"options\"] = _options\n",
    "        _item[\"changed\"] = False\n",
    "        _item[\"initialed\"] = True\n",
    "\n",
    "\n",
    "def handleDropdownChange(detail):\n",
    "    # 取到对应的英文属性名\n",
    "    attr_name_zh = detail.owner.description\n",
    "    attr_name_en = attr_list_en[list(attr_list_zh).index(attr_name_zh)]\n",
    "    # 获取目标dropdown\n",
    "    dropdown = dropdowns[attr_name_en]\n",
    "    # 未初始化完成，什么都不做\n",
    "    if not dropdown[\"initialed\"]:\n",
    "        return\n",
    "    # 第一次更新值的时候将placeholder去掉\n",
    "    if not dropdown[\"changed\"]:\n",
    "        dropdown[\"changed\"] = True\n",
    "        _index = detail[\"new\"]\n",
    "        dropdown[\"options\"].pop()\n",
    "        dropdown[\"widget\"].options = dropdown[\"options\"]\n",
    "        dropdown[\"widget\"].index = _index\n",
    "\n",
    "# 生成并初始化 dropdowns\n",
    "generateDropdowns({\n",
    "    \"placeholder\": \"点击进行选择…\"\n",
    "})\n",
    "\n",
    "# 提取封装的widget,用于展示\n",
    "dropdown_list = dicts2list(list(dropdowns.values()), field='widget')\n",
    "display(*dropdown_list)\n",
    "\n",
    "save_btn2 = widgets.Button(\n",
    "    description='确认',\n",
    "    disabled=False,\n",
    "    button_style='primary', # 'success', 'info', 'warning', 'danger' or ''\n",
    "    tooltip='确认所有字段填答无误并保存',\n",
    "    icon=''\n",
    ")\n",
    "\n",
    "values = {}\n",
    "def save_values(detail):\n",
    "    # 确认所有字段填写完毕\n",
    "    changes = dicts2list(list(dropdowns.values()), field='changed')\n",
    "    if changes.count(False) >= 1 :\n",
    "        detail.button_style = \"warning\"\n",
    "        return\n",
    "    \n",
    "    # 提取字段值\n",
    "    for attr in attr_list_en:\n",
    "        values[attr] = dropdowns[attr][\"widget\"].value\n",
    "    \n",
    "    # 更新按钮状态以示提交\n",
    "    detail.icon = \"check\"\n",
    "    detail.button_style = \"success\"\n",
    "    detail.description = \"保存成功\"\n",
    "    print(values)\n",
    "\n",
    "save_btn2.on_click(save_values)\n",
    "display(save_btn2)"
   ]
  },
  {
   "cell_type": "markdown",
   "metadata": {},
   "source": [
    "## 对目标组合评分"
   ]
  },
  {
   "cell_type": "code",
   "execution_count": 346,
   "metadata": {
    "ExecuteTime": {
     "end_time": "2019-04-12T03:33:14.797824Z",
     "start_time": "2019-04-12T03:33:14.781866Z"
    },
    "code_folding": []
   },
   "outputs": [],
   "source": [
    "# 预定义属性组合\n",
    "cases = [{\n",
    "    \"look\": 1,\n",
    "    \"grade\": 1,\n",
    "    \"hobby\": 2,\n",
    "    \"age\": 1,\n",
    "    \"height\": 1,\n",
    "    \"family\": 0\n",
    "}, {\n",
    "    \"look\": 2,\n",
    "    \"grade\": 0,\n",
    "    \"hobby\": 0,\n",
    "    \"age\": 1,\n",
    "    \"height\": 1,\n",
    "    \"family\": 1\n",
    "}, {\n",
    "    \"look\": 0,\n",
    "    \"grade\": 2,\n",
    "    \"hobby\": 2,\n",
    "    \"age\": 1,\n",
    "    \"height\": 2,\n",
    "    \"family\": 0\n",
    "}, {\n",
    "    \"look\": 0,\n",
    "    \"grade\": 2,\n",
    "    \"hobby\": 0,\n",
    "    \"age\": 1,\n",
    "    \"height\": 0,\n",
    "    \"family\": 1\n",
    "}, {\n",
    "    \"look\": 1,\n",
    "    \"grade\": 2,\n",
    "    \"hobby\": 1,\n",
    "    \"age\": 0,\n",
    "    \"height\": 2,\n",
    "    \"family\": 1\n",
    "}, {\n",
    "    \"look\": 2,\n",
    "    \"grade\": 1,\n",
    "    \"hobby\": 2,\n",
    "    \"age\": 0,\n",
    "    \"height\": 2,\n",
    "    \"family\": 1\n",
    "}, {\n",
    "    \"look\": 2,\n",
    "    \"grade\": 2,\n",
    "    \"hobby\": 1,\n",
    "    \"age\": 2,\n",
    "    \"height\": 1,\n",
    "    \"family\": 0\n",
    "}, {\n",
    "    \"look\": 1,\n",
    "    \"grade\": 2,\n",
    "    \"hobby\": 0,\n",
    "    \"age\": 0,\n",
    "    \"height\": 1,\n",
    "    \"family\": 2\n",
    "}, {\n",
    "    \"look\": 2,\n",
    "    \"grade\": 1,\n",
    "    \"hobby\": 0,\n",
    "    \"age\": 0,\n",
    "    \"height\": 0,\n",
    "    \"family\": 0\n",
    "}, {\n",
    "    \"look\": 0,\n",
    "    \"grade\": 0,\n",
    "    \"hobby\": 1,\n",
    "    \"age\": 0,\n",
    "    \"height\": 0,\n",
    "    \"family\": 0\n",
    "}, {\n",
    "    \"look\": 1,\n",
    "    \"grade\": 0,\n",
    "    \"hobby\": 2,\n",
    "    \"age\": 2,\n",
    "    \"height\": 0,\n",
    "    \"family\": 1\n",
    "}, {\n",
    "    \"look\": 1,\n",
    "    \"grade\": 1,\n",
    "    \"hobby\": 1,\n",
    "    \"age\": 1,\n",
    "    \"height\": 0,\n",
    "    \"family\": 2\n",
    "}, {\n",
    "    \"look\": 0,\n",
    "    \"grade\": 1,\n",
    "    \"hobby\": 0,\n",
    "    \"age\": 2,\n",
    "    \"height\": 2,\n",
    "    \"family\": 2\n",
    "}, {\n",
    "    \"look\": 0,\n",
    "    \"grade\": 0,\n",
    "    \"hobby\": 2,\n",
    "    \"age\": 0,\n",
    "    \"height\": 1,\n",
    "    \"family\": 2\n",
    "}, {\n",
    "    \"look\": 2,\n",
    "    \"grade\": 2,\n",
    "    \"hobby\": 2,\n",
    "    \"age\": 2,\n",
    "    \"height\": 0,\n",
    "    \"family\": 2\n",
    "}, {\n",
    "    \"look\": 0,\n",
    "    \"grade\": 1,\n",
    "    \"hobby\": 1,\n",
    "    \"age\": 2,\n",
    "    \"height\": 1,\n",
    "    \"family\": 1\n",
    "}, {\n",
    "    \"look\": 2,\n",
    "    \"grade\": 0,\n",
    "    \"hobby\": 1,\n",
    "    \"age\": 1,\n",
    "    \"height\": 2,\n",
    "    \"family\": 2\n",
    "}, {\n",
    "    \"look\": 1,\n",
    "    \"grade\": 0,\n",
    "    \"hobby\": 0,\n",
    "    \"age\": 2,\n",
    "    \"height\": 2,\n",
    "    \"family\": 0\n",
    "}]"
   ]
  },
  {
   "cell_type": "code",
   "execution_count": 347,
   "metadata": {
    "ExecuteTime": {
     "end_time": "2019-04-12T03:33:15.739307Z",
     "start_time": "2019-04-12T03:33:14.799819Z"
    },
    "code_folding": [],
    "scrolled": true
   },
   "outputs": [
    {
     "data": {
      "application/vnd.jupyter.widget-view+json": {
       "model_id": "657159241e434bd5b639f5264cd275d9",
       "version_major": 2,
       "version_minor": 0
      },
      "text/plain": [
       "Tab(children=(VBox(children=(HBox(children=(HTML(value='颜值:一般', layout=Layout(padding='20px 0', width='50%')),…"
      ]
     },
     "metadata": {},
     "output_type": "display_data"
    }
   ],
   "source": [
    "tab_contents = cases[:]\n",
    "cards = {\"valueSliders\": [], \"btns\": []}\n",
    "score_result = []\n",
    "\n",
    "# @description 生成保存分数的btn\n",
    "def generateScoreSaveBtn():\n",
    "    global score_result\n",
    "    score_save_btn = widgets.Button(\n",
    "        description='提交填答结果',\n",
    "        disabled=False,\n",
    "        button_style='primary',  # 'success', 'info', 'warning', 'danger' or ''\n",
    "        tooltip='填答完毕，提交填答结果',\n",
    "        icon='',\n",
    "        layout=widgets.Layout(left=\"5%\", width=\"90%\"))\n",
    "    def getCardsScore(detail):\n",
    "        values = []\n",
    "        for item in cards[\"valueSliders\"]:\n",
    "            values.append(item.value)\n",
    "            if len(score_result) < len(tab_contents):\n",
    "                score_result.append(item.value)\n",
    "    score_save_btn.on_click(getCardsScore)\n",
    "    return score_save_btn\n",
    "\n",
    "\n",
    "# 生成保存分数的按钮\n",
    "score_save_btn = generateScoreSaveBtn()\n",
    "\n",
    "\n",
    "# @description 切换到下一个tab\n",
    "def nextTab():\n",
    "    saveBtnDisplayed = False\n",
    "    def nextTabInner(detail):\n",
    "        nonlocal saveBtnDisplayed\n",
    "        if tab.selected_index >= len(cards[\"btns\"]) - 1 :\n",
    "            if not saveBtnDisplayed :\n",
    "                saveBtnDisplayed = True\n",
    "                display(score_save_btn)\n",
    "        else:\n",
    "            tab_index_now = tab.selected_index\n",
    "            tab.selected_index = tab_index_now + 1\n",
    "    return nextTabInner\n",
    "\n",
    "\n",
    "# 初始化 nextTab 方法\n",
    "nextTab = nextTab()\n",
    "\n",
    "\n",
    "# @description 生成评分卡片\n",
    "# @return contents 填充tab的内容列表\n",
    "def generateContents():\n",
    "    children = []\n",
    "    # 遍历卡片原始数据\n",
    "    for index in range(len(tab_contents)):\n",
    "        _case = tab_contents[index]\n",
    "        # 容器，保存呈现属性名值对的控件\n",
    "        _content = []\n",
    "        for attr_item, attr_value in _case.items():\n",
    "            # 将原始数据组织成 属性名：属性值 的格式，并生成显示组件\n",
    "            attr = widgets.HTML('{}:{}'.format(\n",
    "                attr_list_zh[list(attr_list_en).index(attr_item)],\n",
    "                name_list_dict[attr_item][value_list_dict[attr_item].index(\n",
    "                    attr_value)]),\n",
    "                                layout=widgets.Layout(width='50%',\n",
    "                                                      padding='20px 0'))\n",
    "            _content.append(attr)\n",
    "        # 评分条\n",
    "        slider = widgets.IntSlider(value=0,\n",
    "                                   min=0,\n",
    "                                   max=10,\n",
    "                                   step=1,\n",
    "                                   description='评分：',\n",
    "                                   disabled=False,\n",
    "                                   continuous_update=False,\n",
    "                                   orientation='horizontal',\n",
    "                                   readout=True,\n",
    "                                   readout_format='d',\n",
    "                                   layout=widgets.Layout(width='80%'))\n",
    "        # 统一保存评分条实例\n",
    "        cards[\"valueSliders\"].append(slider)\n",
    "        # 按钮\n",
    "        next_btn = widgets.Button(\n",
    "            description='下一个',\n",
    "            disabled=False,\n",
    "            button_style=\n",
    "            'primary',  # 'success', 'info', 'warning', 'danger' or ''\n",
    "            tooltip='确认并填答下一个',\n",
    "            icon='',\n",
    "            layout=widgets.Layout(width='20%'))\n",
    "        next_btn.on_click(nextTab)\n",
    "        # 统一保存按钮实例\n",
    "        cards[\"btns\"].append(next_btn)\n",
    "        # 布局并作为整体保存\n",
    "        children.append(\n",
    "            widgets.VBox(\n",
    "                [widgets.HBox(_content),\n",
    "                 widgets.HBox([slider, next_btn])]))\n",
    "    return children\n",
    "\n",
    "\n",
    "# 生成tab并display\n",
    "tab = widgets.Tab()\n",
    "# tab内容\n",
    "tab.children = generateContents()\n",
    "# tab标题\n",
    "for i in range(len(tab_contents)):\n",
    "    tab.set_title(i, str(i + 1))\n",
    "display(tab)"
   ]
  },
  {
   "cell_type": "markdown",
   "metadata": {},
   "source": [
    "# 查看结果"
   ]
  },
  {
   "cell_type": "code",
   "execution_count": 348,
   "metadata": {
    "ExecuteTime": {
     "end_time": "2019-04-12T03:33:15.760262Z",
     "start_time": "2019-04-12T03:33:15.741302Z"
    }
   },
   "outputs": [],
   "source": [
    "result_displayed = False\n",
    "def calcResult(detail):\n",
    "    global result_displayed\n",
    "    if result_displayed: return\n",
    "    global score_result\n",
    "    # 设置正交试验设计中每个样本的变量情况\n",
    "    ## 所有水平列表\n",
    "    LEVEL_LIST = [\"A\", \"B\", \"C\", \"D\", \"E\", \"F\"]\n",
    "    LEVEL_NAME = [\"颜值\", \"成绩\", \"爱好\", \"年龄\", \"身高\", \"家庭\"]\n",
    "    ## 所有因素列表\n",
    "    FACTORY_LIST = ['A1', 'A2', 'A3', 'B1', 'B2', 'B3',\n",
    "                    'C1', 'C2', 'C3', 'D1', 'D2', 'D3',\n",
    "                    'E1', 'E2', 'E3', 'F1', 'F2', 'F3']\n",
    "    FACTORY_NAME = [\"高\", \"一般\", \"低\", \"优秀\", \"一般\", \"较差\",\n",
    "                    \"相似\", \"互补\", \"毫不相关\", \"更大\", \"同级\", \"更小\",\n",
    "                    \"身高\", \"相似\", \"更低\", \"更好\", \"一般\", \"不那么好\"]\n",
    "    FACTORY_LEVEL_NAME = [\"颜值\", \"颜值\", \"颜值\", \"成绩\", \"成绩\", \"成绩\",\n",
    "                          \"爱好\", \"爱好\", \"爱好\", \"年龄\", \"年龄\", \"年龄\",\n",
    "                          \"身高\", \"身高\", \"身高\", \"家庭\", \"家庭\", \"家庭\"]\n",
    "    ## 正交试验设计结构\n",
    "    CASE_STRUCTURE = ['A2B2C1D2E2F3', 'A1B3C3D2E2F2', 'A3B1C1D2E1F3', 'A3B1C3D2E3F2', 'A2B1C2D3E1F2', 'A1B2C1D3E1F2',\n",
    "                      'A1B1C2D1E2F3', 'A2B1C3D3E2F1', 'A1B2C3D3E3F3', 'A3B3C2D3E3F3', 'A2B3C1D1E3F2', 'A2B2C2D2E3F1',\n",
    "                      'A3B2C3D1E1F1', 'A3B3C1D3E2F1', 'A1B1C1D1E3F1', 'A3B2C2D1E2F2', 'A1B3C2D2E1F1', 'A2B3C3D1E1F3']\n",
    "    MARK = score_result\n",
    "    \n",
    "    # 生成初始化个案表\n",
    "    columns_list = [\"Mark\"]\n",
    "    columns_list.extend(FACTORY_LIST)\n",
    "    ConjointDummyDF = pd.DataFrame(np.zeros((len(CASE_STRUCTURE), len(FACTORY_LIST) + 1)), columns=columns_list)\n",
    "    \n",
    "    # 生成个案得分对应表\n",
    "    markDF = pd.DataFrame({\"Level\": CASE_STRUCTURE, \"Mark\": MARK})\n",
    "    \n",
    "    # 将正交设计分布写入个案表\n",
    "    for index, row in markDF.iterrows():\n",
    "        factory = []\n",
    "        for i in range(0, len(LEVEL_LIST)):\n",
    "            factory.append(markDF[\"Level\"].loc[index][i * 2:i * 2 + 2])\n",
    "        ConjointDummyDF.loc[index, factory] = 1\n",
    "    \n",
    "    \n",
    "    # 将得分写入个案表\n",
    "    ConjointDummyDF[\"Mark\"] = markDF[\"Mark\"]\n",
    "    \n",
    "    # 回归计算\n",
    "    ## 计算回归分析的X和Y\n",
    "    X = sm.add_constant(ConjointDummyDF[FACTORY_LIST])\n",
    "    Y = ConjointDummyDF[\"Mark\"]\n",
    "    ## 执行回归分析\n",
    "    linearRegression = sm.OLS(Y, X).fit()\n",
    "    \n",
    "    \n",
    "    # 计算效用估计表\n",
    "    ## 生成按组存储的回归系数\n",
    "    level_utilities = []\n",
    "    for level in LEVEL_LIST:\n",
    "        temp_utility = []\n",
    "        for factory in FACTORY_LIST:\n",
    "            if factory[0] == level:\n",
    "                temp_utility.append(linearRegression.params[factory])\n",
    "        level_utilities.append(temp_utility)\n",
    "    ## 计算各水平的重要性(回归系数极差)\n",
    "    importance = []\n",
    "    for item in level_utilities:\n",
    "        importance.append(max(item) - min(item))\n",
    "    ## 计算各水平的重要性百分比\n",
    "    relative_importance = []\n",
    "    for item in importance:\n",
    "        relative_importance.append(100 * round(item / sum(importance), 3))\n",
    "    ## 计算各因素的平均得分\n",
    "    meanMark = []\n",
    "    for i in ConjointDummyDF.columns[1:]:\n",
    "        newMeanMark = ConjointDummyDF[\"Mark\"].loc[ConjointDummyDF[i] == 1].mean()\n",
    "        meanMark.append(newMeanMark)\n",
    "    ## 计算各因素平均得分\n",
    "    totalMeanMark = sum(meanMark) / len(meanMark)\n",
    "    ## 计算各因素效用值\n",
    "    utility = []\n",
    "    for i in range(len(meanMark)):\n",
    "        name = sorted(FACTORY_LIST)[i]\n",
    "        utility.append(meanMark[i] - totalMeanMark)\n",
    "    \n",
    "    # 结果呈现\n",
    "    ## 效用值表\n",
    "    tableUtilities = pd.DataFrame({\"水平\": FACTORY_LEVEL_NAME, \"因素\": FACTORY_NAME, \"效用值\": utility})\n",
    "    display(tableUtilities)\n",
    "    ## 水平重要性表\n",
    "    tableImportance = pd.DataFrame({\"水平\": LEVEL_NAME, \"重要性\": relative_importance})\n",
    "    display(tableImportance)\n",
    "    \n",
    "    result_displayed = True"
   ]
  },
  {
   "cell_type": "code",
   "execution_count": 349,
   "metadata": {
    "ExecuteTime": {
     "end_time": "2019-04-12T03:33:15.778203Z",
     "start_time": "2019-04-12T03:33:15.761248Z"
    },
    "scrolled": false
   },
   "outputs": [
    {
     "data": {
      "application/vnd.jupyter.widget-view+json": {
       "model_id": "23cedd63cadd47d69bb8015c3c019be7",
       "version_major": 2,
       "version_minor": 0
      },
      "text/plain": [
       "Button(button_style='primary', description='看计算结果', layout=Layout(left='5%', width='90%'), style=ButtonStyle()…"
      ]
     },
     "metadata": {},
     "output_type": "display_data"
    }
   ],
   "source": [
    "# @description 生成查看结果的btn\n",
    "def generateResultBtn():\n",
    "    global score_result,calcResult\n",
    "    result_btn = widgets.Button(\n",
    "        description='看计算结果',\n",
    "        disabled=False,\n",
    "        button_style='primary',  # 'success', 'info', 'warning', 'danger' or ''\n",
    "        tooltip='填答完毕，提交填答结果',\n",
    "        icon='',\n",
    "        layout=widgets.Layout(left=\"5%\", width=\"90%\"))\n",
    "    result_btn.on_click(calcResult)\n",
    "    return result_btn\n",
    "\n",
    "# 生成保存分数的按钮\n",
    "result_btn = generateResultBtn()\n",
    "result_btn"
   ]
  },
  {
   "cell_type": "markdown",
   "metadata": {
    "heading_collapsed": true
   },
   "source": [
    "# 计算细节"
   ]
  },
  {
   "cell_type": "markdown",
   "metadata": {
    "hidden": true
   },
   "source": [
    "### 基本参数设置"
   ]
  },
  {
   "cell_type": "markdown",
   "metadata": {
    "hidden": true
   },
   "source": [
    "设置正交试验设计中每个样本的变量情况"
   ]
  },
  {
   "cell_type": "code",
   "execution_count": 350,
   "metadata": {
    "ExecuteTime": {
     "end_time": "2019-04-12T03:33:15.789174Z",
     "start_time": "2019-04-12T03:33:15.779200Z"
    },
    "hidden": true
   },
   "outputs": [],
   "source": [
    "# 所有水平列表\n",
    "LEVEL_LIST = [\"A\", \"B\", \"C\", \"D\", \"E\", \"F\"]\n",
    "LEVEL_NAME = [\"颜值\", \"成绩\", \"爱好\", \"年龄\", \"身高\", \"家庭\"]\n",
    "# 所有因素列表\n",
    "FACTORY_LIST = ['A1', 'A2', 'A3', 'B1', 'B2', 'B3',\n",
    "                'C1', 'C2', 'C3', 'D1', 'D2', 'D3',\n",
    "                'E1', 'E2', 'E3', 'F1', 'F2', 'F3']\n",
    "FACTORY_NAME = [\"高\", \"一般\", \"低\", \"优秀\", \"一般\", \"较差\",\n",
    "                \"相似\", \"互补\", \"毫不相关\", \"更大\", \"同级\", \"更小\",\n",
    "                \"身高\", \"相似\", \"更低\", \"更好\", \"一般\", \"不那么好\"]\n",
    "FACTORY_LEVEL_NAME = [\"颜值\", \"颜值\", \"颜值\", \"成绩\", \"成绩\", \"成绩\",\n",
    "                      \"爱好\", \"爱好\", \"爱好\", \"年龄\", \"年龄\", \"年龄\",\n",
    "                      \"身高\", \"身高\", \"身高\", \"家庭\", \"家庭\", \"家庭\"]\n",
    "# 正交试验设计结构\n",
    "CASE_STRUCTURE = ['A2B2C1D2E2F3', 'A1B3C3D2E2F2', 'A3B1C1D2E1F3', 'A3B1C3D2E3F2', 'A2B1C2D3E1F2', 'A1B2C1D3E1F2',\n",
    "                  'A1B1C2D1E2F3', 'A2B1C3D3E2F1', 'A1B2C3D3E3F3', 'A3B3C2D3E3F3', 'A2B3C1D1E3F2', 'A2B2C2D2E3F1',\n",
    "                  'A3B2C3D1E1F1', 'A3B3C1D3E2F1', 'A1B1C1D1E3F1', 'A3B2C2D1E2F2', 'A1B3C2D2E1F1', 'A2B3C3D1E1F3']"
   ]
  },
  {
   "cell_type": "markdown",
   "metadata": {
    "hidden": true
   },
   "source": [
    "给定正交试验样本的得分情况"
   ]
  },
  {
   "cell_type": "code",
   "execution_count": 351,
   "metadata": {
    "ExecuteTime": {
     "end_time": "2019-04-12T03:33:15.796156Z",
     "start_time": "2019-04-12T03:33:15.790171Z"
    },
    "hidden": true
   },
   "outputs": [],
   "source": [
    "MARK = [3, 4, 8, 2, 1, 2, 4, 7, 6, 4, 7, 6, 2, 7, 6, 10, 3, 9]"
   ]
  },
  {
   "cell_type": "markdown",
   "metadata": {
    "hidden": true
   },
   "source": [
    "### 联合分析"
   ]
  },
  {
   "cell_type": "markdown",
   "metadata": {
    "hidden": true
   },
   "source": [
    "1.导入包"
   ]
  },
  {
   "cell_type": "code",
   "execution_count": 352,
   "metadata": {
    "ExecuteTime": {
     "end_time": "2019-04-12T03:33:15.804137Z",
     "start_time": "2019-04-12T03:33:15.797154Z"
    },
    "hidden": true
   },
   "outputs": [],
   "source": [
    "import numpy as np\n",
    "import pandas as pd\n",
    "import statsmodels.api as sm"
   ]
  },
  {
   "cell_type": "markdown",
   "metadata": {
    "hidden": true
   },
   "source": [
    "2.生成初始化个案表"
   ]
  },
  {
   "cell_type": "code",
   "execution_count": 353,
   "metadata": {
    "ExecuteTime": {
     "end_time": "2019-04-12T03:33:15.813109Z",
     "start_time": "2019-04-12T03:33:15.805131Z"
    },
    "hidden": true
   },
   "outputs": [],
   "source": [
    "columns_list = [\"Mark\"]\n",
    "columns_list.extend(FACTORY_LIST)\n",
    "ConjointDummyDF = pd.DataFrame(np.zeros((len(CASE_STRUCTURE), len(FACTORY_LIST) + 1)), columns=columns_list)"
   ]
  },
  {
   "cell_type": "markdown",
   "metadata": {
    "hidden": true
   },
   "source": [
    "3.生成个案得分对应表"
   ]
  },
  {
   "cell_type": "code",
   "execution_count": 354,
   "metadata": {
    "ExecuteTime": {
     "end_time": "2019-04-12T03:33:15.821089Z",
     "start_time": "2019-04-12T03:33:15.814106Z"
    },
    "hidden": true
   },
   "outputs": [],
   "source": [
    "markDF = pd.DataFrame({\"Level\": CASE_STRUCTURE, \"Mark\": MARK})"
   ]
  },
  {
   "cell_type": "markdown",
   "metadata": {
    "hidden": true
   },
   "source": [
    "4.将正交设计分布写入个案表"
   ]
  },
  {
   "cell_type": "code",
   "execution_count": 355,
   "metadata": {
    "ExecuteTime": {
     "end_time": "2019-04-12T03:33:15.842032Z",
     "start_time": "2019-04-12T03:33:15.823083Z"
    },
    "hidden": true
   },
   "outputs": [],
   "source": [
    "for index, row in markDF.iterrows():\n",
    "    factory = []\n",
    "    for i in range(0, len(LEVEL_LIST)):\n",
    "        factory.append(markDF[\"Level\"].loc[index][i * 2:i * 2 + 2])\n",
    "    ConjointDummyDF.loc[index, factory] = 1"
   ]
  },
  {
   "cell_type": "markdown",
   "metadata": {
    "hidden": true
   },
   "source": [
    "5.将得分写入个案表"
   ]
  },
  {
   "cell_type": "code",
   "execution_count": 356,
   "metadata": {
    "ExecuteTime": {
     "end_time": "2019-04-12T03:33:15.853003Z",
     "start_time": "2019-04-12T03:33:15.843029Z"
    },
    "hidden": true
   },
   "outputs": [],
   "source": [
    "ConjointDummyDF[\"Mark\"] = markDF[\"Mark\"]"
   ]
  },
  {
   "cell_type": "markdown",
   "metadata": {
    "hidden": true
   },
   "source": [
    "6.回归计算"
   ]
  },
  {
   "cell_type": "code",
   "execution_count": 357,
   "metadata": {
    "ExecuteTime": {
     "end_time": "2019-04-12T03:33:15.865969Z",
     "start_time": "2019-04-12T03:33:15.854998Z"
    },
    "hidden": true
   },
   "outputs": [],
   "source": [
    "# 计算回归分析的X和Y\n",
    "X = sm.add_constant(ConjointDummyDF[FACTORY_LIST])\n",
    "Y = ConjointDummyDF[\"Mark\"]\n",
    "# 执行回归分析\n",
    "linearRegression = sm.OLS(Y, X).fit()"
   ]
  },
  {
   "cell_type": "markdown",
   "metadata": {
    "hidden": true
   },
   "source": [
    "7.计算效用估计表"
   ]
  },
  {
   "cell_type": "code",
   "execution_count": 358,
   "metadata": {
    "ExecuteTime": {
     "end_time": "2019-04-12T03:33:15.876939Z",
     "start_time": "2019-04-12T03:33:15.866965Z"
    },
    "hidden": true
   },
   "outputs": [],
   "source": [
    "# 生成按组存储的回归系数\n",
    "level_utilities = []\n",
    "for level in LEVEL_LIST:\n",
    "    temp_utility = []\n",
    "    for factory in FACTORY_LIST:\n",
    "        if factory[0] == level:\n",
    "            temp_utility.append(linearRegression.params[factory])\n",
    "    level_utilities.append(temp_utility)"
   ]
  },
  {
   "cell_type": "code",
   "execution_count": 359,
   "metadata": {
    "ExecuteTime": {
     "end_time": "2019-04-12T03:33:15.887910Z",
     "start_time": "2019-04-12T03:33:15.883921Z"
    },
    "hidden": true
   },
   "outputs": [],
   "source": [
    "# 计算各水平的重要性(回归系数极差)\n",
    "importance = []\n",
    "for item in level_utilities:\n",
    "    importance.append(max(item) - min(item))"
   ]
  },
  {
   "cell_type": "code",
   "execution_count": 360,
   "metadata": {
    "ExecuteTime": {
     "end_time": "2019-04-12T03:33:15.896897Z",
     "start_time": "2019-04-12T03:33:15.892896Z"
    },
    "hidden": true
   },
   "outputs": [],
   "source": [
    "# 计算各水平的重要性百分比\n",
    "relative_importance = []\n",
    "for item in importance:\n",
    "    relative_importance.append(100 * round(item / sum(importance), 3))"
   ]
  },
  {
   "cell_type": "code",
   "execution_count": 361,
   "metadata": {
    "ExecuteTime": {
     "end_time": "2019-04-12T03:33:15.914838Z",
     "start_time": "2019-04-12T03:33:15.898883Z"
    },
    "hidden": true,
    "scrolled": false
   },
   "outputs": [],
   "source": [
    "# 计算各因素的平均得分\n",
    "meanMark = []\n",
    "for i in ConjointDummyDF.columns[1:]:\n",
    "    newMeanMark = ConjointDummyDF[\"Mark\"].loc[ConjointDummyDF[i] == 1].mean()\n",
    "    meanMark.append(newMeanMark)"
   ]
  },
  {
   "cell_type": "code",
   "execution_count": 362,
   "metadata": {
    "ExecuteTime": {
     "end_time": "2019-04-12T03:33:15.922817Z",
     "start_time": "2019-04-12T03:33:15.915835Z"
    },
    "hidden": true
   },
   "outputs": [],
   "source": [
    "# 计算各因素平均得分\n",
    "totalMeanMark = sum(meanMark) / len(meanMark)"
   ]
  },
  {
   "cell_type": "code",
   "execution_count": 363,
   "metadata": {
    "ExecuteTime": {
     "end_time": "2019-04-12T03:33:15.931792Z",
     "start_time": "2019-04-12T03:33:15.923814Z"
    },
    "hidden": true
   },
   "outputs": [],
   "source": [
    "# 计算各因素效用值\n",
    "utility = []\n",
    "for i in range(len(meanMark)):\n",
    "    name = sorted(FACTORY_LIST)[i]\n",
    "    utility.append(meanMark[i] - totalMeanMark)"
   ]
  },
  {
   "cell_type": "code",
   "execution_count": 364,
   "metadata": {
    "ExecuteTime": {
     "end_time": "2019-04-12T03:33:15.948747Z",
     "start_time": "2019-04-12T03:33:15.932790Z"
    },
    "hidden": true
   },
   "outputs": [
    {
     "data": {
      "text/html": [
       "<div>\n",
       "<style scoped>\n",
       "    .dataframe tbody tr th:only-of-type {\n",
       "        vertical-align: middle;\n",
       "    }\n",
       "\n",
       "    .dataframe tbody tr th {\n",
       "        vertical-align: top;\n",
       "    }\n",
       "\n",
       "    .dataframe thead th {\n",
       "        text-align: right;\n",
       "    }\n",
       "</style>\n",
       "<table border=\"1\" class=\"dataframe\">\n",
       "  <thead>\n",
       "    <tr style=\"text-align: right;\">\n",
       "      <th></th>\n",
       "      <th>水平</th>\n",
       "      <th>因素</th>\n",
       "      <th>效用值</th>\n",
       "    </tr>\n",
       "  </thead>\n",
       "  <tbody>\n",
       "    <tr>\n",
       "      <th>0</th>\n",
       "      <td>颜值</td>\n",
       "      <td>高</td>\n",
       "      <td>-0.888889</td>\n",
       "    </tr>\n",
       "    <tr>\n",
       "      <th>1</th>\n",
       "      <td>颜值</td>\n",
       "      <td>一般</td>\n",
       "      <td>0.444444</td>\n",
       "    </tr>\n",
       "    <tr>\n",
       "      <th>2</th>\n",
       "      <td>颜值</td>\n",
       "      <td>低</td>\n",
       "      <td>0.444444</td>\n",
       "    </tr>\n",
       "    <tr>\n",
       "      <th>3</th>\n",
       "      <td>成绩</td>\n",
       "      <td>优秀</td>\n",
       "      <td>-0.388889</td>\n",
       "    </tr>\n",
       "    <tr>\n",
       "      <th>4</th>\n",
       "      <td>成绩</td>\n",
       "      <td>一般</td>\n",
       "      <td>-0.222222</td>\n",
       "    </tr>\n",
       "    <tr>\n",
       "      <th>5</th>\n",
       "      <td>成绩</td>\n",
       "      <td>较差</td>\n",
       "      <td>0.611111</td>\n",
       "    </tr>\n",
       "    <tr>\n",
       "      <th>6</th>\n",
       "      <td>爱好</td>\n",
       "      <td>相似</td>\n",
       "      <td>0.444444</td>\n",
       "    </tr>\n",
       "    <tr>\n",
       "      <th>7</th>\n",
       "      <td>爱好</td>\n",
       "      <td>互补</td>\n",
       "      <td>-0.388889</td>\n",
       "    </tr>\n",
       "    <tr>\n",
       "      <th>8</th>\n",
       "      <td>爱好</td>\n",
       "      <td>毫不相关</td>\n",
       "      <td>-0.055556</td>\n",
       "    </tr>\n",
       "    <tr>\n",
       "      <th>9</th>\n",
       "      <td>年龄</td>\n",
       "      <td>更大</td>\n",
       "      <td>1.277778</td>\n",
       "    </tr>\n",
       "    <tr>\n",
       "      <th>10</th>\n",
       "      <td>年龄</td>\n",
       "      <td>同级</td>\n",
       "      <td>-0.722222</td>\n",
       "    </tr>\n",
       "    <tr>\n",
       "      <th>11</th>\n",
       "      <td>年龄</td>\n",
       "      <td>更小</td>\n",
       "      <td>-0.555556</td>\n",
       "    </tr>\n",
       "    <tr>\n",
       "      <th>12</th>\n",
       "      <td>身高</td>\n",
       "      <td>身高</td>\n",
       "      <td>-0.888889</td>\n",
       "    </tr>\n",
       "    <tr>\n",
       "      <th>13</th>\n",
       "      <td>身高</td>\n",
       "      <td>相似</td>\n",
       "      <td>0.777778</td>\n",
       "    </tr>\n",
       "    <tr>\n",
       "      <th>14</th>\n",
       "      <td>身高</td>\n",
       "      <td>更低</td>\n",
       "      <td>0.111111</td>\n",
       "    </tr>\n",
       "    <tr>\n",
       "      <th>15</th>\n",
       "      <td>家庭</td>\n",
       "      <td>更好</td>\n",
       "      <td>0.111111</td>\n",
       "    </tr>\n",
       "    <tr>\n",
       "      <th>16</th>\n",
       "      <td>家庭</td>\n",
       "      <td>一般</td>\n",
       "      <td>-0.722222</td>\n",
       "    </tr>\n",
       "    <tr>\n",
       "      <th>17</th>\n",
       "      <td>家庭</td>\n",
       "      <td>不那么好</td>\n",
       "      <td>0.611111</td>\n",
       "    </tr>\n",
       "  </tbody>\n",
       "</table>\n",
       "</div>"
      ],
      "text/plain": [
       "    水平    因素       效用值\n",
       "0   颜值     高 -0.888889\n",
       "1   颜值    一般  0.444444\n",
       "2   颜值     低  0.444444\n",
       "3   成绩    优秀 -0.388889\n",
       "4   成绩    一般 -0.222222\n",
       "5   成绩    较差  0.611111\n",
       "6   爱好    相似  0.444444\n",
       "7   爱好    互补 -0.388889\n",
       "8   爱好  毫不相关 -0.055556\n",
       "9   年龄    更大  1.277778\n",
       "10  年龄    同级 -0.722222\n",
       "11  年龄    更小 -0.555556\n",
       "12  身高    身高 -0.888889\n",
       "13  身高    相似  0.777778\n",
       "14  身高    更低  0.111111\n",
       "15  家庭    更好  0.111111\n",
       "16  家庭    一般 -0.722222\n",
       "17  家庭  不那么好  0.611111"
      ]
     },
     "execution_count": 364,
     "metadata": {},
     "output_type": "execute_result"
    }
   ],
   "source": [
    "tableUtilities = pd.DataFrame({\"水平\": FACTORY_LEVEL_NAME, \"因素\": FACTORY_NAME, \"效用值\": utility})\n",
    "tableUtilities"
   ]
  },
  {
   "cell_type": "markdown",
   "metadata": {
    "hidden": true
   },
   "source": [
    "8.生成水平重要性表"
   ]
  },
  {
   "cell_type": "code",
   "execution_count": 365,
   "metadata": {
    "ExecuteTime": {
     "end_time": "2019-04-12T03:33:15.961713Z",
     "start_time": "2019-04-12T03:33:15.949744Z"
    },
    "hidden": true,
    "scrolled": true
   },
   "outputs": [
    {
     "data": {
      "text/html": [
       "<div>\n",
       "<style scoped>\n",
       "    .dataframe tbody tr th:only-of-type {\n",
       "        vertical-align: middle;\n",
       "    }\n",
       "\n",
       "    .dataframe tbody tr th {\n",
       "        vertical-align: top;\n",
       "    }\n",
       "\n",
       "    .dataframe thead th {\n",
       "        text-align: right;\n",
       "    }\n",
       "</style>\n",
       "<table border=\"1\" class=\"dataframe\">\n",
       "  <thead>\n",
       "    <tr style=\"text-align: right;\">\n",
       "      <th></th>\n",
       "      <th>水平</th>\n",
       "      <th>重要性</th>\n",
       "    </tr>\n",
       "  </thead>\n",
       "  <tbody>\n",
       "    <tr>\n",
       "      <th>0</th>\n",
       "      <td>颜值</td>\n",
       "      <td>16.3</td>\n",
       "    </tr>\n",
       "    <tr>\n",
       "      <th>1</th>\n",
       "      <td>成绩</td>\n",
       "      <td>12.2</td>\n",
       "    </tr>\n",
       "    <tr>\n",
       "      <th>2</th>\n",
       "      <td>爱好</td>\n",
       "      <td>10.2</td>\n",
       "    </tr>\n",
       "    <tr>\n",
       "      <th>3</th>\n",
       "      <td>年龄</td>\n",
       "      <td>24.5</td>\n",
       "    </tr>\n",
       "    <tr>\n",
       "      <th>4</th>\n",
       "      <td>身高</td>\n",
       "      <td>20.4</td>\n",
       "    </tr>\n",
       "    <tr>\n",
       "      <th>5</th>\n",
       "      <td>家庭</td>\n",
       "      <td>16.3</td>\n",
       "    </tr>\n",
       "  </tbody>\n",
       "</table>\n",
       "</div>"
      ],
      "text/plain": [
       "   水平   重要性\n",
       "0  颜值  16.3\n",
       "1  成绩  12.2\n",
       "2  爱好  10.2\n",
       "3  年龄  24.5\n",
       "4  身高  20.4\n",
       "5  家庭  16.3"
      ]
     },
     "execution_count": 365,
     "metadata": {},
     "output_type": "execute_result"
    }
   ],
   "source": [
    "tableImportance = pd.DataFrame({\"水平\": LEVEL_NAME, \"重要性\": relative_importance})\n",
    "tableImportance"
   ]
  },
  {
   "cell_type": "code",
   "execution_count": null,
   "metadata": {
    "hidden": true
   },
   "outputs": [],
   "source": []
  }
 ],
 "metadata": {
  "hide_input": true,
  "kernelspec": {
   "display_name": "Python 3",
   "language": "python",
   "name": "python3"
  },
  "language_info": {
   "codemirror_mode": {
    "name": "ipython",
    "version": 3
   },
   "file_extension": ".py",
   "mimetype": "text/x-python",
   "name": "python",
   "nbconvert_exporter": "python",
   "pygments_lexer": "ipython3",
   "version": "3.7.1"
  },
  "toc": {
   "base_numbering": 1,
   "nav_menu": {},
   "number_sections": false,
   "sideBar": true,
   "skip_h1_title": false,
   "title_cell": "目录",
   "title_sidebar": "Contents",
   "toc_cell": true,
   "toc_position": {
    "height": "calc(100% - 180px)",
    "left": "10px",
    "top": "150px",
    "width": "343px"
   },
   "toc_section_display": true,
   "toc_window_display": true
  },
  "varInspector": {
   "cols": {
    "lenName": 16,
    "lenType": 16,
    "lenVar": 40
   },
   "kernels_config": {
    "python": {
     "delete_cmd_postfix": "",
     "delete_cmd_prefix": "del ",
     "library": "var_list.py",
     "varRefreshCmd": "print(var_dic_list())"
    },
    "r": {
     "delete_cmd_postfix": ") ",
     "delete_cmd_prefix": "rm(",
     "library": "var_list.r",
     "varRefreshCmd": "cat(var_dic_list()) "
    }
   },
   "position": {
    "height": "458.391px",
    "left": "1396px",
    "right": "20px",
    "top": "175px",
    "width": "477px"
   },
   "types_to_exclude": [
    "module",
    "function",
    "builtin_function_or_method",
    "instance",
    "_Feature"
   ],
   "window_display": false
  }
 },
 "nbformat": 4,
 "nbformat_minor": 2
}
